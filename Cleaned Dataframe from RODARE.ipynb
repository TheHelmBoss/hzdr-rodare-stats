{
 "cells": [
  {
   "cell_type": "code",
   "execution_count": 1,
   "metadata": {},
   "outputs": [],
   "source": [
    "# Bibliotheken abrufen\n",
    "import json\n",
    "import pandas as pd\n",
    "import requests\n",
    "import numpy as np\n",
    "import matplotlib.pyplot as plt\n",
    "import seaborn as sns\n",
    "%matplotlib inline\n",
    "sns.set()"
   ]
  },
  {
   "cell_type": "code",
   "execution_count": 2,
   "metadata": {},
   "outputs": [],
   "source": [
    "# URL als Variable definieren\n",
    "url = \"https://rodare.hzdr.de/api/records/?page=1&sort=mostrecent&size=1000\""
   ]
  },
  {
   "cell_type": "code",
   "execution_count": 3,
   "metadata": {},
   "outputs": [],
   "source": [
    "# Funktion um Inhalt aus URL in r zu speichern\n",
    "r = requests.get(url)"
   ]
  },
  {
   "cell_type": "code",
   "execution_count": 4,
   "metadata": {},
   "outputs": [],
   "source": [
    "# JSON lesen lassen\n",
    "json = r.json()"
   ]
  },
  {
   "cell_type": "code",
   "execution_count": 5,
   "metadata": {},
   "outputs": [],
   "source": [
    "# Dictionary anlegen und Keys der gewünschten Werte definieren\n",
    "Meta_dict = {}\n",
    "Meta_dict['type'] = []\n",
    "Meta_dict['license'] = []\n",
    "Meta_dict['rel_id'] = []\n",
    "Meta_dict['pub_date'] = []\n",
    "Meta_dict['Access_Right'] = []\n",
    "Meta_dict['Downloads'] = []\n",
    "Meta_dict['unique_downloads'] = []\n",
    "Meta_dict['unique_views'] = []\n",
    "Meta_dict['views'] = []\n",
    "Meta_dict['isreferencedby'] = []\n",
    "Meta_dict['doi'] = []"
   ]
  },
  {
   "cell_type": "code",
   "execution_count": 6,
   "metadata": {},
   "outputs": [],
   "source": [
    "# Definition einer Teilliste und for-Schleife, um den type der Records aus allen Einträgen auszulesen und aufzulisten\n",
    "for record in json['hits']['hits']:\n",
    "    Meta_dict['type'].append(record['metadata']['resource_type']['type'])\n",
    "    if 'license' in record['metadata'].keys():\n",
    "        Meta_dict['license'].append(record['metadata']['license']['id'])\n",
    "    else:\n",
    "        Meta_dict['license'].append('NaN')\n",
    "# Neue Iteration in Liste der related identifier anlegen und dort die Bedigungen für das Auslesen definieren\n",
    "    count_id = 0\n",
    "    counter_2 = 0\n",
    "    for identifier in record['metadata']['related_identifiers']:\n",
    "        #print(identifier['relation'])\n",
    "        if identifier['relation'] == 'isReferencedBy' and 'hzdr' in identifier['identifier']:\n",
    "            count_id = count_id + 1\n",
    "        if identifier['relation'] == 'isReferencedBy':\n",
    "            counter_2 = counter_2 + 1\n",
    "        #print(counter_2)\n",
    "    Meta_dict['isreferencedby'].append(counter_2)\n",
    "    Meta_dict['rel_id'].append(count_id)\n",
    "    Meta_dict['pub_date'].append(record['created'][:10])\n",
    "    Meta_dict['Access_Right'].append(record['metadata']['access_right'])\n",
    "    Meta_dict['Downloads'].append(int(record['stats']['downloads']))\n",
    "    Meta_dict['unique_downloads'].append(int(record['stats']['unique_downloads']))\n",
    "    Meta_dict['unique_views'].append(int(record['stats']['unique_views']))\n",
    "    Meta_dict['views'].append(int(record['stats']['views']))\n",
    "    Meta_dict['doi'].append(record['links']['doi'])"
   ]
  },
  {
   "cell_type": "code",
   "execution_count": 7,
   "metadata": {},
   "outputs": [],
   "source": [
    "# https://datatofish.com/select-rows-pandas-dataframe/"
   ]
  },
  {
   "cell_type": "code",
   "execution_count": 8,
   "metadata": {},
   "outputs": [],
   "source": [
    "#for record in json['hits']['hits']:\n",
    "#    counter_2 = 0\n",
    "#    for identifier in record['metadata']['related_identifiers']:\n",
    "#        if identifier['relation'] == 'isReferencedBy':\n",
    "#            counter_2 = counter_2 + 1\n",
    "#    Meta_dict['isreferencedby'].append(counter_2)"
   ]
  },
  {
   "cell_type": "code",
   "execution_count": 9,
   "metadata": {},
   "outputs": [
    {
     "data": {
      "text/plain": [
       "168"
      ]
     },
     "execution_count": 9,
     "metadata": {},
     "output_type": "execute_result"
    }
   ],
   "source": [
    "sum(Meta_dict['isreferencedby'])"
   ]
  },
  {
   "cell_type": "code",
   "execution_count": 10,
   "metadata": {},
   "outputs": [],
   "source": [
    "# Umwandlung des Disctionaries in ein DataFrame \n",
    "df = pd.DataFrame(Meta_dict)"
   ]
  },
  {
   "cell_type": "code",
   "execution_count": 11,
   "metadata": {},
   "outputs": [
    {
     "data": {
      "text/plain": [
       "162"
      ]
     },
     "execution_count": 11,
     "metadata": {},
     "output_type": "execute_result"
    }
   ],
   "source": [
    "sum(df.isreferencedby == 1)"
   ]
  },
  {
   "cell_type": "code",
   "execution_count": 12,
   "metadata": {},
   "outputs": [
    {
     "data": {
      "text/plain": [
       "3"
      ]
     },
     "execution_count": 12,
     "metadata": {},
     "output_type": "execute_result"
    }
   ],
   "source": [
    "sum(df.isreferencedby > 1)"
   ]
  },
  {
   "cell_type": "code",
   "execution_count": 13,
   "metadata": {},
   "outputs": [
    {
     "data": {
      "text/plain": [
       "207"
      ]
     },
     "execution_count": 13,
     "metadata": {},
     "output_type": "execute_result"
    }
   ],
   "source": [
    "sum(df.type == 'dataset')"
   ]
  },
  {
   "cell_type": "code",
   "execution_count": 14,
   "metadata": {},
   "outputs": [
    {
     "data": {
      "text/html": [
       "<div>\n",
       "<style scoped>\n",
       "    .dataframe tbody tr th:only-of-type {\n",
       "        vertical-align: middle;\n",
       "    }\n",
       "\n",
       "    .dataframe tbody tr th {\n",
       "        vertical-align: top;\n",
       "    }\n",
       "\n",
       "    .dataframe thead th {\n",
       "        text-align: right;\n",
       "    }\n",
       "</style>\n",
       "<table border=\"1\" class=\"dataframe\">\n",
       "  <thead>\n",
       "    <tr style=\"text-align: right;\">\n",
       "      <th></th>\n",
       "      <th>type</th>\n",
       "      <th>license</th>\n",
       "      <th>rel_id</th>\n",
       "      <th>pub_date</th>\n",
       "      <th>Access_Right</th>\n",
       "      <th>Downloads</th>\n",
       "      <th>unique_downloads</th>\n",
       "      <th>unique_views</th>\n",
       "      <th>views</th>\n",
       "      <th>isreferencedby</th>\n",
       "      <th>doi</th>\n",
       "    </tr>\n",
       "  </thead>\n",
       "  <tbody>\n",
       "    <tr>\n",
       "      <td>0</td>\n",
       "      <td>other</td>\n",
       "      <td>CC-BY-4.0</td>\n",
       "      <td>0</td>\n",
       "      <td>2021-08-16</td>\n",
       "      <td>open</td>\n",
       "      <td>0</td>\n",
       "      <td>0</td>\n",
       "      <td>0</td>\n",
       "      <td>0</td>\n",
       "      <td>0</td>\n",
       "      <td>https://doi.org/10.14278/rodare.1117</td>\n",
       "    </tr>\n",
       "    <tr>\n",
       "      <td>1</td>\n",
       "      <td>other</td>\n",
       "      <td>CC-BY-4.0</td>\n",
       "      <td>0</td>\n",
       "      <td>2021-08-16</td>\n",
       "      <td>open</td>\n",
       "      <td>0</td>\n",
       "      <td>0</td>\n",
       "      <td>0</td>\n",
       "      <td>0</td>\n",
       "      <td>0</td>\n",
       "      <td>https://doi.org/10.14278/rodare.1115</td>\n",
       "    </tr>\n",
       "    <tr>\n",
       "      <td>2</td>\n",
       "      <td>dataset</td>\n",
       "      <td>CC-BY-4.0</td>\n",
       "      <td>1</td>\n",
       "      <td>2021-08-12</td>\n",
       "      <td>open</td>\n",
       "      <td>0</td>\n",
       "      <td>0</td>\n",
       "      <td>4</td>\n",
       "      <td>4</td>\n",
       "      <td>1</td>\n",
       "      <td>https://doi.org/10.14278/rodare.1111</td>\n",
       "    </tr>\n",
       "    <tr>\n",
       "      <td>3</td>\n",
       "      <td>dataset</td>\n",
       "      <td>CC-BY-4.0</td>\n",
       "      <td>1</td>\n",
       "      <td>2021-08-09</td>\n",
       "      <td>open</td>\n",
       "      <td>2</td>\n",
       "      <td>2</td>\n",
       "      <td>18</td>\n",
       "      <td>24</td>\n",
       "      <td>1</td>\n",
       "      <td>https://doi.org/10.14278/rodare.1098</td>\n",
       "    </tr>\n",
       "    <tr>\n",
       "      <td>4</td>\n",
       "      <td>dataset</td>\n",
       "      <td>CC-BY-4.0</td>\n",
       "      <td>0</td>\n",
       "      <td>2021-08-09</td>\n",
       "      <td>open</td>\n",
       "      <td>0</td>\n",
       "      <td>0</td>\n",
       "      <td>5</td>\n",
       "      <td>5</td>\n",
       "      <td>0</td>\n",
       "      <td>https://doi.org/10.14278/rodare.1105</td>\n",
       "    </tr>\n",
       "    <tr>\n",
       "      <td>...</td>\n",
       "      <td>...</td>\n",
       "      <td>...</td>\n",
       "      <td>...</td>\n",
       "      <td>...</td>\n",
       "      <td>...</td>\n",
       "      <td>...</td>\n",
       "      <td>...</td>\n",
       "      <td>...</td>\n",
       "      <td>...</td>\n",
       "      <td>...</td>\n",
       "      <td>...</td>\n",
       "    </tr>\n",
       "    <tr>\n",
       "      <td>267</td>\n",
       "      <td>dataset</td>\n",
       "      <td>CC-BY-SA-4.0</td>\n",
       "      <td>0</td>\n",
       "      <td>2018-05-09</td>\n",
       "      <td>open</td>\n",
       "      <td>23</td>\n",
       "      <td>22</td>\n",
       "      <td>340</td>\n",
       "      <td>402</td>\n",
       "      <td>0</td>\n",
       "      <td>https://doi.org/10.14278/rodare.24</td>\n",
       "    </tr>\n",
       "    <tr>\n",
       "      <td>268</td>\n",
       "      <td>dataset</td>\n",
       "      <td>CC-BY-4.0</td>\n",
       "      <td>0</td>\n",
       "      <td>2018-04-25</td>\n",
       "      <td>open</td>\n",
       "      <td>90</td>\n",
       "      <td>33</td>\n",
       "      <td>351</td>\n",
       "      <td>425</td>\n",
       "      <td>0</td>\n",
       "      <td>https://doi.org/10.14278/rodare.16</td>\n",
       "    </tr>\n",
       "    <tr>\n",
       "      <td>269</td>\n",
       "      <td>dataset</td>\n",
       "      <td>CC-BY-4.0</td>\n",
       "      <td>0</td>\n",
       "      <td>2018-04-12</td>\n",
       "      <td>open</td>\n",
       "      <td>23</td>\n",
       "      <td>18</td>\n",
       "      <td>287</td>\n",
       "      <td>344</td>\n",
       "      <td>0</td>\n",
       "      <td>https://doi.org/10.14278/rodare.8</td>\n",
       "    </tr>\n",
       "    <tr>\n",
       "      <td>270</td>\n",
       "      <td>dataset</td>\n",
       "      <td>NaN</td>\n",
       "      <td>0</td>\n",
       "      <td>2018-03-20</td>\n",
       "      <td>restricted</td>\n",
       "      <td>0</td>\n",
       "      <td>0</td>\n",
       "      <td>257</td>\n",
       "      <td>290</td>\n",
       "      <td>0</td>\n",
       "      <td>https://doi.org/10.14278/rodare.4</td>\n",
       "    </tr>\n",
       "    <tr>\n",
       "      <td>271</td>\n",
       "      <td>image</td>\n",
       "      <td>CC-BY-4.0</td>\n",
       "      <td>0</td>\n",
       "      <td>2018-02-28</td>\n",
       "      <td>open</td>\n",
       "      <td>433</td>\n",
       "      <td>250</td>\n",
       "      <td>412</td>\n",
       "      <td>504</td>\n",
       "      <td>0</td>\n",
       "      <td>https://doi.org/10.14278/rodare.2</td>\n",
       "    </tr>\n",
       "  </tbody>\n",
       "</table>\n",
       "<p>272 rows × 11 columns</p>\n",
       "</div>"
      ],
      "text/plain": [
       "        type       license  rel_id    pub_date Access_Right  Downloads  \\\n",
       "0      other     CC-BY-4.0       0  2021-08-16         open          0   \n",
       "1      other     CC-BY-4.0       0  2021-08-16         open          0   \n",
       "2    dataset     CC-BY-4.0       1  2021-08-12         open          0   \n",
       "3    dataset     CC-BY-4.0       1  2021-08-09         open          2   \n",
       "4    dataset     CC-BY-4.0       0  2021-08-09         open          0   \n",
       "..       ...           ...     ...         ...          ...        ...   \n",
       "267  dataset  CC-BY-SA-4.0       0  2018-05-09         open         23   \n",
       "268  dataset     CC-BY-4.0       0  2018-04-25         open         90   \n",
       "269  dataset     CC-BY-4.0       0  2018-04-12         open         23   \n",
       "270  dataset           NaN       0  2018-03-20   restricted          0   \n",
       "271    image     CC-BY-4.0       0  2018-02-28         open        433   \n",
       "\n",
       "     unique_downloads  unique_views  views  isreferencedby  \\\n",
       "0                   0             0      0               0   \n",
       "1                   0             0      0               0   \n",
       "2                   0             4      4               1   \n",
       "3                   2            18     24               1   \n",
       "4                   0             5      5               0   \n",
       "..                ...           ...    ...             ...   \n",
       "267                22           340    402               0   \n",
       "268                33           351    425               0   \n",
       "269                18           287    344               0   \n",
       "270                 0           257    290               0   \n",
       "271               250           412    504               0   \n",
       "\n",
       "                                      doi  \n",
       "0    https://doi.org/10.14278/rodare.1117  \n",
       "1    https://doi.org/10.14278/rodare.1115  \n",
       "2    https://doi.org/10.14278/rodare.1111  \n",
       "3    https://doi.org/10.14278/rodare.1098  \n",
       "4    https://doi.org/10.14278/rodare.1105  \n",
       "..                                    ...  \n",
       "267    https://doi.org/10.14278/rodare.24  \n",
       "268    https://doi.org/10.14278/rodare.16  \n",
       "269     https://doi.org/10.14278/rodare.8  \n",
       "270     https://doi.org/10.14278/rodare.4  \n",
       "271     https://doi.org/10.14278/rodare.2  \n",
       "\n",
       "[272 rows x 11 columns]"
      ]
     },
     "execution_count": 14,
     "metadata": {},
     "output_type": "execute_result"
    }
   ],
   "source": [
    "df"
   ]
  },
  {
   "cell_type": "code",
   "execution_count": 15,
   "metadata": {},
   "outputs": [
    {
     "data": {
      "text/plain": [
       "type                                               other\n",
       "license                                        CC-BY-4.0\n",
       "rel_id                                                 0\n",
       "pub_date                                      2021-08-16\n",
       "Access_Right                                        open\n",
       "Downloads                                              0\n",
       "unique_downloads                                       0\n",
       "unique_views                                           0\n",
       "views                                                  0\n",
       "isreferencedby                                         0\n",
       "doi                 https://doi.org/10.14278/rodare.1117\n",
       "Name: 0, dtype: object"
      ]
     },
     "execution_count": 15,
     "metadata": {},
     "output_type": "execute_result"
    }
   ],
   "source": [
    "df.iloc[0]"
   ]
  },
  {
   "cell_type": "code",
   "execution_count": 16,
   "metadata": {},
   "outputs": [
    {
     "data": {
      "text/plain": [
       "'https://doi.org/10.14278/rodare.1117'"
      ]
     },
     "execution_count": 16,
     "metadata": {},
     "output_type": "execute_result"
    }
   ],
   "source": [
    "df.iloc[0][10]"
   ]
  },
  {
   "cell_type": "code",
   "execution_count": 17,
   "metadata": {},
   "outputs": [
    {
     "name": "stdout",
     "output_type": "stream",
     "text": [
      "Es sind 1265 Tage seit der Inbetriebnahme von RODARE vergangen\n"
     ]
    }
   ],
   "source": [
    "# https://www.python-lernen.de/python-modul-datetime.htm\n",
    "from datetime import date\n",
    "aktuellesDatum = date.today()\n",
    "rodare_pub = date(2018,2,28)\n",
    "zeitraum = aktuellesDatum - rodare_pub\n",
    "print(\"Es sind\", zeitraum.days, \"Tage seit der Inbetriebnahme von RODARE vergangen\")\n",
    "zr = zeitraum.days\n",
    "ds = zr/len(df)\n",
    "lpd = df['Downloads'].sum()/zr"
   ]
  },
  {
   "cell_type": "code",
   "execution_count": 18,
   "metadata": {},
   "outputs": [
    {
     "name": "stdout",
     "output_type": "stream",
     "text": [
      "Stand (16.08.2021) - Seit Inbetriebnahme von RODARE wurden aus der Gesamtheit von 272 Records 18927 Downloads getätigt.\n"
     ]
    }
   ],
   "source": [
    "print('Stand ('+ aktuellesDatum.strftime(\"%d.%m.%Y\") +\\\n",
    "      ') - Seit Inbetriebnahme von RODARE wurden aus der Gesamtheit von ' + str(len(df)) \\\n",
    "      + ' Records ' + str(df['Downloads'].sum()) + ' Downloads getätigt.')"
   ]
  },
  {
   "cell_type": "code",
   "execution_count": 19,
   "metadata": {},
   "outputs": [
    {
     "name": "stdout",
     "output_type": "stream",
     "text": [
      "16.08.2021\n"
     ]
    }
   ],
   "source": [
    "print(aktuellesDatum.strftime(\"%d.%m.%Y\"))"
   ]
  },
  {
   "cell_type": "code",
   "execution_count": 20,
   "metadata": {},
   "outputs": [
    {
     "name": "stdout",
     "output_type": "stream",
     "text": [
      "Seit der Inbetriebnahme von RODARE sind 1265 Tage vergangen. \n",
      "Das entspricht eine Veröffentlichung alle 4.7 Tage und 15.0 Downloads pro Tag.\n"
     ]
    }
   ],
   "source": [
    "print('Seit der Inbetriebnahme von RODARE sind', zeitraum.days , \n",
    "      'Tage vergangen. \\nDas entspricht eine Veröffentlichung alle', round(ds,1) ,\n",
    "      'Tage und' ,round(lpd,1), 'Downloads pro Tag.')"
   ]
  },
  {
   "cell_type": "code",
   "execution_count": 21,
   "metadata": {
    "scrolled": true
   },
   "outputs": [
    {
     "data": {
      "text/html": [
       "<div>\n",
       "<style scoped>\n",
       "    .dataframe tbody tr th:only-of-type {\n",
       "        vertical-align: middle;\n",
       "    }\n",
       "\n",
       "    .dataframe tbody tr th {\n",
       "        vertical-align: top;\n",
       "    }\n",
       "\n",
       "    .dataframe thead th {\n",
       "        text-align: right;\n",
       "    }\n",
       "</style>\n",
       "<table border=\"1\" class=\"dataframe\">\n",
       "  <thead>\n",
       "    <tr style=\"text-align: right;\">\n",
       "      <th></th>\n",
       "      <th>type</th>\n",
       "      <th>license</th>\n",
       "      <th>rel_id</th>\n",
       "      <th>pub_date</th>\n",
       "      <th>Access_Right</th>\n",
       "      <th>Downloads</th>\n",
       "      <th>unique_downloads</th>\n",
       "      <th>unique_views</th>\n",
       "      <th>views</th>\n",
       "      <th>isreferencedby</th>\n",
       "      <th>doi</th>\n",
       "    </tr>\n",
       "  </thead>\n",
       "  <tbody>\n",
       "    <tr>\n",
       "      <td>count</td>\n",
       "      <td>272</td>\n",
       "      <td>272</td>\n",
       "      <td>272.000000</td>\n",
       "      <td>272</td>\n",
       "      <td>272</td>\n",
       "      <td>272.000000</td>\n",
       "      <td>272.000000</td>\n",
       "      <td>272.000000</td>\n",
       "      <td>272.000000</td>\n",
       "      <td>272.000000</td>\n",
       "      <td>272</td>\n",
       "    </tr>\n",
       "    <tr>\n",
       "      <td>unique</td>\n",
       "      <td>6</td>\n",
       "      <td>10</td>\n",
       "      <td>NaN</td>\n",
       "      <td>178</td>\n",
       "      <td>4</td>\n",
       "      <td>NaN</td>\n",
       "      <td>NaN</td>\n",
       "      <td>NaN</td>\n",
       "      <td>NaN</td>\n",
       "      <td>NaN</td>\n",
       "      <td>272</td>\n",
       "    </tr>\n",
       "    <tr>\n",
       "      <td>top</td>\n",
       "      <td>dataset</td>\n",
       "      <td>CC-BY-4.0</td>\n",
       "      <td>NaN</td>\n",
       "      <td>2021-03-10</td>\n",
       "      <td>open</td>\n",
       "      <td>NaN</td>\n",
       "      <td>NaN</td>\n",
       "      <td>NaN</td>\n",
       "      <td>NaN</td>\n",
       "      <td>NaN</td>\n",
       "      <td>https://doi.org/10.14278/rodare.69</td>\n",
       "    </tr>\n",
       "    <tr>\n",
       "      <td>freq</td>\n",
       "      <td>207</td>\n",
       "      <td>127</td>\n",
       "      <td>NaN</td>\n",
       "      <td>18</td>\n",
       "      <td>155</td>\n",
       "      <td>NaN</td>\n",
       "      <td>NaN</td>\n",
       "      <td>NaN</td>\n",
       "      <td>NaN</td>\n",
       "      <td>NaN</td>\n",
       "      <td>1</td>\n",
       "    </tr>\n",
       "    <tr>\n",
       "      <td>mean</td>\n",
       "      <td>NaN</td>\n",
       "      <td>NaN</td>\n",
       "      <td>0.610294</td>\n",
       "      <td>NaN</td>\n",
       "      <td>NaN</td>\n",
       "      <td>69.584559</td>\n",
       "      <td>26.397059</td>\n",
       "      <td>96.724265</td>\n",
       "      <td>139.636029</td>\n",
       "      <td>0.617647</td>\n",
       "      <td>NaN</td>\n",
       "    </tr>\n",
       "    <tr>\n",
       "      <td>std</td>\n",
       "      <td>NaN</td>\n",
       "      <td>NaN</td>\n",
       "      <td>0.496078</td>\n",
       "      <td>NaN</td>\n",
       "      <td>NaN</td>\n",
       "      <td>239.561808</td>\n",
       "      <td>73.190524</td>\n",
       "      <td>101.814322</td>\n",
       "      <td>129.176629</td>\n",
       "      <td>0.509088</td>\n",
       "      <td>NaN</td>\n",
       "    </tr>\n",
       "    <tr>\n",
       "      <td>min</td>\n",
       "      <td>NaN</td>\n",
       "      <td>NaN</td>\n",
       "      <td>0.000000</td>\n",
       "      <td>NaN</td>\n",
       "      <td>NaN</td>\n",
       "      <td>0.000000</td>\n",
       "      <td>0.000000</td>\n",
       "      <td>0.000000</td>\n",
       "      <td>0.000000</td>\n",
       "      <td>0.000000</td>\n",
       "      <td>NaN</td>\n",
       "    </tr>\n",
       "    <tr>\n",
       "      <td>25%</td>\n",
       "      <td>NaN</td>\n",
       "      <td>NaN</td>\n",
       "      <td>0.000000</td>\n",
       "      <td>NaN</td>\n",
       "      <td>NaN</td>\n",
       "      <td>0.000000</td>\n",
       "      <td>0.000000</td>\n",
       "      <td>39.750000</td>\n",
       "      <td>62.750000</td>\n",
       "      <td>0.000000</td>\n",
       "      <td>NaN</td>\n",
       "    </tr>\n",
       "    <tr>\n",
       "      <td>50%</td>\n",
       "      <td>NaN</td>\n",
       "      <td>NaN</td>\n",
       "      <td>1.000000</td>\n",
       "      <td>NaN</td>\n",
       "      <td>NaN</td>\n",
       "      <td>5.000000</td>\n",
       "      <td>4.000000</td>\n",
       "      <td>67.500000</td>\n",
       "      <td>106.500000</td>\n",
       "      <td>1.000000</td>\n",
       "      <td>NaN</td>\n",
       "    </tr>\n",
       "    <tr>\n",
       "      <td>75%</td>\n",
       "      <td>NaN</td>\n",
       "      <td>NaN</td>\n",
       "      <td>1.000000</td>\n",
       "      <td>NaN</td>\n",
       "      <td>NaN</td>\n",
       "      <td>37.000000</td>\n",
       "      <td>20.000000</td>\n",
       "      <td>101.750000</td>\n",
       "      <td>160.000000</td>\n",
       "      <td>1.000000</td>\n",
       "      <td>NaN</td>\n",
       "    </tr>\n",
       "    <tr>\n",
       "      <td>max</td>\n",
       "      <td>NaN</td>\n",
       "      <td>NaN</td>\n",
       "      <td>2.000000</td>\n",
       "      <td>NaN</td>\n",
       "      <td>NaN</td>\n",
       "      <td>2218.000000</td>\n",
       "      <td>910.000000</td>\n",
       "      <td>697.000000</td>\n",
       "      <td>848.000000</td>\n",
       "      <td>2.000000</td>\n",
       "      <td>NaN</td>\n",
       "    </tr>\n",
       "  </tbody>\n",
       "</table>\n",
       "</div>"
      ],
      "text/plain": [
       "           type    license      rel_id    pub_date Access_Right    Downloads  \\\n",
       "count       272        272  272.000000         272          272   272.000000   \n",
       "unique        6         10         NaN         178            4          NaN   \n",
       "top     dataset  CC-BY-4.0         NaN  2021-03-10         open          NaN   \n",
       "freq        207        127         NaN          18          155          NaN   \n",
       "mean        NaN        NaN    0.610294         NaN          NaN    69.584559   \n",
       "std         NaN        NaN    0.496078         NaN          NaN   239.561808   \n",
       "min         NaN        NaN    0.000000         NaN          NaN     0.000000   \n",
       "25%         NaN        NaN    0.000000         NaN          NaN     0.000000   \n",
       "50%         NaN        NaN    1.000000         NaN          NaN     5.000000   \n",
       "75%         NaN        NaN    1.000000         NaN          NaN    37.000000   \n",
       "max         NaN        NaN    2.000000         NaN          NaN  2218.000000   \n",
       "\n",
       "        unique_downloads  unique_views       views  isreferencedby  \\\n",
       "count         272.000000    272.000000  272.000000      272.000000   \n",
       "unique               NaN           NaN         NaN             NaN   \n",
       "top                  NaN           NaN         NaN             NaN   \n",
       "freq                 NaN           NaN         NaN             NaN   \n",
       "mean           26.397059     96.724265  139.636029        0.617647   \n",
       "std            73.190524    101.814322  129.176629        0.509088   \n",
       "min             0.000000      0.000000    0.000000        0.000000   \n",
       "25%             0.000000     39.750000   62.750000        0.000000   \n",
       "50%             4.000000     67.500000  106.500000        1.000000   \n",
       "75%            20.000000    101.750000  160.000000        1.000000   \n",
       "max           910.000000    697.000000  848.000000        2.000000   \n",
       "\n",
       "                                       doi  \n",
       "count                                  272  \n",
       "unique                                 272  \n",
       "top     https://doi.org/10.14278/rodare.69  \n",
       "freq                                     1  \n",
       "mean                                   NaN  \n",
       "std                                    NaN  \n",
       "min                                    NaN  \n",
       "25%                                    NaN  \n",
       "50%                                    NaN  \n",
       "75%                                    NaN  \n",
       "max                                    NaN  "
      ]
     },
     "execution_count": 21,
     "metadata": {},
     "output_type": "execute_result"
    }
   ],
   "source": [
    "df.describe(include='all')"
   ]
  },
  {
   "cell_type": "code",
   "execution_count": 22,
   "metadata": {},
   "outputs": [],
   "source": [
    "# Berechung aller Downloads für Open Access"
   ]
  },
  {
   "cell_type": "code",
   "execution_count": 23,
   "metadata": {},
   "outputs": [],
   "source": [
    "# Berechnung von Werten nach Bestimmung von Bedingungen"
   ]
  },
  {
   "cell_type": "code",
   "execution_count": 24,
   "metadata": {},
   "outputs": [
    {
     "data": {
      "text/plain": [
       "'https://doi.org/10.14278/rodare.915'"
      ]
     },
     "execution_count": 24,
     "metadata": {},
     "output_type": "execute_result"
    }
   ],
   "source": [
    "df.iloc[df.Downloads.idxmax(), 10]"
   ]
  },
  {
   "cell_type": "code",
   "execution_count": 25,
   "metadata": {},
   "outputs": [
    {
     "data": {
      "text/plain": [
       "(272, 11)"
      ]
     },
     "execution_count": 25,
     "metadata": {},
     "output_type": "execute_result"
    }
   ],
   "source": [
    "df.shape"
   ]
  },
  {
   "cell_type": "code",
   "execution_count": 26,
   "metadata": {},
   "outputs": [],
   "source": [
    "# sorted_df = df.sort_values(by='publication_date', ascending=False)\n",
    "# print(sorted_df)"
   ]
  },
  {
   "cell_type": "code",
   "execution_count": 27,
   "metadata": {},
   "outputs": [],
   "source": [
    "# df['publication_date'] >= '2021-01-01'"
   ]
  },
  {
   "cell_type": "code",
   "execution_count": 28,
   "metadata": {
    "scrolled": true
   },
   "outputs": [
    {
     "data": {
      "text/plain": [
       "array([False, False, False, False, False, False, False, False, False,\n",
       "       False, False, False, False, False, False, False, False, False,\n",
       "       False, False, False, False, False, False, False, False, False,\n",
       "       False, False, False, False, False, False, False, False, False,\n",
       "       False, False, False, False, False, False, False, False, False,\n",
       "       False, False, False, False, False, False, False, False, False,\n",
       "       False, False,  True,  True,  True,  True,  True,  True,  True,\n",
       "        True,  True,  True,  True,  True,  True,  True,  True,  True,\n",
       "        True,  True,  True,  True,  True,  True,  True,  True,  True,\n",
       "        True,  True,  True,  True,  True,  True,  True,  True,  True,\n",
       "        True,  True,  True,  True,  True,  True,  True,  True,  True,\n",
       "        True,  True,  True,  True,  True,  True,  True,  True,  True,\n",
       "        True,  True,  True,  True,  True,  True,  True,  True,  True,\n",
       "        True,  True, False, False, False, False, False, False, False,\n",
       "       False, False, False, False, False, False, False, False, False,\n",
       "       False, False, False, False, False, False, False, False, False,\n",
       "       False, False, False, False, False, False, False, False, False,\n",
       "       False, False, False, False, False, False, False, False, False,\n",
       "       False, False, False, False, False, False, False, False, False,\n",
       "       False, False, False, False, False, False, False, False, False,\n",
       "       False, False, False, False, False, False, False, False, False,\n",
       "       False, False, False, False, False, False, False, False, False,\n",
       "       False, False, False, False, False, False, False, False, False,\n",
       "       False, False, False, False, False, False, False, False, False,\n",
       "       False, False, False, False, False, False, False, False, False,\n",
       "       False, False, False, False, False, False, False, False, False,\n",
       "       False, False, False, False, False, False, False, False, False,\n",
       "       False, False, False, False, False, False, False, False, False,\n",
       "       False, False, False, False, False, False, False, False, False,\n",
       "       False, False, False, False, False, False, False, False, False,\n",
       "       False, False])"
      ]
     },
     "execution_count": 28,
     "metadata": {},
     "output_type": "execute_result"
    }
   ],
   "source": [
    "# zurück kommt boolarray\n",
    "start = list(df['pub_date'] >= '2021-01-01')\n",
    "end = list(df['pub_date'] <= '2021-03-31')\n",
    "date_filter = np.all(np.array([start,end]),axis=0)\n",
    "#end\n",
    "date_filter"
   ]
  },
  {
   "cell_type": "code",
   "execution_count": 29,
   "metadata": {},
   "outputs": [
    {
     "ename": "TypeError",
     "evalue": "'Series' objects are mutable, thus they cannot be hashed",
     "output_type": "error",
     "traceback": [
      "\u001b[1;31m---------------------------------------------------------------------------\u001b[0m",
      "\u001b[1;31mTypeError\u001b[0m                                 Traceback (most recent call last)",
      "\u001b[1;32m<ipython-input-29-35020d0f4176>\u001b[0m in \u001b[0;36m<module>\u001b[1;34m\u001b[0m\n\u001b[0;32m      1\u001b[0m \u001b[1;31m# zurück kommt boolarray\u001b[0m\u001b[1;33m\u001b[0m\u001b[1;33m\u001b[0m\u001b[1;33m\u001b[0m\u001b[0m\n\u001b[1;32m----> 2\u001b[1;33m \u001b[0mdf\u001b[0m\u001b[1;33m[\u001b[0m\u001b[1;34m'pub_date'\u001b[0m\u001b[1;33m]\u001b[0m\u001b[1;33m.\u001b[0m\u001b[0mall\u001b[0m\u001b[1;33m(\u001b[0m\u001b[0mdf\u001b[0m\u001b[1;33m[\u001b[0m\u001b[1;34m'pub_date'\u001b[0m\u001b[1;33m]\u001b[0m \u001b[1;33m>=\u001b[0m \u001b[1;34m'2021-01-01'\u001b[0m\u001b[1;33m,\u001b[0m\u001b[0mdf\u001b[0m\u001b[1;33m[\u001b[0m\u001b[1;34m'pub_date'\u001b[0m\u001b[1;33m]\u001b[0m \u001b[1;33m<=\u001b[0m \u001b[1;34m'2021-03-31'\u001b[0m\u001b[1;33m)\u001b[0m\u001b[1;33m\u001b[0m\u001b[1;33m\u001b[0m\u001b[0m\n\u001b[0m",
      "\u001b[1;32mC:\\ProgramData\\Anaconda3\\lib\\site-packages\\pandas\\core\\generic.py\u001b[0m in \u001b[0;36mlogical_func\u001b[1;34m(self, axis, bool_only, skipna, level, **kwargs)\u001b[0m\n\u001b[0;32m  11721\u001b[0m             \u001b[0mskipna\u001b[0m\u001b[1;33m=\u001b[0m\u001b[0mskipna\u001b[0m\u001b[1;33m,\u001b[0m\u001b[1;33m\u001b[0m\u001b[1;33m\u001b[0m\u001b[0m\n\u001b[0;32m  11722\u001b[0m             \u001b[0mnumeric_only\u001b[0m\u001b[1;33m=\u001b[0m\u001b[0mbool_only\u001b[0m\u001b[1;33m,\u001b[0m\u001b[1;33m\u001b[0m\u001b[1;33m\u001b[0m\u001b[0m\n\u001b[1;32m> 11723\u001b[1;33m             \u001b[0mfilter_type\u001b[0m\u001b[1;33m=\u001b[0m\u001b[1;34m\"bool\"\u001b[0m\u001b[1;33m,\u001b[0m\u001b[1;33m\u001b[0m\u001b[1;33m\u001b[0m\u001b[0m\n\u001b[0m\u001b[0;32m  11724\u001b[0m         )\n\u001b[0;32m  11725\u001b[0m \u001b[1;33m\u001b[0m\u001b[0m\n",
      "\u001b[1;32mC:\\ProgramData\\Anaconda3\\lib\\site-packages\\pandas\\core\\series.py\u001b[0m in \u001b[0;36m_reduce\u001b[1;34m(self, op, name, axis, skipna, numeric_only, filter_type, **kwds)\u001b[0m\n\u001b[0;32m   4061\u001b[0m \u001b[1;33m\u001b[0m\u001b[0m\n\u001b[0;32m   4062\u001b[0m         \u001b[1;32mif\u001b[0m \u001b[0maxis\u001b[0m \u001b[1;32mis\u001b[0m \u001b[1;32mnot\u001b[0m \u001b[1;32mNone\u001b[0m\u001b[1;33m:\u001b[0m\u001b[1;33m\u001b[0m\u001b[1;33m\u001b[0m\u001b[0m\n\u001b[1;32m-> 4063\u001b[1;33m             \u001b[0mself\u001b[0m\u001b[1;33m.\u001b[0m\u001b[0m_get_axis_number\u001b[0m\u001b[1;33m(\u001b[0m\u001b[0maxis\u001b[0m\u001b[1;33m)\u001b[0m\u001b[1;33m\u001b[0m\u001b[1;33m\u001b[0m\u001b[0m\n\u001b[0m\u001b[0;32m   4064\u001b[0m \u001b[1;33m\u001b[0m\u001b[0m\n\u001b[0;32m   4065\u001b[0m         \u001b[1;32mif\u001b[0m \u001b[0misinstance\u001b[0m\u001b[1;33m(\u001b[0m\u001b[0mdelegate\u001b[0m\u001b[1;33m,\u001b[0m \u001b[0mCategorical\u001b[0m\u001b[1;33m)\u001b[0m\u001b[1;33m:\u001b[0m\u001b[1;33m\u001b[0m\u001b[1;33m\u001b[0m\u001b[0m\n",
      "\u001b[1;32mC:\\ProgramData\\Anaconda3\\lib\\site-packages\\pandas\\core\\generic.py\u001b[0m in \u001b[0;36m_get_axis_number\u001b[1;34m(cls, axis)\u001b[0m\n\u001b[0;32m    400\u001b[0m     \u001b[1;33m@\u001b[0m\u001b[0mclassmethod\u001b[0m\u001b[1;33m\u001b[0m\u001b[1;33m\u001b[0m\u001b[0m\n\u001b[0;32m    401\u001b[0m     \u001b[1;32mdef\u001b[0m \u001b[0m_get_axis_number\u001b[0m\u001b[1;33m(\u001b[0m\u001b[0mcls\u001b[0m\u001b[1;33m,\u001b[0m \u001b[0maxis\u001b[0m\u001b[1;33m)\u001b[0m\u001b[1;33m:\u001b[0m\u001b[1;33m\u001b[0m\u001b[1;33m\u001b[0m\u001b[0m\n\u001b[1;32m--> 402\u001b[1;33m         \u001b[0maxis\u001b[0m \u001b[1;33m=\u001b[0m \u001b[0mcls\u001b[0m\u001b[1;33m.\u001b[0m\u001b[0m_AXIS_ALIASES\u001b[0m\u001b[1;33m.\u001b[0m\u001b[0mget\u001b[0m\u001b[1;33m(\u001b[0m\u001b[0maxis\u001b[0m\u001b[1;33m,\u001b[0m \u001b[0maxis\u001b[0m\u001b[1;33m)\u001b[0m\u001b[1;33m\u001b[0m\u001b[1;33m\u001b[0m\u001b[0m\n\u001b[0m\u001b[0;32m    403\u001b[0m         \u001b[1;32mif\u001b[0m \u001b[0mis_integer\u001b[0m\u001b[1;33m(\u001b[0m\u001b[0maxis\u001b[0m\u001b[1;33m)\u001b[0m\u001b[1;33m:\u001b[0m\u001b[1;33m\u001b[0m\u001b[1;33m\u001b[0m\u001b[0m\n\u001b[0;32m    404\u001b[0m             \u001b[1;32mif\u001b[0m \u001b[0maxis\u001b[0m \u001b[1;32min\u001b[0m \u001b[0mcls\u001b[0m\u001b[1;33m.\u001b[0m\u001b[0m_AXIS_NAMES\u001b[0m\u001b[1;33m:\u001b[0m\u001b[1;33m\u001b[0m\u001b[1;33m\u001b[0m\u001b[0m\n",
      "\u001b[1;32mC:\\ProgramData\\Anaconda3\\lib\\site-packages\\pandas\\core\\generic.py\u001b[0m in \u001b[0;36m__hash__\u001b[1;34m(self)\u001b[0m\n\u001b[0;32m   1884\u001b[0m         raise TypeError(\n\u001b[0;32m   1885\u001b[0m             \u001b[1;34m\"{0!r} objects are mutable, thus they cannot be\"\u001b[0m\u001b[1;33m\u001b[0m\u001b[1;33m\u001b[0m\u001b[0m\n\u001b[1;32m-> 1886\u001b[1;33m             \u001b[1;34m\" hashed\"\u001b[0m\u001b[1;33m.\u001b[0m\u001b[0mformat\u001b[0m\u001b[1;33m(\u001b[0m\u001b[0mself\u001b[0m\u001b[1;33m.\u001b[0m\u001b[0m__class__\u001b[0m\u001b[1;33m.\u001b[0m\u001b[0m__name__\u001b[0m\u001b[1;33m)\u001b[0m\u001b[1;33m\u001b[0m\u001b[1;33m\u001b[0m\u001b[0m\n\u001b[0m\u001b[0;32m   1887\u001b[0m         )\n\u001b[0;32m   1888\u001b[0m \u001b[1;33m\u001b[0m\u001b[0m\n",
      "\u001b[1;31mTypeError\u001b[0m: 'Series' objects are mutable, thus they cannot be hashed"
     ]
    }
   ],
   "source": [
    "# zurück kommt boolarray\n",
    "#df['pub_date'].all(df['pub_date'] >= '2021-01-01',df['pub_date'] <= '2021-03-31')"
   ]
  },
  {
   "cell_type": "code",
   "execution_count": null,
   "metadata": {},
   "outputs": [],
   "source": [
    "#sortet_list = list(df['publication_date'][df['publication_date'] >= '2021-01-01'])\n",
    "#sortet_list"
   ]
  },
  {
   "cell_type": "code",
   "execution_count": null,
   "metadata": {},
   "outputs": [],
   "source": [
    "#sortet_list.sort()\n",
    "#sortet_list"
   ]
  },
  {
   "cell_type": "code",
   "execution_count": null,
   "metadata": {},
   "outputs": [],
   "source": [
    "#list(df['publication_date'][df['publication_date'] >= '2021-01-01']).sort()"
   ]
  },
  {
   "cell_type": "code",
   "execution_count": null,
   "metadata": {},
   "outputs": [],
   "source": [
    "df.dtypes"
   ]
  },
  {
   "cell_type": "code",
   "execution_count": null,
   "metadata": {},
   "outputs": [],
   "source": [
    "df.columns"
   ]
  },
  {
   "cell_type": "code",
   "execution_count": null,
   "metadata": {},
   "outputs": [],
   "source": [
    "len(df)"
   ]
  },
  {
   "cell_type": "code",
   "execution_count": 30,
   "metadata": {},
   "outputs": [
    {
     "data": {
      "text/plain": [
       "dataset         207\n",
       "software         24\n",
       "image            15\n",
       "other            15\n",
       "video             6\n",
       "presentation      5\n",
       "Name: type, dtype: int64"
      ]
     },
     "execution_count": 30,
     "metadata": {},
     "output_type": "execute_result"
    }
   ],
   "source": [
    "df['type'].value_counts()"
   ]
  },
  {
   "cell_type": "code",
   "execution_count": 31,
   "metadata": {},
   "outputs": [
    {
     "data": {
      "text/plain": [
       "dataset         0.761029\n",
       "software        0.088235\n",
       "image           0.055147\n",
       "other           0.055147\n",
       "video           0.022059\n",
       "presentation    0.018382\n",
       "Name: type, dtype: float64"
      ]
     },
     "execution_count": 31,
     "metadata": {},
     "output_type": "execute_result"
    }
   ],
   "source": [
    "df['type'].value_counts(normalize=True)"
   ]
  },
  {
   "cell_type": "code",
   "execution_count": 32,
   "metadata": {},
   "outputs": [
    {
     "data": {
      "text/plain": [
       "'dataset'"
      ]
     },
     "execution_count": 32,
     "metadata": {},
     "output_type": "execute_result"
    }
   ],
   "source": [
    "type_mode = df['type'].mode()\n",
    "type_mode[0]"
   ]
  },
  {
   "cell_type": "code",
   "execution_count": null,
   "metadata": {},
   "outputs": [],
   "source": [
    "df['rel_id'].isna().sum()"
   ]
  },
  {
   "cell_type": "code",
   "execution_count": null,
   "metadata": {},
   "outputs": [],
   "source": [
    "df['Downloads'].mean()"
   ]
  },
  {
   "cell_type": "code",
   "execution_count": null,
   "metadata": {},
   "outputs": [],
   "source": [
    "df['Downloads'].median()"
   ]
  },
  {
   "cell_type": "code",
   "execution_count": null,
   "metadata": {},
   "outputs": [],
   "source": [
    "df['views'].median()"
   ]
  },
  {
   "cell_type": "code",
   "execution_count": null,
   "metadata": {},
   "outputs": [],
   "source": [
    "df['Downloads'].var()"
   ]
  },
  {
   "cell_type": "code",
   "execution_count": null,
   "metadata": {},
   "outputs": [],
   "source": [
    "df['Downloads'].std()"
   ]
  },
  {
   "cell_type": "code",
   "execution_count": 33,
   "metadata": {},
   "outputs": [
    {
     "name": "stdout",
     "output_type": "stream",
     "text": [
      "dataset         207\n",
      "software         24\n",
      "image            15\n",
      "other            15\n",
      "video             6\n",
      "presentation      5\n",
      "Name: type, dtype: int64\n"
     ]
    }
   ],
   "source": [
    "dt = df['type'].value_counts()\n",
    "dt.max()\n",
    "type(dt)\n",
    "print(dt)"
   ]
  },
  {
   "cell_type": "code",
   "execution_count": 34,
   "metadata": {},
   "outputs": [
    {
     "data": {
      "text/html": [
       "<div>\n",
       "<style scoped>\n",
       "    .dataframe tbody tr th:only-of-type {\n",
       "        vertical-align: middle;\n",
       "    }\n",
       "\n",
       "    .dataframe tbody tr th {\n",
       "        vertical-align: top;\n",
       "    }\n",
       "\n",
       "    .dataframe thead th {\n",
       "        text-align: right;\n",
       "    }\n",
       "</style>\n",
       "<table border=\"1\" class=\"dataframe\">\n",
       "  <thead>\n",
       "    <tr style=\"text-align: right;\">\n",
       "      <th></th>\n",
       "      <th>license</th>\n",
       "      <th>rel_id</th>\n",
       "      <th>pub_date</th>\n",
       "      <th>Access_Right</th>\n",
       "      <th>Downloads</th>\n",
       "      <th>unique_downloads</th>\n",
       "      <th>unique_views</th>\n",
       "      <th>views</th>\n",
       "      <th>isreferencedby</th>\n",
       "      <th>doi</th>\n",
       "    </tr>\n",
       "    <tr>\n",
       "      <th>type</th>\n",
       "      <th></th>\n",
       "      <th></th>\n",
       "      <th></th>\n",
       "      <th></th>\n",
       "      <th></th>\n",
       "      <th></th>\n",
       "      <th></th>\n",
       "      <th></th>\n",
       "      <th></th>\n",
       "      <th></th>\n",
       "    </tr>\n",
       "  </thead>\n",
       "  <tbody>\n",
       "    <tr>\n",
       "      <td>dataset</td>\n",
       "      <td>NaN</td>\n",
       "      <td>2</td>\n",
       "      <td>2021-08-12</td>\n",
       "      <td>restricted</td>\n",
       "      <td>2218</td>\n",
       "      <td>910</td>\n",
       "      <td>697</td>\n",
       "      <td>848</td>\n",
       "      <td>2</td>\n",
       "      <td>https://doi.org/10.14278/rodare.998</td>\n",
       "    </tr>\n",
       "    <tr>\n",
       "      <td>image</td>\n",
       "      <td>NaN</td>\n",
       "      <td>1</td>\n",
       "      <td>2021-08-05</td>\n",
       "      <td>open</td>\n",
       "      <td>433</td>\n",
       "      <td>250</td>\n",
       "      <td>412</td>\n",
       "      <td>504</td>\n",
       "      <td>1</td>\n",
       "      <td>https://doi.org/10.14278/rodare.966</td>\n",
       "    </tr>\n",
       "    <tr>\n",
       "      <td>other</td>\n",
       "      <td>NaN</td>\n",
       "      <td>1</td>\n",
       "      <td>2021-08-16</td>\n",
       "      <td>restricted</td>\n",
       "      <td>91</td>\n",
       "      <td>51</td>\n",
       "      <td>193</td>\n",
       "      <td>232</td>\n",
       "      <td>1</td>\n",
       "      <td>https://doi.org/10.14278/rodare.920</td>\n",
       "    </tr>\n",
       "    <tr>\n",
       "      <td>presentation</td>\n",
       "      <td>CC-BY-4.0</td>\n",
       "      <td>0</td>\n",
       "      <td>2020-01-14</td>\n",
       "      <td>open</td>\n",
       "      <td>284</td>\n",
       "      <td>231</td>\n",
       "      <td>468</td>\n",
       "      <td>614</td>\n",
       "      <td>0</td>\n",
       "      <td>https://doi.org/10.14278/rodare.71</td>\n",
       "    </tr>\n",
       "    <tr>\n",
       "      <td>software</td>\n",
       "      <td>NaN</td>\n",
       "      <td>1</td>\n",
       "      <td>2021-08-06</td>\n",
       "      <td>restricted</td>\n",
       "      <td>120</td>\n",
       "      <td>59</td>\n",
       "      <td>416</td>\n",
       "      <td>569</td>\n",
       "      <td>1</td>\n",
       "      <td>https://doi.org/10.14278/rodare.992</td>\n",
       "    </tr>\n",
       "    <tr>\n",
       "      <td>video</td>\n",
       "      <td>CC-BY-4.0</td>\n",
       "      <td>1</td>\n",
       "      <td>2021-04-22</td>\n",
       "      <td>open</td>\n",
       "      <td>91</td>\n",
       "      <td>46</td>\n",
       "      <td>107</td>\n",
       "      <td>170</td>\n",
       "      <td>1</td>\n",
       "      <td>https://doi.org/10.14278/rodare.952</td>\n",
       "    </tr>\n",
       "  </tbody>\n",
       "</table>\n",
       "</div>"
      ],
      "text/plain": [
       "                license  rel_id    pub_date Access_Right  Downloads  \\\n",
       "type                                                                  \n",
       "dataset             NaN       2  2021-08-12   restricted       2218   \n",
       "image               NaN       1  2021-08-05         open        433   \n",
       "other               NaN       1  2021-08-16   restricted         91   \n",
       "presentation  CC-BY-4.0       0  2020-01-14         open        284   \n",
       "software            NaN       1  2021-08-06   restricted        120   \n",
       "video         CC-BY-4.0       1  2021-04-22         open         91   \n",
       "\n",
       "              unique_downloads  unique_views  views  isreferencedby  \\\n",
       "type                                                                  \n",
       "dataset                    910           697    848               2   \n",
       "image                      250           412    504               1   \n",
       "other                       51           193    232               1   \n",
       "presentation               231           468    614               0   \n",
       "software                    59           416    569               1   \n",
       "video                       46           107    170               1   \n",
       "\n",
       "                                              doi  \n",
       "type                                               \n",
       "dataset       https://doi.org/10.14278/rodare.998  \n",
       "image         https://doi.org/10.14278/rodare.966  \n",
       "other         https://doi.org/10.14278/rodare.920  \n",
       "presentation   https://doi.org/10.14278/rodare.71  \n",
       "software      https://doi.org/10.14278/rodare.992  \n",
       "video         https://doi.org/10.14278/rodare.952  "
      ]
     },
     "execution_count": 34,
     "metadata": {},
     "output_type": "execute_result"
    }
   ],
   "source": [
    "df.groupby(['type']).max()"
   ]
  },
  {
   "cell_type": "code",
   "execution_count": 46,
   "metadata": {},
   "outputs": [
    {
     "data": {
      "text/plain": [
       "license\n",
       "CC-BY-1.0         4\n",
       "CC-BY-4.0        88\n",
       "CC-BY-NC-4.0      8\n",
       "CC-BY-SA-4.0      3\n",
       "NaN             104\n",
       "dtype: int64"
      ]
     },
     "execution_count": 46,
     "metadata": {},
     "output_type": "execute_result"
    }
   ],
   "source": [
    "#Reduzierung der Datengrundlage und dort Werte ausgeben\n",
    "df[df['type']=='dataset'].groupby(['license']).size()"
   ]
  },
  {
   "cell_type": "code",
   "execution_count": 52,
   "metadata": {},
   "outputs": [
    {
     "data": {
      "text/plain": [
       "type                207\n",
       "license             207\n",
       "rel_id              207\n",
       "pub_date            207\n",
       "Access_Right        207\n",
       "Downloads           207\n",
       "unique_downloads    207\n",
       "unique_views        207\n",
       "views               207\n",
       "isreferencedby      207\n",
       "doi                 207\n",
       "dtype: int64"
      ]
     },
     "execution_count": 52,
     "metadata": {},
     "output_type": "execute_result"
    }
   ],
   "source": [
    "df[df['type']=='dataset'].count()"
   ]
  },
  {
   "cell_type": "code",
   "execution_count": 54,
   "metadata": {},
   "outputs": [
    {
     "data": {
      "text/plain": [
       "129.17662851273815"
      ]
     },
     "execution_count": 54,
     "metadata": {},
     "output_type": "execute_result"
    }
   ],
   "source": [
    "df['views'].std()"
   ]
  },
  {
   "cell_type": "code",
   "execution_count": 53,
   "metadata": {},
   "outputs": [
    {
     "data": {
      "text/plain": [
       "2218"
      ]
     },
     "execution_count": 53,
     "metadata": {},
     "output_type": "execute_result"
    }
   ],
   "source": [
    "df['Downloads'].max()"
   ]
  },
  {
   "cell_type": "code",
   "execution_count": 36,
   "metadata": {},
   "outputs": [
    {
     "data": {
      "text/plain": [
       "type         dataset\n",
       "license    CC-BY-4.0\n",
       "Name: 53, dtype: object"
      ]
     },
     "execution_count": 36,
     "metadata": {},
     "output_type": "execute_result"
    }
   ],
   "source": [
    "df.iloc[df.Downloads.idxmax(), 0:2]"
   ]
  },
  {
   "cell_type": "code",
   "execution_count": 55,
   "metadata": {},
   "outputs": [
    {
     "name": "stdout",
     "output_type": "stream",
     "text": [
      "                                    doi\n",
      "53  https://doi.org/10.14278/rodare.915\n"
     ]
    }
   ],
   "source": [
    "# https://www.it-swarm.com.de/de/python/ermitteln-sie-den-maximalen-wert-einer-spalte-und-geben-sie-die-entsprechenden-zeilenwerte-mit-pandas-zurueck/1072494383/\n",
    "print(df[['doi']][df.Downloads == df.Downloads.max()])"
   ]
  },
  {
   "cell_type": "code",
   "execution_count": 56,
   "metadata": {},
   "outputs": [
    {
     "data": {
      "text/plain": [
       "0"
      ]
     },
     "execution_count": 56,
     "metadata": {},
     "output_type": "execute_result"
    }
   ],
   "source": [
    "df['Downloads'].min()"
   ]
  },
  {
   "cell_type": "code",
   "execution_count": 57,
   "metadata": {},
   "outputs": [
    {
     "data": {
      "text/plain": [
       "'2021-08-16'"
      ]
     },
     "execution_count": 57,
     "metadata": {},
     "output_type": "execute_result"
    }
   ],
   "source": [
    "df['pub_date'].max()"
   ]
  },
  {
   "cell_type": "code",
   "execution_count": 58,
   "metadata": {},
   "outputs": [
    {
     "data": {
      "text/plain": [
       "0.4424906386916616"
      ]
     },
     "execution_count": 58,
     "metadata": {},
     "output_type": "execute_result"
    }
   ],
   "source": [
    "df['Downloads'].corr(df['views'])"
   ]
  },
  {
   "cell_type": "code",
   "execution_count": 59,
   "metadata": {},
   "outputs": [
    {
     "data": {
      "text/plain": [
       "139.6360294117647"
      ]
     },
     "execution_count": 59,
     "metadata": {},
     "output_type": "execute_result"
    }
   ],
   "source": [
    "df['views'].mean()"
   ]
  },
  {
   "cell_type": "code",
   "execution_count": 60,
   "metadata": {},
   "outputs": [
    {
     "data": {
      "text/plain": [
       "106.5"
      ]
     },
     "execution_count": 60,
     "metadata": {},
     "output_type": "execute_result"
    }
   ],
   "source": [
    "df['views'].median()"
   ]
  },
  {
   "cell_type": "code",
   "execution_count": 61,
   "metadata": {},
   "outputs": [],
   "source": [
    "# Nur den Mittelwert etc. eines bestimmten Zetabschnittes errechnen lassen?\n",
    "# Wie eine Printausgabe in eine Datei schreiben lassen bei Ausführung des Programmes?"
   ]
  },
  {
   "cell_type": "code",
   "execution_count": 62,
   "metadata": {},
   "outputs": [
    {
     "data": {
      "text/plain": [
       "<seaborn.axisgrid.FacetGrid at 0x26e9a77cb48>"
      ]
     },
     "execution_count": 62,
     "metadata": {},
     "output_type": "execute_result"
    },
    {
     "data": {
      "image/png": "[encoded data removed]",
      "text/plain": [
       "<Figure size 360x360 with 1 Axes>"
      ]
     },
     "metadata": {
      "needs_background": "light"
     },
     "output_type": "display_data"
    }
   ],
   "source": [
    "sns.relplot(x='type', y='license', data=df)"
   ]
  },
  {
   "cell_type": "code",
   "execution_count": null,
   "metadata": {},
   "outputs": [],
   "source": [
    "#plt.savefig('../type_license.png', dpi=150)"
   ]
  },
  {
   "cell_type": "code",
   "execution_count": 63,
   "metadata": {},
   "outputs": [
    {
     "data": {
      "text/plain": [
       "<seaborn.axisgrid.FacetGrid at 0x26e9b3491c8>"
      ]
     },
     "execution_count": 63,
     "metadata": {},
     "output_type": "execute_result"
    },
    {
     "data": {
      "image/png": "[encoded data removed]",
      "text/plain": [
       "<Figure size 360x360 with 1 Axes>"
      ]
     },
     "metadata": {
      "needs_background": "light"
     },
     "output_type": "display_data"
    }
   ],
   "source": [
    "sns.relplot(y='type', x='Downloads', data=df)"
   ]
  },
  {
   "cell_type": "code",
   "execution_count": 64,
   "metadata": {},
   "outputs": [
    {
     "data": {
      "text/plain": [
       "<seaborn.axisgrid.FacetGrid at 0x26e9b405f88>"
      ]
     },
     "execution_count": 64,
     "metadata": {},
     "output_type": "execute_result"
    },
    {
     "data": {
      "image/png": "[encoded data removed]",
      "text/plain": [
       "<Figure size 360x360 with 1 Axes>"
      ]
     },
     "metadata": {
      "needs_background": "light"
     },
     "output_type": "display_data"
    }
   ],
   "source": [
    "sns.relplot(y='type', x='views', data=df)"
   ]
  },
  {
   "cell_type": "code",
   "execution_count": 65,
   "metadata": {},
   "outputs": [
    {
     "data": {
      "text/plain": [
       "<seaborn.axisgrid.FacetGrid at 0x26e9acb9e08>"
      ]
     },
     "execution_count": 65,
     "metadata": {},
     "output_type": "execute_result"
    },
    {
     "data": {
      "image/png": "[encoded data removed]",
      "text/plain": [
       "<Figure size 1174.1x360 with 1 Axes>"
      ]
     },
     "metadata": {
      "needs_background": "light"
     },
     "output_type": "display_data"
    }
   ],
   "source": [
    "#Problem: Wie kann ich hier nur bestimmte Daten zb 2021 in die Darstellung einbringen?\n",
    "sns.relplot(x='pub_date', y='type', \n",
    "            size='Downloads',\n",
    "            #row='license', \n",
    "            #col='license', \n",
    "            data=df,\n",
    "            height=5, aspect=3)"
   ]
  },
  {
   "cell_type": "code",
   "execution_count": null,
   "metadata": {},
   "outputs": [],
   "source": [
    "sns.catplot(x='pub_date',\n",
    "            data=df, kind='count', color=\"steelblue\", height=5, aspect=3)"
   ]
  },
  {
   "cell_type": "code",
   "execution_count": null,
   "metadata": {},
   "outputs": [],
   "source": [
    "plt.plot(df['pub_date'][df['pub_date'] >= '2021-06-01'], df['views'][df['pub_date'] >= '2021-06-01'], color='#4870a0', marker='o')"
   ]
  },
  {
   "cell_type": "code",
   "execution_count": null,
   "metadata": {},
   "outputs": [],
   "source": [
    "#plt.plot(df['pub_date'][date_filter], df['views'][date_filter], color='#4870a0', marker='o')"
   ]
  },
  {
   "cell_type": "code",
   "execution_count": null,
   "metadata": {},
   "outputs": [],
   "source": [
    "start_date = '2021-01-01'\n",
    "plt.plot(df['pub_date'][df['pub_date'] >= start_date], df['views'][df['pub_date'] >= start_date], color='#4870a0', marker='o')"
   ]
  },
  {
   "cell_type": "code",
   "execution_count": null,
   "metadata": {},
   "outputs": [],
   "source": [
    "plt.stackplot(df['pub_date'], \n",
    "              df['unique_views'], \n",
    "              df['views'],\n",
    "              alpha=0.75,\n",
    "              colors=['#7289da','#f29fa9'],\n",
    "              labels=['unique_views', 'views'])"
   ]
  },
  {
   "cell_type": "code",
   "execution_count": 66,
   "metadata": {},
   "outputs": [
    {
     "data": {
      "text/html": [
       "<div>\n",
       "<style scoped>\n",
       "    .dataframe tbody tr th:only-of-type {\n",
       "        vertical-align: middle;\n",
       "    }\n",
       "\n",
       "    .dataframe tbody tr th {\n",
       "        vertical-align: top;\n",
       "    }\n",
       "\n",
       "    .dataframe thead th {\n",
       "        text-align: right;\n",
       "    }\n",
       "</style>\n",
       "<table border=\"1\" class=\"dataframe\">\n",
       "  <thead>\n",
       "    <tr style=\"text-align: right;\">\n",
       "      <th></th>\n",
       "      <th></th>\n",
       "      <th>rel_id</th>\n",
       "      <th>unique_downloads</th>\n",
       "      <th>unique_views</th>\n",
       "      <th>views</th>\n",
       "      <th>isreferencedby</th>\n",
       "    </tr>\n",
       "    <tr>\n",
       "      <th>Access_Right</th>\n",
       "      <th>Downloads</th>\n",
       "      <th></th>\n",
       "      <th></th>\n",
       "      <th></th>\n",
       "      <th></th>\n",
       "      <th></th>\n",
       "    </tr>\n",
       "  </thead>\n",
       "  <tbody>\n",
       "    <tr>\n",
       "      <td rowspan=\"5\" valign=\"top\">closed</td>\n",
       "      <td>0</td>\n",
       "      <td>31</td>\n",
       "      <td>0</td>\n",
       "      <td>1790</td>\n",
       "      <td>3007</td>\n",
       "      <td>31</td>\n",
       "    </tr>\n",
       "    <tr>\n",
       "      <td>1</td>\n",
       "      <td>1</td>\n",
       "      <td>3</td>\n",
       "      <td>173</td>\n",
       "      <td>256</td>\n",
       "      <td>1</td>\n",
       "    </tr>\n",
       "    <tr>\n",
       "      <td>2</td>\n",
       "      <td>1</td>\n",
       "      <td>2</td>\n",
       "      <td>94</td>\n",
       "      <td>166</td>\n",
       "      <td>1</td>\n",
       "    </tr>\n",
       "    <tr>\n",
       "      <td>4</td>\n",
       "      <td>1</td>\n",
       "      <td>3</td>\n",
       "      <td>38</td>\n",
       "      <td>80</td>\n",
       "      <td>1</td>\n",
       "    </tr>\n",
       "    <tr>\n",
       "      <td>5</td>\n",
       "      <td>1</td>\n",
       "      <td>3</td>\n",
       "      <td>23</td>\n",
       "      <td>33</td>\n",
       "      <td>1</td>\n",
       "    </tr>\n",
       "    <tr>\n",
       "      <td>...</td>\n",
       "      <td>...</td>\n",
       "      <td>...</td>\n",
       "      <td>...</td>\n",
       "      <td>...</td>\n",
       "      <td>...</td>\n",
       "      <td>...</td>\n",
       "    </tr>\n",
       "    <tr>\n",
       "      <td rowspan=\"5\" valign=\"top\">restricted</td>\n",
       "      <td>36</td>\n",
       "      <td>0</td>\n",
       "      <td>4</td>\n",
       "      <td>80</td>\n",
       "      <td>98</td>\n",
       "      <td>0</td>\n",
       "    </tr>\n",
       "    <tr>\n",
       "      <td>38</td>\n",
       "      <td>0</td>\n",
       "      <td>2</td>\n",
       "      <td>93</td>\n",
       "      <td>126</td>\n",
       "      <td>0</td>\n",
       "    </tr>\n",
       "    <tr>\n",
       "      <td>68</td>\n",
       "      <td>0</td>\n",
       "      <td>51</td>\n",
       "      <td>69</td>\n",
       "      <td>91</td>\n",
       "      <td>0</td>\n",
       "    </tr>\n",
       "    <tr>\n",
       "      <td>83</td>\n",
       "      <td>0</td>\n",
       "      <td>42</td>\n",
       "      <td>279</td>\n",
       "      <td>370</td>\n",
       "      <td>0</td>\n",
       "    </tr>\n",
       "    <tr>\n",
       "      <td>202</td>\n",
       "      <td>0</td>\n",
       "      <td>14</td>\n",
       "      <td>88</td>\n",
       "      <td>124</td>\n",
       "      <td>0</td>\n",
       "    </tr>\n",
       "  </tbody>\n",
       "</table>\n",
       "<p>110 rows × 5 columns</p>\n",
       "</div>"
      ],
      "text/plain": [
       "                        rel_id  unique_downloads  unique_views  views  \\\n",
       "Access_Right Downloads                                                  \n",
       "closed       0              31                 0          1790   3007   \n",
       "             1               1                 3           173    256   \n",
       "             2               1                 2            94    166   \n",
       "             4               1                 3            38     80   \n",
       "             5               1                 3            23     33   \n",
       "...                        ...               ...           ...    ...   \n",
       "restricted   36              0                 4            80     98   \n",
       "             38              0                 2            93    126   \n",
       "             68              0                51            69     91   \n",
       "             83              0                42           279    370   \n",
       "             202             0                14            88    124   \n",
       "\n",
       "                        isreferencedby  \n",
       "Access_Right Downloads                  \n",
       "closed       0                      31  \n",
       "             1                       1  \n",
       "             2                       1  \n",
       "             4                       1  \n",
       "             5                       1  \n",
       "...                                ...  \n",
       "restricted   36                      0  \n",
       "             38                      0  \n",
       "             68                      0  \n",
       "             83                      0  \n",
       "             202                     0  \n",
       "\n",
       "[110 rows x 5 columns]"
      ]
     },
     "execution_count": 66,
     "metadata": {},
     "output_type": "execute_result"
    }
   ],
   "source": [
    "# Verteilung der Downloadzahlen pro Access-Recht\n",
    "df.groupby(['Access_Right','Downloads']).sum()"
   ]
  },
  {
   "cell_type": "code",
   "execution_count": null,
   "metadata": {},
   "outputs": [],
   "source": []
  }
 ],
 "metadata": {
  "kernelspec": {
   "display_name": "Python 3",
   "language": "python",
   "name": "python3"
  },
  "language_info": {
   "codemirror_mode": {
    "name": "ipython",
    "version": 3
   },
   "file_extension": ".py",
   "mimetype": "text/x-python",
   "name": "python",
   "nbconvert_exporter": "python",
   "pygments_lexer": "ipython3",
   "version": "3.7.4"
  }
 },
 "nbformat": 4,
 "nbformat_minor": 2
}
