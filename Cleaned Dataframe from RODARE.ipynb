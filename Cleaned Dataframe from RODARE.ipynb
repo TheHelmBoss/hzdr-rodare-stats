{
 "cells": [
  {
   "cell_type": "code",
   "execution_count": 1,
   "metadata": {},
   "outputs": [],
   "source": [
    "# Bibliotheken abrufen\n",
    "import json\n",
    "import pandas as pd\n",
    "import requests\n",
    "import numpy as np\n",
    "import matplotlib.pyplot as plt\n",
    "import seaborn as sns\n",
    "%matplotlib inline\n",
    "sns.set()"
   ]
  },
  {
   "cell_type": "code",
   "execution_count": 2,
   "metadata": {},
   "outputs": [],
   "source": [
    "# URL als Variable definieren\n",
    "url = \"https://rodare.hzdr.de/api/records/?page=1&sort=mostrecent&size=1000\""
   ]
  },
  {
   "cell_type": "code",
   "execution_count": 3,
   "metadata": {},
   "outputs": [],
   "source": [
    "# Funktion um Inhalt aus URL in r zu speichern\n",
    "r = requests.get(url)"
   ]
  },
  {
   "cell_type": "code",
   "execution_count": 4,
   "metadata": {},
   "outputs": [],
   "source": [
    "# JSON lesen lassen\n",
    "json = r.json()"
   ]
  },
  {
   "cell_type": "code",
   "execution_count": 5,
   "metadata": {},
   "outputs": [],
   "source": [
    "# Dictionary anlegen und Keys der gewünschten Werte definieren\n",
    "Meta_dict = {}\n",
    "Meta_dict['type'] = []\n",
    "Meta_dict['license'] = []\n",
    "Meta_dict['related_identifier'] = []\n",
    "Meta_dict['publication_date'] = []\n",
    "Meta_dict['Access_Right'] = []\n",
    "Meta_dict['Downloads'] = []\n",
    "Meta_dict['unique_downloads'] = []\n",
    "Meta_dict['unique_views'] = []\n",
    "Meta_dict['views'] = []"
   ]
  },
  {
   "cell_type": "code",
   "execution_count": 6,
   "metadata": {},
   "outputs": [],
   "source": [
    "# Definition einer Teilliste und for-Schleife, um den type der Records aus allen Einträgen auszulesen und aufzulisten\n",
    "for record in json['hits']['hits']:\n",
    "    Meta_dict['type'].append(record['metadata']['resource_type']['type'])\n",
    "    if 'license' in record['metadata'].keys():\n",
    "        Meta_dict['license'].append(record['metadata']['license']['id'])\n",
    "    else:\n",
    "        Meta_dict['license'].append('NaN')\n",
    "# Neue Iteration in Liste der related identifier anlegen und dort die Bedigungen für das Auslesen definieren\n",
    "    count_id = 0\n",
    "    for identifier in record['metadata']['related_identifiers']:\n",
    "        if identifier['relation'] == 'isReferencedBy' and 'hzdr' in identifier['identifier']:\n",
    "            count_id = count_id + 1\n",
    "    Meta_dict['related_identifier'].append(count_id)\n",
    "    Meta_dict['publication_date'].append(record['metadata']['publication_date'])\n",
    "    Meta_dict['Access_Right'].append(record['metadata']['access_right'])\n",
    "    Meta_dict['Downloads'].append(int(record['stats']['downloads']))\n",
    "    Meta_dict['unique_downloads'].append(int(record['stats']['unique_downloads']))\n",
    "    Meta_dict['unique_views'].append(int(record['stats']['unique_views']))\n",
    "    Meta_dict['views'].append(int(record['stats']['views']))"
   ]
  },
  {
   "cell_type": "code",
   "execution_count": 7,
   "metadata": {},
   "outputs": [],
   "source": [
    "# Umwandlung der Liste in ein DataFrame \n",
    "df = pd.DataFrame(Meta_dict)"
   ]
  },
  {
   "cell_type": "code",
   "execution_count": 8,
   "metadata": {},
   "outputs": [
    {
     "data": {
      "text/html": [
       "<div>\n",
       "<style scoped>\n",
       "    .dataframe tbody tr th:only-of-type {\n",
       "        vertical-align: middle;\n",
       "    }\n",
       "\n",
       "    .dataframe tbody tr th {\n",
       "        vertical-align: top;\n",
       "    }\n",
       "\n",
       "    .dataframe thead th {\n",
       "        text-align: right;\n",
       "    }\n",
       "</style>\n",
       "<table border=\"1\" class=\"dataframe\">\n",
       "  <thead>\n",
       "    <tr style=\"text-align: right;\">\n",
       "      <th></th>\n",
       "      <th>type</th>\n",
       "      <th>license</th>\n",
       "      <th>related_identifier</th>\n",
       "      <th>publication_date</th>\n",
       "      <th>Access_Right</th>\n",
       "      <th>Downloads</th>\n",
       "      <th>unique_downloads</th>\n",
       "      <th>unique_views</th>\n",
       "      <th>views</th>\n",
       "    </tr>\n",
       "  </thead>\n",
       "  <tbody>\n",
       "    <tr>\n",
       "      <td>0</td>\n",
       "      <td>dataset</td>\n",
       "      <td>CC-BY-4.0</td>\n",
       "      <td>0</td>\n",
       "      <td>2021-08-02</td>\n",
       "      <td>open</td>\n",
       "      <td>3</td>\n",
       "      <td>1</td>\n",
       "      <td>7</td>\n",
       "      <td>9</td>\n",
       "    </tr>\n",
       "    <tr>\n",
       "      <td>1</td>\n",
       "      <td>dataset</td>\n",
       "      <td>CC-BY-4.0</td>\n",
       "      <td>1</td>\n",
       "      <td>2021-07-31</td>\n",
       "      <td>open</td>\n",
       "      <td>5</td>\n",
       "      <td>5</td>\n",
       "      <td>2</td>\n",
       "      <td>2</td>\n",
       "    </tr>\n",
       "    <tr>\n",
       "      <td>2</td>\n",
       "      <td>dataset</td>\n",
       "      <td>CC-BY-4.0</td>\n",
       "      <td>1</td>\n",
       "      <td>2021-07-30</td>\n",
       "      <td>open</td>\n",
       "      <td>0</td>\n",
       "      <td>0</td>\n",
       "      <td>10</td>\n",
       "      <td>18</td>\n",
       "    </tr>\n",
       "    <tr>\n",
       "      <td>3</td>\n",
       "      <td>software</td>\n",
       "      <td>LGPL-3.0</td>\n",
       "      <td>0</td>\n",
       "      <td>2021-07-30</td>\n",
       "      <td>open</td>\n",
       "      <td>0</td>\n",
       "      <td>0</td>\n",
       "      <td>14</td>\n",
       "      <td>24</td>\n",
       "    </tr>\n",
       "    <tr>\n",
       "      <td>4</td>\n",
       "      <td>dataset</td>\n",
       "      <td>NaN</td>\n",
       "      <td>0</td>\n",
       "      <td>2021-07-21</td>\n",
       "      <td>closed</td>\n",
       "      <td>0</td>\n",
       "      <td>0</td>\n",
       "      <td>11</td>\n",
       "      <td>11</td>\n",
       "    </tr>\n",
       "    <tr>\n",
       "      <td>...</td>\n",
       "      <td>...</td>\n",
       "      <td>...</td>\n",
       "      <td>...</td>\n",
       "      <td>...</td>\n",
       "      <td>...</td>\n",
       "      <td>...</td>\n",
       "      <td>...</td>\n",
       "      <td>...</td>\n",
       "      <td>...</td>\n",
       "    </tr>\n",
       "    <tr>\n",
       "      <td>258</td>\n",
       "      <td>dataset</td>\n",
       "      <td>CC-BY-SA-4.0</td>\n",
       "      <td>0</td>\n",
       "      <td>2018-05-09</td>\n",
       "      <td>open</td>\n",
       "      <td>22</td>\n",
       "      <td>21</td>\n",
       "      <td>337</td>\n",
       "      <td>399</td>\n",
       "    </tr>\n",
       "    <tr>\n",
       "      <td>259</td>\n",
       "      <td>dataset</td>\n",
       "      <td>CC-BY-4.0</td>\n",
       "      <td>0</td>\n",
       "      <td>2018-04-25</td>\n",
       "      <td>open</td>\n",
       "      <td>90</td>\n",
       "      <td>33</td>\n",
       "      <td>345</td>\n",
       "      <td>419</td>\n",
       "    </tr>\n",
       "    <tr>\n",
       "      <td>260</td>\n",
       "      <td>dataset</td>\n",
       "      <td>CC-BY-4.0</td>\n",
       "      <td>0</td>\n",
       "      <td>2018-04-12</td>\n",
       "      <td>open</td>\n",
       "      <td>23</td>\n",
       "      <td>18</td>\n",
       "      <td>285</td>\n",
       "      <td>342</td>\n",
       "    </tr>\n",
       "    <tr>\n",
       "      <td>261</td>\n",
       "      <td>dataset</td>\n",
       "      <td>NaN</td>\n",
       "      <td>0</td>\n",
       "      <td>2018-03-20</td>\n",
       "      <td>restricted</td>\n",
       "      <td>0</td>\n",
       "      <td>0</td>\n",
       "      <td>249</td>\n",
       "      <td>278</td>\n",
       "    </tr>\n",
       "    <tr>\n",
       "      <td>262</td>\n",
       "      <td>image</td>\n",
       "      <td>CC-BY-4.0</td>\n",
       "      <td>0</td>\n",
       "      <td>2018-02-28</td>\n",
       "      <td>open</td>\n",
       "      <td>427</td>\n",
       "      <td>248</td>\n",
       "      <td>403</td>\n",
       "      <td>494</td>\n",
       "    </tr>\n",
       "  </tbody>\n",
       "</table>\n",
       "<p>263 rows × 9 columns</p>\n",
       "</div>"
      ],
      "text/plain": [
       "         type       license  related_identifier publication_date Access_Right  \\\n",
       "0     dataset     CC-BY-4.0                   0       2021-08-02         open   \n",
       "1     dataset     CC-BY-4.0                   1       2021-07-31         open   \n",
       "2     dataset     CC-BY-4.0                   1       2021-07-30         open   \n",
       "3    software      LGPL-3.0                   0       2021-07-30         open   \n",
       "4     dataset           NaN                   0       2021-07-21       closed   \n",
       "..        ...           ...                 ...              ...          ...   \n",
       "258   dataset  CC-BY-SA-4.0                   0       2018-05-09         open   \n",
       "259   dataset     CC-BY-4.0                   0       2018-04-25         open   \n",
       "260   dataset     CC-BY-4.0                   0       2018-04-12         open   \n",
       "261   dataset           NaN                   0       2018-03-20   restricted   \n",
       "262     image     CC-BY-4.0                   0       2018-02-28         open   \n",
       "\n",
       "     Downloads  unique_downloads  unique_views  views  \n",
       "0            3                 1             7      9  \n",
       "1            5                 5             2      2  \n",
       "2            0                 0            10     18  \n",
       "3            0                 0            14     24  \n",
       "4            0                 0            11     11  \n",
       "..         ...               ...           ...    ...  \n",
       "258         22                21           337    399  \n",
       "259         90                33           345    419  \n",
       "260         23                18           285    342  \n",
       "261          0                 0           249    278  \n",
       "262        427               248           403    494  \n",
       "\n",
       "[263 rows x 9 columns]"
      ]
     },
     "execution_count": 8,
     "metadata": {},
     "output_type": "execute_result"
    }
   ],
   "source": [
    "df"
   ]
  },
  {
   "cell_type": "code",
   "execution_count": 9,
   "metadata": {},
   "outputs": [
    {
     "name": "stdout",
     "output_type": "stream",
     "text": [
      "17955\n"
     ]
    }
   ],
   "source": [
    "print(df['Downloads'].sum())"
   ]
  },
  {
   "cell_type": "code",
   "execution_count": 10,
   "metadata": {},
   "outputs": [
    {
     "data": {
      "text/html": [
       "<div>\n",
       "<style scoped>\n",
       "    .dataframe tbody tr th:only-of-type {\n",
       "        vertical-align: middle;\n",
       "    }\n",
       "\n",
       "    .dataframe tbody tr th {\n",
       "        vertical-align: top;\n",
       "    }\n",
       "\n",
       "    .dataframe thead th {\n",
       "        text-align: right;\n",
       "    }\n",
       "</style>\n",
       "<table border=\"1\" class=\"dataframe\">\n",
       "  <thead>\n",
       "    <tr style=\"text-align: right;\">\n",
       "      <th></th>\n",
       "      <th>type</th>\n",
       "      <th>license</th>\n",
       "      <th>related_identifier</th>\n",
       "      <th>publication_date</th>\n",
       "      <th>Access_Right</th>\n",
       "      <th>Downloads</th>\n",
       "      <th>unique_downloads</th>\n",
       "      <th>unique_views</th>\n",
       "      <th>views</th>\n",
       "    </tr>\n",
       "  </thead>\n",
       "  <tbody>\n",
       "    <tr>\n",
       "      <td>count</td>\n",
       "      <td>263</td>\n",
       "      <td>263</td>\n",
       "      <td>263.000000</td>\n",
       "      <td>263</td>\n",
       "      <td>263</td>\n",
       "      <td>263.000000</td>\n",
       "      <td>263.000000</td>\n",
       "      <td>263.000000</td>\n",
       "      <td>263.000000</td>\n",
       "    </tr>\n",
       "    <tr>\n",
       "      <td>unique</td>\n",
       "      <td>6</td>\n",
       "      <td>10</td>\n",
       "      <td>NaN</td>\n",
       "      <td>185</td>\n",
       "      <td>4</td>\n",
       "      <td>NaN</td>\n",
       "      <td>NaN</td>\n",
       "      <td>NaN</td>\n",
       "      <td>NaN</td>\n",
       "    </tr>\n",
       "    <tr>\n",
       "      <td>top</td>\n",
       "      <td>dataset</td>\n",
       "      <td>CC-BY-4.0</td>\n",
       "      <td>NaN</td>\n",
       "      <td>2021-03-10</td>\n",
       "      <td>open</td>\n",
       "      <td>NaN</td>\n",
       "      <td>NaN</td>\n",
       "      <td>NaN</td>\n",
       "      <td>NaN</td>\n",
       "    </tr>\n",
       "    <tr>\n",
       "      <td>freq</td>\n",
       "      <td>201</td>\n",
       "      <td>120</td>\n",
       "      <td>NaN</td>\n",
       "      <td>17</td>\n",
       "      <td>148</td>\n",
       "      <td>NaN</td>\n",
       "      <td>NaN</td>\n",
       "      <td>NaN</td>\n",
       "      <td>NaN</td>\n",
       "    </tr>\n",
       "    <tr>\n",
       "      <td>mean</td>\n",
       "      <td>NaN</td>\n",
       "      <td>NaN</td>\n",
       "      <td>0.612167</td>\n",
       "      <td>NaN</td>\n",
       "      <td>NaN</td>\n",
       "      <td>68.269962</td>\n",
       "      <td>24.479087</td>\n",
       "      <td>95.768061</td>\n",
       "      <td>139.380228</td>\n",
       "    </tr>\n",
       "    <tr>\n",
       "      <td>std</td>\n",
       "      <td>NaN</td>\n",
       "      <td>NaN</td>\n",
       "      <td>0.495942</td>\n",
       "      <td>NaN</td>\n",
       "      <td>NaN</td>\n",
       "      <td>228.931169</td>\n",
       "      <td>64.499294</td>\n",
       "      <td>100.830953</td>\n",
       "      <td>127.355965</td>\n",
       "    </tr>\n",
       "    <tr>\n",
       "      <td>min</td>\n",
       "      <td>NaN</td>\n",
       "      <td>NaN</td>\n",
       "      <td>0.000000</td>\n",
       "      <td>NaN</td>\n",
       "      <td>NaN</td>\n",
       "      <td>0.000000</td>\n",
       "      <td>0.000000</td>\n",
       "      <td>2.000000</td>\n",
       "      <td>2.000000</td>\n",
       "    </tr>\n",
       "    <tr>\n",
       "      <td>25%</td>\n",
       "      <td>NaN</td>\n",
       "      <td>NaN</td>\n",
       "      <td>0.000000</td>\n",
       "      <td>NaN</td>\n",
       "      <td>NaN</td>\n",
       "      <td>0.000000</td>\n",
       "      <td>0.000000</td>\n",
       "      <td>40.500000</td>\n",
       "      <td>65.000000</td>\n",
       "    </tr>\n",
       "    <tr>\n",
       "      <td>50%</td>\n",
       "      <td>NaN</td>\n",
       "      <td>NaN</td>\n",
       "      <td>1.000000</td>\n",
       "      <td>NaN</td>\n",
       "      <td>NaN</td>\n",
       "      <td>6.000000</td>\n",
       "      <td>4.000000</td>\n",
       "      <td>67.000000</td>\n",
       "      <td>105.000000</td>\n",
       "    </tr>\n",
       "    <tr>\n",
       "      <td>75%</td>\n",
       "      <td>NaN</td>\n",
       "      <td>NaN</td>\n",
       "      <td>1.000000</td>\n",
       "      <td>NaN</td>\n",
       "      <td>NaN</td>\n",
       "      <td>39.000000</td>\n",
       "      <td>20.000000</td>\n",
       "      <td>98.500000</td>\n",
       "      <td>158.500000</td>\n",
       "    </tr>\n",
       "    <tr>\n",
       "      <td>max</td>\n",
       "      <td>NaN</td>\n",
       "      <td>NaN</td>\n",
       "      <td>2.000000</td>\n",
       "      <td>NaN</td>\n",
       "      <td>NaN</td>\n",
       "      <td>2072.000000</td>\n",
       "      <td>770.000000</td>\n",
       "      <td>676.000000</td>\n",
       "      <td>839.000000</td>\n",
       "    </tr>\n",
       "  </tbody>\n",
       "</table>\n",
       "</div>"
      ],
      "text/plain": [
       "           type    license  related_identifier publication_date Access_Right  \\\n",
       "count       263        263          263.000000              263          263   \n",
       "unique        6         10                 NaN              185            4   \n",
       "top     dataset  CC-BY-4.0                 NaN       2021-03-10         open   \n",
       "freq        201        120                 NaN               17          148   \n",
       "mean        NaN        NaN            0.612167              NaN          NaN   \n",
       "std         NaN        NaN            0.495942              NaN          NaN   \n",
       "min         NaN        NaN            0.000000              NaN          NaN   \n",
       "25%         NaN        NaN            0.000000              NaN          NaN   \n",
       "50%         NaN        NaN            1.000000              NaN          NaN   \n",
       "75%         NaN        NaN            1.000000              NaN          NaN   \n",
       "max         NaN        NaN            2.000000              NaN          NaN   \n",
       "\n",
       "          Downloads  unique_downloads  unique_views       views  \n",
       "count    263.000000        263.000000    263.000000  263.000000  \n",
       "unique          NaN               NaN           NaN         NaN  \n",
       "top             NaN               NaN           NaN         NaN  \n",
       "freq            NaN               NaN           NaN         NaN  \n",
       "mean      68.269962         24.479087     95.768061  139.380228  \n",
       "std      228.931169         64.499294    100.830953  127.355965  \n",
       "min        0.000000          0.000000      2.000000    2.000000  \n",
       "25%        0.000000          0.000000     40.500000   65.000000  \n",
       "50%        6.000000          4.000000     67.000000  105.000000  \n",
       "75%       39.000000         20.000000     98.500000  158.500000  \n",
       "max     2072.000000        770.000000    676.000000  839.000000  "
      ]
     },
     "execution_count": 10,
     "metadata": {},
     "output_type": "execute_result"
    }
   ],
   "source": [
    "df.describe(include='all')"
   ]
  },
  {
   "cell_type": "code",
   "execution_count": 11,
   "metadata": {},
   "outputs": [
    {
     "data": {
      "text/plain": [
       "(263, 9)"
      ]
     },
     "execution_count": 11,
     "metadata": {},
     "output_type": "execute_result"
    }
   ],
   "source": [
    "df.shape"
   ]
  },
  {
   "cell_type": "code",
   "execution_count": 12,
   "metadata": {},
   "outputs": [
    {
     "data": {
      "text/plain": [
       "type                  object\n",
       "license               object\n",
       "related_identifier     int64\n",
       "publication_date      object\n",
       "Access_Right          object\n",
       "Downloads              int64\n",
       "unique_downloads       int64\n",
       "unique_views           int64\n",
       "views                  int64\n",
       "dtype: object"
      ]
     },
     "execution_count": 12,
     "metadata": {},
     "output_type": "execute_result"
    }
   ],
   "source": [
    "df.dtypes"
   ]
  },
  {
   "cell_type": "code",
   "execution_count": 13,
   "metadata": {},
   "outputs": [
    {
     "data": {
      "text/plain": [
       "Index(['type', 'license', 'related_identifier', 'publication_date',\n",
       "       'Access_Right', 'Downloads', 'unique_downloads', 'unique_views',\n",
       "       'views'],\n",
       "      dtype='object')"
      ]
     },
     "execution_count": 13,
     "metadata": {},
     "output_type": "execute_result"
    }
   ],
   "source": [
    "df.columns"
   ]
  },
  {
   "cell_type": "code",
   "execution_count": 14,
   "metadata": {},
   "outputs": [
    {
     "data": {
      "text/plain": [
       "263"
      ]
     },
     "execution_count": 14,
     "metadata": {},
     "output_type": "execute_result"
    }
   ],
   "source": [
    "len(df)"
   ]
  },
  {
   "cell_type": "code",
   "execution_count": 15,
   "metadata": {},
   "outputs": [
    {
     "data": {
      "text/plain": [
       "dataset         201\n",
       "software         24\n",
       "image            14\n",
       "other            13\n",
       "video             6\n",
       "presentation      5\n",
       "Name: type, dtype: int64"
      ]
     },
     "execution_count": 15,
     "metadata": {},
     "output_type": "execute_result"
    }
   ],
   "source": [
    "df['type'].value_counts()"
   ]
  },
  {
   "cell_type": "code",
   "execution_count": 16,
   "metadata": {},
   "outputs": [
    {
     "data": {
      "text/plain": [
       "dataset         0.764259\n",
       "software        0.091255\n",
       "image           0.053232\n",
       "other           0.049430\n",
       "video           0.022814\n",
       "presentation    0.019011\n",
       "Name: type, dtype: float64"
      ]
     },
     "execution_count": 16,
     "metadata": {},
     "output_type": "execute_result"
    }
   ],
   "source": [
    "df['type'].value_counts(normalize=True)"
   ]
  },
  {
   "cell_type": "code",
   "execution_count": 17,
   "metadata": {},
   "outputs": [
    {
     "data": {
      "text/plain": [
       "'dataset'"
      ]
     },
     "execution_count": 17,
     "metadata": {},
     "output_type": "execute_result"
    }
   ],
   "source": [
    "type_mode = df['type'].mode()\n",
    "type_mode[0]"
   ]
  },
  {
   "cell_type": "code",
   "execution_count": 18,
   "metadata": {},
   "outputs": [
    {
     "data": {
      "text/plain": [
       "0"
      ]
     },
     "execution_count": 18,
     "metadata": {},
     "output_type": "execute_result"
    }
   ],
   "source": [
    "df['related_identifier'].isna().sum()"
   ]
  },
  {
   "cell_type": "code",
   "execution_count": 19,
   "metadata": {},
   "outputs": [
    {
     "data": {
      "text/plain": [
       "68.26996197718631"
      ]
     },
     "execution_count": 19,
     "metadata": {},
     "output_type": "execute_result"
    }
   ],
   "source": [
    "df['Downloads'].mean()"
   ]
  },
  {
   "cell_type": "code",
   "execution_count": 20,
   "metadata": {},
   "outputs": [
    {
     "data": {
      "text/plain": [
       "6.0"
      ]
     },
     "execution_count": 20,
     "metadata": {},
     "output_type": "execute_result"
    }
   ],
   "source": [
    "df['Downloads'].median()"
   ]
  },
  {
   "cell_type": "code",
   "execution_count": 21,
   "metadata": {},
   "outputs": [
    {
     "data": {
      "text/plain": [
       "52409.480277479444"
      ]
     },
     "execution_count": 21,
     "metadata": {},
     "output_type": "execute_result"
    }
   ],
   "source": [
    "df['Downloads'].var()"
   ]
  },
  {
   "cell_type": "code",
   "execution_count": 22,
   "metadata": {},
   "outputs": [
    {
     "data": {
      "text/plain": [
       "228.9311693009046"
      ]
     },
     "execution_count": 22,
     "metadata": {},
     "output_type": "execute_result"
    }
   ],
   "source": [
    "df['Downloads'].std()"
   ]
  },
  {
   "cell_type": "code",
   "execution_count": 23,
   "metadata": {},
   "outputs": [
    {
     "data": {
      "text/plain": [
       "2072"
      ]
     },
     "execution_count": 23,
     "metadata": {},
     "output_type": "execute_result"
    }
   ],
   "source": [
    "df['Downloads'].max()"
   ]
  },
  {
   "cell_type": "code",
   "execution_count": 24,
   "metadata": {},
   "outputs": [
    {
     "data": {
      "text/plain": [
       "0"
      ]
     },
     "execution_count": 24,
     "metadata": {},
     "output_type": "execute_result"
    }
   ],
   "source": [
    "df['Downloads'].min()"
   ]
  },
  {
   "cell_type": "code",
   "execution_count": 25,
   "metadata": {},
   "outputs": [
    {
     "data": {
      "text/plain": [
       "0.4520000601455801"
      ]
     },
     "execution_count": 25,
     "metadata": {},
     "output_type": "execute_result"
    }
   ],
   "source": [
    "df['Downloads'].corr(df['views'])"
   ]
  },
  {
   "cell_type": "code",
   "execution_count": 26,
   "metadata": {},
   "outputs": [
    {
     "data": {
      "text/plain": [
       "139.38022813688212"
      ]
     },
     "execution_count": 26,
     "metadata": {},
     "output_type": "execute_result"
    }
   ],
   "source": [
    "df['views'].mean()"
   ]
  },
  {
   "cell_type": "code",
   "execution_count": 27,
   "metadata": {},
   "outputs": [
    {
     "data": {
      "text/plain": [
       "105.0"
      ]
     },
     "execution_count": 27,
     "metadata": {},
     "output_type": "execute_result"
    }
   ],
   "source": [
    "df['views'].median()"
   ]
  },
  {
   "cell_type": "code",
   "execution_count": 28,
   "metadata": {},
   "outputs": [],
   "source": [
    "# Nur den Mittelwert etc. eines bestimmten Zetabschnittes errechnen lassen?\n",
    "# Wie eine Printausgabe in eine Datei schreiben lassen bei Ausführung des Programmes?"
   ]
  },
  {
   "cell_type": "code",
   "execution_count": 30,
   "metadata": {},
   "outputs": [
    {
     "data": {
      "text/plain": [
       "<seaborn.axisgrid.FacetGrid at 0x1ab46f5c4c8>"
      ]
     },
     "execution_count": 30,
     "metadata": {},
     "output_type": "execute_result"
    },
    {
     "data": {
      "image/png": "[encoded data removed]",
      "text/plain": [
       "<Figure size 360x360 with 1 Axes>"
      ]
     },
     "metadata": {
      "needs_background": "light"
     },
     "output_type": "display_data"
    }
   ],
   "source": [
    "sns.relplot(x='type', y='license', data=df)"
   ]
  },
  {
   "cell_type": "code",
   "execution_count": null,
   "metadata": {},
   "outputs": [],
   "source": [
    "#plt.savefig('../type_license.png', dpi=150)"
   ]
  },
  {
   "cell_type": "code",
   "execution_count": 34,
   "metadata": {},
   "outputs": [
    {
     "data": {
      "text/plain": [
       "<seaborn.axisgrid.FacetGrid at 0x1ab49b4fcc8>"
      ]
     },
     "execution_count": 34,
     "metadata": {},
     "output_type": "execute_result"
    },
    {
     "data": {
      "image/png": "[encoded data removed]",
      "text/plain": [
       "<Figure size 360x360 with 1 Axes>"
      ]
     },
     "metadata": {
      "needs_background": "light"
     },
     "output_type": "display_data"
    }
   ],
   "source": [
    "sns.relplot(y='type', x='Downloads', data=df)"
   ]
  },
  {
   "cell_type": "code",
   "execution_count": 35,
   "metadata": {},
   "outputs": [
    {
     "data": {
      "text/plain": [
       "<seaborn.axisgrid.FacetGrid at 0x1ab49a8d9c8>"
      ]
     },
     "execution_count": 35,
     "metadata": {},
     "output_type": "execute_result"
    },
    {
     "data": {
      "image/png": "[encoded data removed]",
      "text/plain": [
       "<Figure size 360x360 with 1 Axes>"
      ]
     },
     "metadata": {
      "needs_background": "light"
     },
     "output_type": "display_data"
    }
   ],
   "source": [
    "sns.relplot(y='type', x='views', data=df)"
   ]
  },
  {
   "cell_type": "code",
   "execution_count": 45,
   "metadata": {},
   "outputs": [
    {
     "data": {
      "text/plain": [
       "<seaborn.axisgrid.FacetGrid at 0x1ab4eb967c8>"
      ]
     },
     "execution_count": 45,
     "metadata": {},
     "output_type": "execute_result"
    },
    {
     "data": {
      "image/png": "[encoded data removed]",
      "text/plain": [
       "<Figure size 1174.1x360 with 1 Axes>"
      ]
     },
     "metadata": {
      "needs_background": "light"
     },
     "output_type": "display_data"
    }
   ],
   "source": [
    "#Problem: Wie kann ich hier nur bestimmte Daten zb 2021 in die Darstellung einbringen?\n",
    "sns.relplot(x='publication_date', y='type', \n",
    "            size='Downloads',\n",
    "            #row='license', \n",
    "            #col='license', \n",
    "            data=df,\n",
    "            height=5, aspect=3)"
   ]
  },
  {
   "cell_type": "code",
   "execution_count": 48,
   "metadata": {},
   "outputs": [
    {
     "data": {
      "text/plain": [
       "<seaborn.axisgrid.FacetGrid at 0x1ab522b2b48>"
      ]
     },
     "execution_count": 48,
     "metadata": {},
     "output_type": "execute_result"
    },
    {
     "data": {
      "image/png": "[encoded data removed]",
      "text/plain": [
       "<Figure size 1080x360 with 1 Axes>"
      ]
     },
     "metadata": {
      "needs_background": "light"
     },
     "output_type": "display_data"
    }
   ],
   "source": [
    "sns.catplot(x='publication_date',\n",
    "            data=df, kind='count', color=\"steelblue\", height=5, aspect=3)"
   ]
  },
  {
   "cell_type": "code",
   "execution_count": 52,
   "metadata": {},
   "outputs": [
    {
     "data": {
      "text/plain": [
       "[<matplotlib.lines.Line2D at 0x1ab53d60848>]"
      ]
     },
     "execution_count": 52,
     "metadata": {},
     "output_type": "execute_result"
    },
    {
     "data": {
      "image/png": "[encoded data removed]",
      "text/plain": [
       "<Figure size 432x288 with 1 Axes>"
      ]
     },
     "metadata": {
      "needs_background": "light"
     },
     "output_type": "display_data"
    }
   ],
   "source": [
    "plt.plot(df['publication_date'], df['views'], color='#4870a0', marker='o')"
   ]
  },
  {
   "cell_type": "code",
   "execution_count": 62,
   "metadata": {},
   "outputs": [
    {
     "data": {
      "text/plain": [
       "[<matplotlib.collections.PolyCollection at 0x1ab53fa3cc8>,\n",
       " <matplotlib.collections.PolyCollection at 0x1ab53fa3c08>]"
      ]
     },
     "execution_count": 62,
     "metadata": {},
     "output_type": "execute_result"
    },
    {
     "data": {
      "image/png": "[encoded data removed]",
      "text/plain": [
       "<Figure size 432x288 with 1 Axes>"
      ]
     },
     "metadata": {
      "needs_background": "light"
     },
     "output_type": "display_data"
    }
   ],
   "source": [
    "plt.stackplot(df['publication_date'], \n",
    "              df['unique_views'], \n",
    "              df['views'],\n",
    "              alpha=0.75,\n",
    "              colors=['#7289da','#f29fa9'],\n",
    "              labels=['unique_views', 'views'])"
   ]
  },
  {
   "cell_type": "code",
   "execution_count": null,
   "metadata": {},
   "outputs": [],
   "source": []
  }
 ],
 "metadata": {
  "kernelspec": {
   "display_name": "Python 3",
   "language": "python",
   "name": "python3"
  },
  "language_info": {
   "codemirror_mode": {
    "name": "ipython",
    "version": 3
   },
   "file_extension": ".py",
   "mimetype": "text/x-python",
   "name": "python",
   "nbconvert_exporter": "python",
   "pygments_lexer": "ipython3",
   "version": "3.7.4"
  }
 },
 "nbformat": 4,
 "nbformat_minor": 2
}
