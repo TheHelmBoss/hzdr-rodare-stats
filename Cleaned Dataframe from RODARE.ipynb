{
 "cells": [
  {
   "cell_type": "code",
   "execution_count": 1,
   "metadata": {},
   "outputs": [],
   "source": [
    "# Bibliotheken abrufen\n",
    "import json\n",
    "import pandas as pd\n",
    "import requests\n",
    "import numpy as np\n",
    "import matplotlib.pyplot as plt\n",
    "import seaborn as sns\n",
    "%matplotlib inline\n",
    "sns.set()"
   ]
  },
  {
   "cell_type": "code",
   "execution_count": 2,
   "metadata": {},
   "outputs": [],
   "source": [
    "# URL als Variable definieren\n",
    "url = \"https://rodare.hzdr.de/api/records/?page=1&sort=mostrecent&size=1000\""
   ]
  },
  {
   "cell_type": "code",
   "execution_count": 3,
   "metadata": {},
   "outputs": [],
   "source": [
    "# Funktion um Inhalt aus URL in r zu speichern\n",
    "r = requests.get(url)"
   ]
  },
  {
   "cell_type": "code",
   "execution_count": 4,
   "metadata": {},
   "outputs": [],
   "source": [
    "# JSON lesen lassen\n",
    "json = r.json()"
   ]
  },
  {
   "cell_type": "code",
   "execution_count": 5,
   "metadata": {},
   "outputs": [],
   "source": [
    "# Dictionary anlegen und Keys der gewünschten Werte definieren\n",
    "Meta_dict = {}\n",
    "Meta_dict['type'] = []\n",
    "Meta_dict['license'] = []\n",
    "Meta_dict['rel_id'] = []\n",
    "Meta_dict['pub_date'] = []\n",
    "Meta_dict['Access_Right'] = []\n",
    "Meta_dict['Downloads'] = []\n",
    "Meta_dict['unique_downloads'] = []\n",
    "Meta_dict['unique_views'] = []\n",
    "Meta_dict['views'] = []\n",
    "Meta_dict['isreferencedby'] = []\n",
    "Meta_dict['doi'] = []"
   ]
  },
  {
   "cell_type": "code",
   "execution_count": 6,
   "metadata": {},
   "outputs": [],
   "source": [
    "# Definition einer Teilliste und for-Schleife, um den type der Records aus allen Einträgen auszulesen und aufzulisten\n",
    "for record in json['hits']['hits']:\n",
    "    Meta_dict['type'].append(record['metadata']['resource_type']['type'])\n",
    "    if 'license' in record['metadata'].keys():\n",
    "        Meta_dict['license'].append(record['metadata']['license']['id'])\n",
    "    else:\n",
    "        Meta_dict['license'].append('NaN')\n",
    "# Neue Iteration in Liste der related identifier anlegen und dort die Bedigungen für das Auslesen definieren\n",
    "    count_id = 0\n",
    "    counter_2 = 0\n",
    "    for identifier in record['metadata']['related_identifiers']:\n",
    "        #print(identifier['relation'])\n",
    "        if identifier['relation'] == 'isReferencedBy' and 'hzdr' in identifier['identifier']:\n",
    "            count_id = count_id + 1\n",
    "        if identifier['relation'] == 'isReferencedBy':\n",
    "            counter_2 = counter_2 + 1\n",
    "        #print(counter_2)\n",
    "    Meta_dict['isreferencedby'].append(counter_2)\n",
    "    Meta_dict['rel_id'].append(count_id)\n",
    "    Meta_dict['pub_date'].append(record['created'][:10])\n",
    "    Meta_dict['Access_Right'].append(record['metadata']['access_right'])\n",
    "    Meta_dict['Downloads'].append(int(record['stats']['downloads']))\n",
    "    Meta_dict['unique_downloads'].append(int(record['stats']['unique_downloads']))\n",
    "    Meta_dict['unique_views'].append(int(record['stats']['unique_views']))\n",
    "    Meta_dict['views'].append(int(record['stats']['views']))\n",
    "    Meta_dict['doi'].append(record['links']['doi'])"
   ]
  },
  {
   "cell_type": "code",
   "execution_count": 7,
   "metadata": {},
   "outputs": [],
   "source": [
    "# https://datatofish.com/select-rows-pandas-dataframe/"
   ]
  },
  {
   "cell_type": "code",
   "execution_count": 8,
   "metadata": {},
   "outputs": [],
   "source": [
    "#for record in json['hits']['hits']:\n",
    "#    counter_2 = 0\n",
    "#    for identifier in record['metadata']['related_identifiers']:\n",
    "#        if identifier['relation'] == 'isReferencedBy':\n",
    "#            counter_2 = counter_2 + 1\n",
    "#    Meta_dict['isreferencedby'].append(counter_2)"
   ]
  },
  {
   "cell_type": "code",
   "execution_count": 9,
   "metadata": {},
   "outputs": [
    {
     "data": {
      "text/plain": [
       "168"
      ]
     },
     "execution_count": 9,
     "metadata": {},
     "output_type": "execute_result"
    }
   ],
   "source": [
    "sum(Meta_dict['isreferencedby'])"
   ]
  },
  {
   "cell_type": "code",
   "execution_count": 10,
   "metadata": {},
   "outputs": [],
   "source": [
    "# Umwandlung des Disctionaries in ein DataFrame \n",
    "df = pd.DataFrame(Meta_dict)"
   ]
  },
  {
   "cell_type": "code",
   "execution_count": 11,
   "metadata": {},
   "outputs": [
    {
     "data": {
      "text/plain": [
       "162"
      ]
     },
     "execution_count": 11,
     "metadata": {},
     "output_type": "execute_result"
    }
   ],
   "source": [
    "sum(df.isreferencedby == 1)"
   ]
  },
  {
   "cell_type": "code",
   "execution_count": 12,
   "metadata": {},
   "outputs": [
    {
     "data": {
      "text/plain": [
       "3"
      ]
     },
     "execution_count": 12,
     "metadata": {},
     "output_type": "execute_result"
    }
   ],
   "source": [
    "sum(df.isreferencedby > 1)"
   ]
  },
  {
   "cell_type": "code",
   "execution_count": 13,
   "metadata": {},
   "outputs": [
    {
     "data": {
      "text/plain": [
       "207"
      ]
     },
     "execution_count": 13,
     "metadata": {},
     "output_type": "execute_result"
    }
   ],
   "source": [
    "sum(df.type == 'dataset')"
   ]
  },
  {
   "cell_type": "code",
   "execution_count": 14,
   "metadata": {},
   "outputs": [
    {
     "data": {
      "text/html": [
       "<div>\n",
       "<style scoped>\n",
       "    .dataframe tbody tr th:only-of-type {\n",
       "        vertical-align: middle;\n",
       "    }\n",
       "\n",
       "    .dataframe tbody tr th {\n",
       "        vertical-align: top;\n",
       "    }\n",
       "\n",
       "    .dataframe thead th {\n",
       "        text-align: right;\n",
       "    }\n",
       "</style>\n",
       "<table border=\"1\" class=\"dataframe\">\n",
       "  <thead>\n",
       "    <tr style=\"text-align: right;\">\n",
       "      <th></th>\n",
       "      <th>type</th>\n",
       "      <th>license</th>\n",
       "      <th>rel_id</th>\n",
       "      <th>pub_date</th>\n",
       "      <th>Access_Right</th>\n",
       "      <th>Downloads</th>\n",
       "      <th>unique_downloads</th>\n",
       "      <th>unique_views</th>\n",
       "      <th>views</th>\n",
       "      <th>isreferencedby</th>\n",
       "      <th>doi</th>\n",
       "    </tr>\n",
       "  </thead>\n",
       "  <tbody>\n",
       "    <tr>\n",
       "      <td>0</td>\n",
       "      <td>dataset</td>\n",
       "      <td>CC-BY-4.0</td>\n",
       "      <td>1</td>\n",
       "      <td>2021-08-12</td>\n",
       "      <td>open</td>\n",
       "      <td>0</td>\n",
       "      <td>0</td>\n",
       "      <td>3</td>\n",
       "      <td>3</td>\n",
       "      <td>1</td>\n",
       "      <td>https://doi.org/10.14278/rodare.1111</td>\n",
       "    </tr>\n",
       "    <tr>\n",
       "      <td>1</td>\n",
       "      <td>dataset</td>\n",
       "      <td>CC-BY-4.0</td>\n",
       "      <td>1</td>\n",
       "      <td>2021-08-09</td>\n",
       "      <td>open</td>\n",
       "      <td>2</td>\n",
       "      <td>2</td>\n",
       "      <td>14</td>\n",
       "      <td>19</td>\n",
       "      <td>1</td>\n",
       "      <td>https://doi.org/10.14278/rodare.1098</td>\n",
       "    </tr>\n",
       "    <tr>\n",
       "      <td>2</td>\n",
       "      <td>dataset</td>\n",
       "      <td>CC-BY-4.0</td>\n",
       "      <td>0</td>\n",
       "      <td>2021-08-09</td>\n",
       "      <td>open</td>\n",
       "      <td>0</td>\n",
       "      <td>0</td>\n",
       "      <td>5</td>\n",
       "      <td>5</td>\n",
       "      <td>0</td>\n",
       "      <td>https://doi.org/10.14278/rodare.1105</td>\n",
       "    </tr>\n",
       "    <tr>\n",
       "      <td>3</td>\n",
       "      <td>software</td>\n",
       "      <td>LGPL-3.0</td>\n",
       "      <td>0</td>\n",
       "      <td>2021-08-06</td>\n",
       "      <td>open</td>\n",
       "      <td>0</td>\n",
       "      <td>0</td>\n",
       "      <td>22</td>\n",
       "      <td>31</td>\n",
       "      <td>0</td>\n",
       "      <td>https://doi.org/10.14278/rodare.1103</td>\n",
       "    </tr>\n",
       "    <tr>\n",
       "      <td>4</td>\n",
       "      <td>dataset</td>\n",
       "      <td>NaN</td>\n",
       "      <td>1</td>\n",
       "      <td>2021-08-06</td>\n",
       "      <td>restricted</td>\n",
       "      <td>0</td>\n",
       "      <td>0</td>\n",
       "      <td>4</td>\n",
       "      <td>4</td>\n",
       "      <td>1</td>\n",
       "      <td>https://doi.org/10.14278/rodare.1093</td>\n",
       "    </tr>\n",
       "    <tr>\n",
       "      <td>...</td>\n",
       "      <td>...</td>\n",
       "      <td>...</td>\n",
       "      <td>...</td>\n",
       "      <td>...</td>\n",
       "      <td>...</td>\n",
       "      <td>...</td>\n",
       "      <td>...</td>\n",
       "      <td>...</td>\n",
       "      <td>...</td>\n",
       "      <td>...</td>\n",
       "      <td>...</td>\n",
       "    </tr>\n",
       "    <tr>\n",
       "      <td>265</td>\n",
       "      <td>dataset</td>\n",
       "      <td>CC-BY-SA-4.0</td>\n",
       "      <td>0</td>\n",
       "      <td>2018-05-09</td>\n",
       "      <td>open</td>\n",
       "      <td>23</td>\n",
       "      <td>22</td>\n",
       "      <td>340</td>\n",
       "      <td>402</td>\n",
       "      <td>0</td>\n",
       "      <td>https://doi.org/10.14278/rodare.24</td>\n",
       "    </tr>\n",
       "    <tr>\n",
       "      <td>266</td>\n",
       "      <td>dataset</td>\n",
       "      <td>CC-BY-4.0</td>\n",
       "      <td>0</td>\n",
       "      <td>2018-04-25</td>\n",
       "      <td>open</td>\n",
       "      <td>90</td>\n",
       "      <td>33</td>\n",
       "      <td>349</td>\n",
       "      <td>423</td>\n",
       "      <td>0</td>\n",
       "      <td>https://doi.org/10.14278/rodare.16</td>\n",
       "    </tr>\n",
       "    <tr>\n",
       "      <td>267</td>\n",
       "      <td>dataset</td>\n",
       "      <td>CC-BY-4.0</td>\n",
       "      <td>0</td>\n",
       "      <td>2018-04-12</td>\n",
       "      <td>open</td>\n",
       "      <td>23</td>\n",
       "      <td>18</td>\n",
       "      <td>287</td>\n",
       "      <td>344</td>\n",
       "      <td>0</td>\n",
       "      <td>https://doi.org/10.14278/rodare.8</td>\n",
       "    </tr>\n",
       "    <tr>\n",
       "      <td>268</td>\n",
       "      <td>dataset</td>\n",
       "      <td>NaN</td>\n",
       "      <td>0</td>\n",
       "      <td>2018-03-20</td>\n",
       "      <td>restricted</td>\n",
       "      <td>0</td>\n",
       "      <td>0</td>\n",
       "      <td>257</td>\n",
       "      <td>290</td>\n",
       "      <td>0</td>\n",
       "      <td>https://doi.org/10.14278/rodare.4</td>\n",
       "    </tr>\n",
       "    <tr>\n",
       "      <td>269</td>\n",
       "      <td>image</td>\n",
       "      <td>CC-BY-4.0</td>\n",
       "      <td>0</td>\n",
       "      <td>2018-02-28</td>\n",
       "      <td>open</td>\n",
       "      <td>433</td>\n",
       "      <td>250</td>\n",
       "      <td>411</td>\n",
       "      <td>503</td>\n",
       "      <td>0</td>\n",
       "      <td>https://doi.org/10.14278/rodare.2</td>\n",
       "    </tr>\n",
       "  </tbody>\n",
       "</table>\n",
       "<p>270 rows × 11 columns</p>\n",
       "</div>"
      ],
      "text/plain": [
       "         type       license  rel_id    pub_date Access_Right  Downloads  \\\n",
       "0     dataset     CC-BY-4.0       1  2021-08-12         open          0   \n",
       "1     dataset     CC-BY-4.0       1  2021-08-09         open          2   \n",
       "2     dataset     CC-BY-4.0       0  2021-08-09         open          0   \n",
       "3    software      LGPL-3.0       0  2021-08-06         open          0   \n",
       "4     dataset           NaN       1  2021-08-06   restricted          0   \n",
       "..        ...           ...     ...         ...          ...        ...   \n",
       "265   dataset  CC-BY-SA-4.0       0  2018-05-09         open         23   \n",
       "266   dataset     CC-BY-4.0       0  2018-04-25         open         90   \n",
       "267   dataset     CC-BY-4.0       0  2018-04-12         open         23   \n",
       "268   dataset           NaN       0  2018-03-20   restricted          0   \n",
       "269     image     CC-BY-4.0       0  2018-02-28         open        433   \n",
       "\n",
       "     unique_downloads  unique_views  views  isreferencedby  \\\n",
       "0                   0             3      3               1   \n",
       "1                   2            14     19               1   \n",
       "2                   0             5      5               0   \n",
       "3                   0            22     31               0   \n",
       "4                   0             4      4               1   \n",
       "..                ...           ...    ...             ...   \n",
       "265                22           340    402               0   \n",
       "266                33           349    423               0   \n",
       "267                18           287    344               0   \n",
       "268                 0           257    290               0   \n",
       "269               250           411    503               0   \n",
       "\n",
       "                                      doi  \n",
       "0    https://doi.org/10.14278/rodare.1111  \n",
       "1    https://doi.org/10.14278/rodare.1098  \n",
       "2    https://doi.org/10.14278/rodare.1105  \n",
       "3    https://doi.org/10.14278/rodare.1103  \n",
       "4    https://doi.org/10.14278/rodare.1093  \n",
       "..                                    ...  \n",
       "265    https://doi.org/10.14278/rodare.24  \n",
       "266    https://doi.org/10.14278/rodare.16  \n",
       "267     https://doi.org/10.14278/rodare.8  \n",
       "268     https://doi.org/10.14278/rodare.4  \n",
       "269     https://doi.org/10.14278/rodare.2  \n",
       "\n",
       "[270 rows x 11 columns]"
      ]
     },
     "execution_count": 14,
     "metadata": {},
     "output_type": "execute_result"
    }
   ],
   "source": [
    "df"
   ]
  },
  {
   "cell_type": "code",
   "execution_count": null,
   "metadata": {},
   "outputs": [],
   "source": []
  },
  {
   "cell_type": "code",
   "execution_count": 15,
   "metadata": {},
   "outputs": [
    {
     "name": "stdout",
     "output_type": "stream",
     "text": [
      "Es sind 1263 Tage seit der Inbetriebnahme von RODARE vergangen\n"
     ]
    }
   ],
   "source": [
    "# https://www.python-lernen.de/python-modul-datetime.htm\n",
    "from datetime import date\n",
    "aktuellesDatum = date.today()\n",
    "rodare_pub = date(2018,2,28)\n",
    "zeitraum = aktuellesDatum - rodare_pub\n",
    "print(\"Es sind\", zeitraum.days, \"Tage seit der Inbetriebnahme von RODARE vergangen\")\n",
    "zr = zeitraum.days\n",
    "ds = zr/len(df)\n",
    "lpd = df['Downloads'].sum()/zr"
   ]
  },
  {
   "cell_type": "code",
   "execution_count": 16,
   "metadata": {},
   "outputs": [
    {
     "name": "stdout",
     "output_type": "stream",
     "text": [
      "Stand (14.08.2021) - Seit Inbetriebnahme von RODARE wurden aus der Gesamtheit von 270 Records 18920 Downloads getätigt.\n"
     ]
    }
   ],
   "source": [
    "print('Stand ('+ aktuellesDatum.strftime(\"%d.%m.%Y\") +\\\n",
    "      ') - Seit Inbetriebnahme von RODARE wurden aus der Gesamtheit von ' + str(len(df)) \\\n",
    "      + ' Records ' + str(df['Downloads'].sum()) + ' Downloads getätigt.')"
   ]
  },
  {
   "cell_type": "code",
   "execution_count": 17,
   "metadata": {},
   "outputs": [
    {
     "name": "stdout",
     "output_type": "stream",
     "text": [
      "Seit der Inbetriebnahme von RODARE sind 1263 Tage vergangen. \n",
      "Das entspricht eine Veröffentlichung alle 4.7 Tage und 15.0 Downloads pro Tag.\n"
     ]
    }
   ],
   "source": [
    "print('Seit der Inbetriebnahme von RODARE sind', zeitraum.days , \n",
    "      'Tage vergangen. \\nDas entspricht eine Veröffentlichung alle', round(ds,1) ,\n",
    "      'Tage und' ,round(lpd,1), 'Downloads pro Tag.')"
   ]
  },
  {
   "cell_type": "code",
   "execution_count": 18,
   "metadata": {},
   "outputs": [
    {
     "data": {
      "text/html": [
       "<div>\n",
       "<style scoped>\n",
       "    .dataframe tbody tr th:only-of-type {\n",
       "        vertical-align: middle;\n",
       "    }\n",
       "\n",
       "    .dataframe tbody tr th {\n",
       "        vertical-align: top;\n",
       "    }\n",
       "\n",
       "    .dataframe thead th {\n",
       "        text-align: right;\n",
       "    }\n",
       "</style>\n",
       "<table border=\"1\" class=\"dataframe\">\n",
       "  <thead>\n",
       "    <tr style=\"text-align: right;\">\n",
       "      <th></th>\n",
       "      <th>type</th>\n",
       "      <th>license</th>\n",
       "      <th>rel_id</th>\n",
       "      <th>pub_date</th>\n",
       "      <th>Access_Right</th>\n",
       "      <th>Downloads</th>\n",
       "      <th>unique_downloads</th>\n",
       "      <th>unique_views</th>\n",
       "      <th>views</th>\n",
       "      <th>isreferencedby</th>\n",
       "      <th>doi</th>\n",
       "    </tr>\n",
       "  </thead>\n",
       "  <tbody>\n",
       "    <tr>\n",
       "      <td>count</td>\n",
       "      <td>270</td>\n",
       "      <td>270</td>\n",
       "      <td>270.000000</td>\n",
       "      <td>270</td>\n",
       "      <td>270</td>\n",
       "      <td>270.000000</td>\n",
       "      <td>270.000000</td>\n",
       "      <td>270.000000</td>\n",
       "      <td>270.000000</td>\n",
       "      <td>270.000000</td>\n",
       "      <td>270</td>\n",
       "    </tr>\n",
       "    <tr>\n",
       "      <td>unique</td>\n",
       "      <td>6</td>\n",
       "      <td>10</td>\n",
       "      <td>NaN</td>\n",
       "      <td>177</td>\n",
       "      <td>4</td>\n",
       "      <td>NaN</td>\n",
       "      <td>NaN</td>\n",
       "      <td>NaN</td>\n",
       "      <td>NaN</td>\n",
       "      <td>NaN</td>\n",
       "      <td>270</td>\n",
       "    </tr>\n",
       "    <tr>\n",
       "      <td>top</td>\n",
       "      <td>dataset</td>\n",
       "      <td>CC-BY-4.0</td>\n",
       "      <td>NaN</td>\n",
       "      <td>2021-03-10</td>\n",
       "      <td>open</td>\n",
       "      <td>NaN</td>\n",
       "      <td>NaN</td>\n",
       "      <td>NaN</td>\n",
       "      <td>NaN</td>\n",
       "      <td>NaN</td>\n",
       "      <td>https://doi.org/10.14278/rodare.656</td>\n",
       "    </tr>\n",
       "    <tr>\n",
       "      <td>freq</td>\n",
       "      <td>207</td>\n",
       "      <td>125</td>\n",
       "      <td>NaN</td>\n",
       "      <td>18</td>\n",
       "      <td>153</td>\n",
       "      <td>NaN</td>\n",
       "      <td>NaN</td>\n",
       "      <td>NaN</td>\n",
       "      <td>NaN</td>\n",
       "      <td>NaN</td>\n",
       "      <td>1</td>\n",
       "    </tr>\n",
       "    <tr>\n",
       "      <td>mean</td>\n",
       "      <td>NaN</td>\n",
       "      <td>NaN</td>\n",
       "      <td>0.614815</td>\n",
       "      <td>NaN</td>\n",
       "      <td>NaN</td>\n",
       "      <td>70.074074</td>\n",
       "      <td>26.570370</td>\n",
       "      <td>97.144444</td>\n",
       "      <td>140.344444</td>\n",
       "      <td>0.622222</td>\n",
       "      <td>NaN</td>\n",
       "    </tr>\n",
       "    <tr>\n",
       "      <td>std</td>\n",
       "      <td>NaN</td>\n",
       "      <td>NaN</td>\n",
       "      <td>0.495109</td>\n",
       "      <td>NaN</td>\n",
       "      <td>NaN</td>\n",
       "      <td>240.290473</td>\n",
       "      <td>73.376915</td>\n",
       "      <td>101.609270</td>\n",
       "      <td>128.874668</td>\n",
       "      <td>0.508174</td>\n",
       "      <td>NaN</td>\n",
       "    </tr>\n",
       "    <tr>\n",
       "      <td>min</td>\n",
       "      <td>NaN</td>\n",
       "      <td>NaN</td>\n",
       "      <td>0.000000</td>\n",
       "      <td>NaN</td>\n",
       "      <td>NaN</td>\n",
       "      <td>0.000000</td>\n",
       "      <td>0.000000</td>\n",
       "      <td>3.000000</td>\n",
       "      <td>3.000000</td>\n",
       "      <td>0.000000</td>\n",
       "      <td>NaN</td>\n",
       "    </tr>\n",
       "    <tr>\n",
       "      <td>25%</td>\n",
       "      <td>NaN</td>\n",
       "      <td>NaN</td>\n",
       "      <td>0.000000</td>\n",
       "      <td>NaN</td>\n",
       "      <td>NaN</td>\n",
       "      <td>0.000000</td>\n",
       "      <td>0.000000</td>\n",
       "      <td>40.250000</td>\n",
       "      <td>63.000000</td>\n",
       "      <td>0.000000</td>\n",
       "      <td>NaN</td>\n",
       "    </tr>\n",
       "    <tr>\n",
       "      <td>50%</td>\n",
       "      <td>NaN</td>\n",
       "      <td>NaN</td>\n",
       "      <td>1.000000</td>\n",
       "      <td>NaN</td>\n",
       "      <td>NaN</td>\n",
       "      <td>5.000000</td>\n",
       "      <td>4.000000</td>\n",
       "      <td>68.000000</td>\n",
       "      <td>107.000000</td>\n",
       "      <td>1.000000</td>\n",
       "      <td>NaN</td>\n",
       "    </tr>\n",
       "    <tr>\n",
       "      <td>75%</td>\n",
       "      <td>NaN</td>\n",
       "      <td>NaN</td>\n",
       "      <td>1.000000</td>\n",
       "      <td>NaN</td>\n",
       "      <td>NaN</td>\n",
       "      <td>37.000000</td>\n",
       "      <td>20.000000</td>\n",
       "      <td>102.500000</td>\n",
       "      <td>160.000000</td>\n",
       "      <td>1.000000</td>\n",
       "      <td>NaN</td>\n",
       "    </tr>\n",
       "    <tr>\n",
       "      <td>max</td>\n",
       "      <td>NaN</td>\n",
       "      <td>NaN</td>\n",
       "      <td>2.000000</td>\n",
       "      <td>NaN</td>\n",
       "      <td>NaN</td>\n",
       "      <td>2216.000000</td>\n",
       "      <td>909.000000</td>\n",
       "      <td>691.000000</td>\n",
       "      <td>847.000000</td>\n",
       "      <td>2.000000</td>\n",
       "      <td>NaN</td>\n",
       "    </tr>\n",
       "  </tbody>\n",
       "</table>\n",
       "</div>"
      ],
      "text/plain": [
       "           type    license      rel_id    pub_date Access_Right    Downloads  \\\n",
       "count       270        270  270.000000         270          270   270.000000   \n",
       "unique        6         10         NaN         177            4          NaN   \n",
       "top     dataset  CC-BY-4.0         NaN  2021-03-10         open          NaN   \n",
       "freq        207        125         NaN          18          153          NaN   \n",
       "mean        NaN        NaN    0.614815         NaN          NaN    70.074074   \n",
       "std         NaN        NaN    0.495109         NaN          NaN   240.290473   \n",
       "min         NaN        NaN    0.000000         NaN          NaN     0.000000   \n",
       "25%         NaN        NaN    0.000000         NaN          NaN     0.000000   \n",
       "50%         NaN        NaN    1.000000         NaN          NaN     5.000000   \n",
       "75%         NaN        NaN    1.000000         NaN          NaN    37.000000   \n",
       "max         NaN        NaN    2.000000         NaN          NaN  2216.000000   \n",
       "\n",
       "        unique_downloads  unique_views       views  isreferencedby  \\\n",
       "count         270.000000    270.000000  270.000000      270.000000   \n",
       "unique               NaN           NaN         NaN             NaN   \n",
       "top                  NaN           NaN         NaN             NaN   \n",
       "freq                 NaN           NaN         NaN             NaN   \n",
       "mean           26.570370     97.144444  140.344444        0.622222   \n",
       "std            73.376915    101.609270  128.874668        0.508174   \n",
       "min             0.000000      3.000000    3.000000        0.000000   \n",
       "25%             0.000000     40.250000   63.000000        0.000000   \n",
       "50%             4.000000     68.000000  107.000000        1.000000   \n",
       "75%            20.000000    102.500000  160.000000        1.000000   \n",
       "max           909.000000    691.000000  847.000000        2.000000   \n",
       "\n",
       "                                        doi  \n",
       "count                                   270  \n",
       "unique                                  270  \n",
       "top     https://doi.org/10.14278/rodare.656  \n",
       "freq                                      1  \n",
       "mean                                    NaN  \n",
       "std                                     NaN  \n",
       "min                                     NaN  \n",
       "25%                                     NaN  \n",
       "50%                                     NaN  \n",
       "75%                                     NaN  \n",
       "max                                     NaN  "
      ]
     },
     "execution_count": 18,
     "metadata": {},
     "output_type": "execute_result"
    }
   ],
   "source": [
    "df.describe(include='all')"
   ]
  },
  {
   "cell_type": "code",
   "execution_count": null,
   "metadata": {},
   "outputs": [],
   "source": []
  },
  {
   "cell_type": "code",
   "execution_count": 19,
   "metadata": {},
   "outputs": [
    {
     "data": {
      "text/plain": [
       "(270, 11)"
      ]
     },
     "execution_count": 19,
     "metadata": {},
     "output_type": "execute_result"
    }
   ],
   "source": [
    "df.shape"
   ]
  },
  {
   "cell_type": "code",
   "execution_count": 20,
   "metadata": {},
   "outputs": [],
   "source": [
    "# sorted_df = df.sort_values(by='publication_date', ascending=False)\n",
    "# print(sorted_df)"
   ]
  },
  {
   "cell_type": "code",
   "execution_count": 21,
   "metadata": {},
   "outputs": [],
   "source": [
    "# df['publication_date'] >= '2021-01-01'"
   ]
  },
  {
   "cell_type": "code",
   "execution_count": 27,
   "metadata": {
    "scrolled": true
   },
   "outputs": [
    {
     "data": {
      "text/plain": [
       "array([False, False, False, False, False, False, False, False, False,\n",
       "       False, False, False, False, False, False, False, False, False,\n",
       "       False, False, False, False, False, False, False, False, False,\n",
       "       False, False, False, False, False, False, False, False, False,\n",
       "       False, False, False, False, False, False, False, False, False,\n",
       "       False, False, False, False, False, False, False, False, False,\n",
       "        True,  True,  True,  True,  True,  True,  True,  True,  True,\n",
       "        True,  True,  True,  True,  True,  True,  True,  True,  True,\n",
       "        True,  True,  True,  True,  True,  True,  True,  True,  True,\n",
       "        True,  True,  True,  True,  True,  True,  True,  True,  True,\n",
       "        True,  True,  True,  True,  True,  True,  True,  True,  True,\n",
       "        True,  True,  True,  True,  True,  True,  True,  True,  True,\n",
       "        True,  True,  True,  True,  True,  True,  True,  True,  True,\n",
       "       False, False, False, False, False, False, False, False, False,\n",
       "       False, False, False, False, False, False, False, False, False,\n",
       "       False, False, False, False, False, False, False, False, False,\n",
       "       False, False, False, False, False, False, False, False, False,\n",
       "       False, False, False, False, False, False, False, False, False,\n",
       "       False, False, False, False, False, False, False, False, False,\n",
       "       False, False, False, False, False, False, False, False, False,\n",
       "       False, False, False, False, False, False, False, False, False,\n",
       "       False, False, False, False, False, False, False, False, False,\n",
       "       False, False, False, False, False, False, False, False, False,\n",
       "       False, False, False, False, False, False, False, False, False,\n",
       "       False, False, False, False, False, False, False, False, False,\n",
       "       False, False, False, False, False, False, False, False, False,\n",
       "       False, False, False, False, False, False, False, False, False,\n",
       "       False, False, False, False, False, False, False, False, False,\n",
       "       False, False, False, False, False, False, False, False, False,\n",
       "       False, False, False, False, False, False, False, False, False])"
      ]
     },
     "execution_count": 27,
     "metadata": {},
     "output_type": "execute_result"
    }
   ],
   "source": [
    "# zurück kommt boolarray\n",
    "start = list(df['pub_date'] >= '2021-01-01')\n",
    "end = list(df['pub_date'] <= '2021-03-31')\n",
    "date_filter = np.all(np.array([start,end]),axis=0)\n",
    "#end\n",
    "date_filter"
   ]
  },
  {
   "cell_type": "code",
   "execution_count": null,
   "metadata": {},
   "outputs": [],
   "source": [
    "# zurück kommt boolarray\n",
    "df['pub_date'].all(df['pub_date'] >= '2021-01-01',df['pub_date'] <= '2021-03-31')"
   ]
  },
  {
   "cell_type": "code",
   "execution_count": null,
   "metadata": {},
   "outputs": [],
   "source": [
    "#sortet_list = list(df['publication_date'][df['publication_date'] >= '2021-01-01'])\n",
    "#sortet_list"
   ]
  },
  {
   "cell_type": "code",
   "execution_count": null,
   "metadata": {},
   "outputs": [],
   "source": [
    "#sortet_list.sort()\n",
    "#sortet_list"
   ]
  },
  {
   "cell_type": "code",
   "execution_count": null,
   "metadata": {},
   "outputs": [],
   "source": [
    "#list(df['publication_date'][df['publication_date'] >= '2021-01-01']).sort()"
   ]
  },
  {
   "cell_type": "code",
   "execution_count": null,
   "metadata": {},
   "outputs": [],
   "source": [
    "df.dtypes"
   ]
  },
  {
   "cell_type": "code",
   "execution_count": null,
   "metadata": {},
   "outputs": [],
   "source": [
    "df.columns"
   ]
  },
  {
   "cell_type": "code",
   "execution_count": null,
   "metadata": {},
   "outputs": [],
   "source": [
    "len(df)"
   ]
  },
  {
   "cell_type": "code",
   "execution_count": null,
   "metadata": {},
   "outputs": [],
   "source": [
    "df['type'].value_counts()"
   ]
  },
  {
   "cell_type": "code",
   "execution_count": null,
   "metadata": {},
   "outputs": [],
   "source": [
    "df['type'].value_counts(normalize=True)"
   ]
  },
  {
   "cell_type": "code",
   "execution_count": null,
   "metadata": {},
   "outputs": [],
   "source": [
    "type_mode = df['type'].mode()\n",
    "type_mode[0]"
   ]
  },
  {
   "cell_type": "code",
   "execution_count": 26,
   "metadata": {},
   "outputs": [
    {
     "data": {
      "text/plain": [
       "0"
      ]
     },
     "execution_count": 26,
     "metadata": {},
     "output_type": "execute_result"
    }
   ],
   "source": [
    "df['rel_id'].isna().sum()"
   ]
  },
  {
   "cell_type": "code",
   "execution_count": null,
   "metadata": {},
   "outputs": [],
   "source": [
    "df['Downloads'].mean()"
   ]
  },
  {
   "cell_type": "code",
   "execution_count": null,
   "metadata": {},
   "outputs": [],
   "source": [
    "df['Downloads'].median()"
   ]
  },
  {
   "cell_type": "code",
   "execution_count": null,
   "metadata": {},
   "outputs": [],
   "source": [
    "df['Downloads'].var()"
   ]
  },
  {
   "cell_type": "code",
   "execution_count": null,
   "metadata": {},
   "outputs": [],
   "source": [
    "df['Downloads'].std()"
   ]
  },
  {
   "cell_type": "code",
   "execution_count": 23,
   "metadata": {},
   "outputs": [
    {
     "data": {
      "text/plain": [
       "2216"
      ]
     },
     "execution_count": 23,
     "metadata": {},
     "output_type": "execute_result"
    }
   ],
   "source": [
    "df['Downloads'].max()"
   ]
  },
  {
   "cell_type": "code",
   "execution_count": 28,
   "metadata": {},
   "outputs": [
    {
     "name": "stdout",
     "output_type": "stream",
     "text": [
      "                                    doi\n",
      "51  https://doi.org/10.14278/rodare.915\n"
     ]
    }
   ],
   "source": [
    "# https://www.it-swarm.com.de/de/python/ermitteln-sie-den-maximalen-wert-einer-spalte-und-geben-sie-die-entsprechenden-zeilenwerte-mit-pandas-zurueck/1072494383/\n",
    "print(df[['doi']][df.Downloads == df.Downloads.max()])"
   ]
  },
  {
   "cell_type": "code",
   "execution_count": null,
   "metadata": {},
   "outputs": [],
   "source": [
    "df['Downloads'].min()"
   ]
  },
  {
   "cell_type": "code",
   "execution_count": null,
   "metadata": {},
   "outputs": [],
   "source": [
    "df['Downloads'].corr(df['views'])"
   ]
  },
  {
   "cell_type": "code",
   "execution_count": null,
   "metadata": {},
   "outputs": [],
   "source": [
    "df['views'].mean()"
   ]
  },
  {
   "cell_type": "code",
   "execution_count": null,
   "metadata": {},
   "outputs": [],
   "source": [
    "df['views'].median()"
   ]
  },
  {
   "cell_type": "code",
   "execution_count": null,
   "metadata": {},
   "outputs": [],
   "source": [
    "# Nur den Mittelwert etc. eines bestimmten Zetabschnittes errechnen lassen?\n",
    "# Wie eine Printausgabe in eine Datei schreiben lassen bei Ausführung des Programmes?"
   ]
  },
  {
   "cell_type": "code",
   "execution_count": null,
   "metadata": {},
   "outputs": [],
   "source": [
    "sns.relplot(x='type', y='license', data=df)"
   ]
  },
  {
   "cell_type": "code",
   "execution_count": null,
   "metadata": {},
   "outputs": [],
   "source": [
    "#plt.savefig('../type_license.png', dpi=150)"
   ]
  },
  {
   "cell_type": "code",
   "execution_count": null,
   "metadata": {},
   "outputs": [],
   "source": [
    "sns.relplot(y='type', x='Downloads', data=df)"
   ]
  },
  {
   "cell_type": "code",
   "execution_count": null,
   "metadata": {},
   "outputs": [],
   "source": [
    "sns.relplot(y='type', x='views', data=df)"
   ]
  },
  {
   "cell_type": "code",
   "execution_count": null,
   "metadata": {},
   "outputs": [],
   "source": [
    "#Problem: Wie kann ich hier nur bestimmte Daten zb 2021 in die Darstellung einbringen?\n",
    "sns.relplot(x='pub_date', y='type', \n",
    "            size='Downloads',\n",
    "            #row='license', \n",
    "            #col='license', \n",
    "            data=df,\n",
    "            height=5, aspect=3)"
   ]
  },
  {
   "cell_type": "code",
   "execution_count": null,
   "metadata": {},
   "outputs": [],
   "source": [
    "sns.catplot(x='publication_date',\n",
    "            data=df, kind='count', color=\"steelblue\", height=5, aspect=3)"
   ]
  },
  {
   "cell_type": "code",
   "execution_count": null,
   "metadata": {},
   "outputs": [],
   "source": [
    "plt.plot(df['pub_date'][df['pub_date'] >= '2021-06-01'], df['views'][df['pub_date'] >= '2021-06-01'], color='#4870a0', marker='o')"
   ]
  },
  {
   "cell_type": "code",
   "execution_count": null,
   "metadata": {},
   "outputs": [],
   "source": [
    "plt.plot(df['publication_date'][date_filter], df['views'][date_filter], color='#4870a0', marker='o')"
   ]
  },
  {
   "cell_type": "code",
   "execution_count": 25,
   "metadata": {},
   "outputs": [
    {
     "data": {
      "text/plain": [
       "[<matplotlib.lines.Line2D at 0x2084a447088>]"
      ]
     },
     "execution_count": 25,
     "metadata": {},
     "output_type": "execute_result"
    },
    {
     "data": {
      "image/png": "[encoded data removed]",
      "text/plain": [
       "<Figure size 432x288 with 1 Axes>"
      ]
     },
     "metadata": {
      "needs_background": "light"
     },
     "output_type": "display_data"
    }
   ],
   "source": [
    "start_date = '2021-01-01'\n",
    "plt.plot(df['pub_date'][df['pub_date'] >= start_date], df['views'][df['pub_date'] >= start_date], color='#4870a0', marker='o')"
   ]
  },
  {
   "cell_type": "code",
   "execution_count": null,
   "metadata": {},
   "outputs": [],
   "source": [
    "plt.stackplot(df['pub_date'], \n",
    "              df['unique_views'], \n",
    "              df['views'],\n",
    "              alpha=0.75,\n",
    "              colors=['#7289da','#f29fa9'],\n",
    "              labels=['unique_views', 'views'])"
   ]
  },
  {
   "cell_type": "code",
   "execution_count": null,
   "metadata": {},
   "outputs": [],
   "source": []
  }
 ],
 "metadata": {
  "kernelspec": {
   "display_name": "Python 3",
   "language": "python",
   "name": "python3"
  },
  "language_info": {
   "codemirror_mode": {
    "name": "ipython",
    "version": 3
   },
   "file_extension": ".py",
   "mimetype": "text/x-python",
   "name": "python",
   "nbconvert_exporter": "python",
   "pygments_lexer": "ipython3",
   "version": "3.7.4"
  }
 },
 "nbformat": 4,
 "nbformat_minor": 2
}
