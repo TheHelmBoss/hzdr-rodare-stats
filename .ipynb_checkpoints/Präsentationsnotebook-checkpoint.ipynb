{
 "cells": [
  {
   "cell_type": "code",
   "execution_count": 1,
   "metadata": {},
   "outputs": [],
   "source": [
    "# Bibliotheken abrufen\n",
    "import json\n",
    "import pandas as pd\n",
    "import requests\n",
    "import numpy as np\n",
    "import matplotlib.pyplot as plt\n",
    "import seaborn as sns\n",
    "%matplotlib inline\n",
    "sns.set()"
   ]
  },
  {
   "cell_type": "code",
   "execution_count": 2,
   "metadata": {},
   "outputs": [],
   "source": [
    "# URL als Variable definieren\n",
    "url = \"https://rodare.hzdr.de/api/records/?page=1&sort=mostrecent&size=1000\""
   ]
  },
  {
   "cell_type": "code",
   "execution_count": 3,
   "metadata": {},
   "outputs": [],
   "source": [
    "# Funktion um Inhalt aus URL in Variable r zu speichern\n",
    "r = requests.get(url)"
   ]
  },
  {
   "cell_type": "code",
   "execution_count": 4,
   "metadata": {},
   "outputs": [],
   "source": [
    "# JSON lesen lassen\n",
    "json = r.json()"
   ]
  },
  {
   "cell_type": "code",
   "execution_count": 5,
   "metadata": {},
   "outputs": [],
   "source": [
    "# Dictionary anlegen und Keys der gewünschten Werte definieren\n",
    "Meta_dict = {}\n",
    "Meta_dict['type'] = []\n",
    "Meta_dict['license'] = []\n",
    "Meta_dict['rel_id'] = []\n",
    "Meta_dict['pub_date'] = []\n",
    "Meta_dict['Access_Right'] = []\n",
    "Meta_dict['Downloads'] = []\n",
    "Meta_dict['u_downloads'] = []\n",
    "Meta_dict['u_views'] = []\n",
    "Meta_dict['views'] = []\n",
    "Meta_dict['ref_by'] = []\n",
    "Meta_dict['doi'] = []"
   ]
  },
  {
   "cell_type": "code",
   "execution_count": 6,
   "metadata": {},
   "outputs": [],
   "source": [
    "# Definition einer Teilliste und for-Schleife, um den type der Records aus allen Einträgen auszulesen und aufzulisten\n",
    "for record in json['hits']['hits']:\n",
    "    Meta_dict['type'].append(record['metadata']['resource_type']['type'])\n",
    "# Definition einer if-else Bedingung für den Abruf der Lizenz (gibt es nicht bei closed Access Veröffentlichungen)    \n",
    "    if 'license' in record['metadata'].keys():\n",
    "        Meta_dict['license'].append(record['metadata']['license']['id'])\n",
    "    else:\n",
    "        Meta_dict['license'].append('NaN')\n",
    "# Iteration in Liste der related identifier anlegen und dort die Bedigungen für das Auslesen definieren\n",
    "    count_1 = 0\n",
    "    count_2 = 0\n",
    "    for identifier in record['metadata']['related_identifiers']:\n",
    "# nur wenn die Relation 'isReferencedBy' mit dem dazugehörigen Inhalt hzdr gefunden wird, wird der count_1 betätigt\n",
    "# Hintergrund: Zählung aus RODARE-Sicht ob Record den Archivierungsworkflow von ROBIS bedient\n",
    "        if identifier['relation'] == 'isReferencedBy' and 'hzdr' in identifier['identifier']:\n",
    "            count_1 = count_1 + 1\n",
    "# nur wenn die Relation 'isReferencedBy' gefunden wird, wird der count_2 betätigt\n",
    "# Hintergrund: Zählung aus RODARE-Sicht ob Record überhaupt ein zugehörige Referenz hat (ROBIS + x)            \n",
    "        if identifier['relation'] == 'isReferencedBy':\n",
    "            count_2 = count_2 + 1\n",
    "    Meta_dict['rel_id'].append(count_1)\n",
    "    Meta_dict['ref_by'].append(count_2)\n",
    "# einfaches Auslesen der Metadaten und Zuordnung in entsprechende Listen/Keys\n",
    "    # Publikationsdatum nach 10 Zeichen abgeschnitten\n",
    "    Meta_dict['pub_date'].append(record['created'][:10])\n",
    "    Meta_dict['Access_Right'].append(record['metadata']['access_right'])\n",
    "    Meta_dict['Downloads'].append(int(record['stats']['downloads']))\n",
    "    Meta_dict['u_downloads'].append(int(record['stats']['unique_downloads']))\n",
    "    Meta_dict['u_views'].append(int(record['stats']['unique_views']))\n",
    "    Meta_dict['views'].append(int(record['stats']['views']))\n",
    "    Meta_dict['doi'].append(record['links']['doi'])"
   ]
  },
  {
   "cell_type": "code",
   "execution_count": 7,
   "metadata": {},
   "outputs": [],
   "source": [
    "# Umwandlung des Dictionaries in ein DataFrame mit pd\n",
    "df = pd.DataFrame(Meta_dict)"
   ]
  },
  {
   "cell_type": "code",
   "execution_count": 8,
   "metadata": {},
   "outputs": [
    {
     "data": {
      "text/html": [
       "<div>\n",
       "<style scoped>\n",
       "    .dataframe tbody tr th:only-of-type {\n",
       "        vertical-align: middle;\n",
       "    }\n",
       "\n",
       "    .dataframe tbody tr th {\n",
       "        vertical-align: top;\n",
       "    }\n",
       "\n",
       "    .dataframe thead th {\n",
       "        text-align: right;\n",
       "    }\n",
       "</style>\n",
       "<table border=\"1\" class=\"dataframe\">\n",
       "  <thead>\n",
       "    <tr style=\"text-align: right;\">\n",
       "      <th></th>\n",
       "      <th>type</th>\n",
       "      <th>license</th>\n",
       "      <th>rel_id</th>\n",
       "      <th>pub_date</th>\n",
       "      <th>Access_Right</th>\n",
       "      <th>Downloads</th>\n",
       "      <th>u_downloads</th>\n",
       "      <th>u_views</th>\n",
       "      <th>views</th>\n",
       "      <th>ref_by</th>\n",
       "      <th>doi</th>\n",
       "    </tr>\n",
       "  </thead>\n",
       "  <tbody>\n",
       "    <tr>\n",
       "      <td>0</td>\n",
       "      <td>other</td>\n",
       "      <td>CC-BY-4.0</td>\n",
       "      <td>0</td>\n",
       "      <td>2021-08-16</td>\n",
       "      <td>open</td>\n",
       "      <td>0</td>\n",
       "      <td>0</td>\n",
       "      <td>0</td>\n",
       "      <td>0</td>\n",
       "      <td>0</td>\n",
       "      <td>https://doi.org/10.14278/rodare.1117</td>\n",
       "    </tr>\n",
       "    <tr>\n",
       "      <td>1</td>\n",
       "      <td>other</td>\n",
       "      <td>CC-BY-4.0</td>\n",
       "      <td>0</td>\n",
       "      <td>2021-08-16</td>\n",
       "      <td>open</td>\n",
       "      <td>0</td>\n",
       "      <td>0</td>\n",
       "      <td>0</td>\n",
       "      <td>0</td>\n",
       "      <td>0</td>\n",
       "      <td>https://doi.org/10.14278/rodare.1115</td>\n",
       "    </tr>\n",
       "    <tr>\n",
       "      <td>2</td>\n",
       "      <td>dataset</td>\n",
       "      <td>CC-BY-4.0</td>\n",
       "      <td>1</td>\n",
       "      <td>2021-08-12</td>\n",
       "      <td>open</td>\n",
       "      <td>0</td>\n",
       "      <td>0</td>\n",
       "      <td>4</td>\n",
       "      <td>4</td>\n",
       "      <td>1</td>\n",
       "      <td>https://doi.org/10.14278/rodare.1111</td>\n",
       "    </tr>\n",
       "    <tr>\n",
       "      <td>3</td>\n",
       "      <td>dataset</td>\n",
       "      <td>CC-BY-4.0</td>\n",
       "      <td>1</td>\n",
       "      <td>2021-08-09</td>\n",
       "      <td>open</td>\n",
       "      <td>2</td>\n",
       "      <td>2</td>\n",
       "      <td>18</td>\n",
       "      <td>24</td>\n",
       "      <td>1</td>\n",
       "      <td>https://doi.org/10.14278/rodare.1098</td>\n",
       "    </tr>\n",
       "    <tr>\n",
       "      <td>4</td>\n",
       "      <td>dataset</td>\n",
       "      <td>CC-BY-4.0</td>\n",
       "      <td>0</td>\n",
       "      <td>2021-08-09</td>\n",
       "      <td>open</td>\n",
       "      <td>0</td>\n",
       "      <td>0</td>\n",
       "      <td>5</td>\n",
       "      <td>5</td>\n",
       "      <td>0</td>\n",
       "      <td>https://doi.org/10.14278/rodare.1105</td>\n",
       "    </tr>\n",
       "    <tr>\n",
       "      <td>...</td>\n",
       "      <td>...</td>\n",
       "      <td>...</td>\n",
       "      <td>...</td>\n",
       "      <td>...</td>\n",
       "      <td>...</td>\n",
       "      <td>...</td>\n",
       "      <td>...</td>\n",
       "      <td>...</td>\n",
       "      <td>...</td>\n",
       "      <td>...</td>\n",
       "      <td>...</td>\n",
       "    </tr>\n",
       "    <tr>\n",
       "      <td>267</td>\n",
       "      <td>dataset</td>\n",
       "      <td>CC-BY-SA-4.0</td>\n",
       "      <td>0</td>\n",
       "      <td>2018-05-09</td>\n",
       "      <td>open</td>\n",
       "      <td>23</td>\n",
       "      <td>22</td>\n",
       "      <td>340</td>\n",
       "      <td>402</td>\n",
       "      <td>0</td>\n",
       "      <td>https://doi.org/10.14278/rodare.24</td>\n",
       "    </tr>\n",
       "    <tr>\n",
       "      <td>268</td>\n",
       "      <td>dataset</td>\n",
       "      <td>CC-BY-4.0</td>\n",
       "      <td>0</td>\n",
       "      <td>2018-04-25</td>\n",
       "      <td>open</td>\n",
       "      <td>90</td>\n",
       "      <td>33</td>\n",
       "      <td>351</td>\n",
       "      <td>425</td>\n",
       "      <td>0</td>\n",
       "      <td>https://doi.org/10.14278/rodare.16</td>\n",
       "    </tr>\n",
       "    <tr>\n",
       "      <td>269</td>\n",
       "      <td>dataset</td>\n",
       "      <td>CC-BY-4.0</td>\n",
       "      <td>0</td>\n",
       "      <td>2018-04-12</td>\n",
       "      <td>open</td>\n",
       "      <td>23</td>\n",
       "      <td>18</td>\n",
       "      <td>287</td>\n",
       "      <td>344</td>\n",
       "      <td>0</td>\n",
       "      <td>https://doi.org/10.14278/rodare.8</td>\n",
       "    </tr>\n",
       "    <tr>\n",
       "      <td>270</td>\n",
       "      <td>dataset</td>\n",
       "      <td>NaN</td>\n",
       "      <td>0</td>\n",
       "      <td>2018-03-20</td>\n",
       "      <td>restricted</td>\n",
       "      <td>0</td>\n",
       "      <td>0</td>\n",
       "      <td>257</td>\n",
       "      <td>290</td>\n",
       "      <td>0</td>\n",
       "      <td>https://doi.org/10.14278/rodare.4</td>\n",
       "    </tr>\n",
       "    <tr>\n",
       "      <td>271</td>\n",
       "      <td>image</td>\n",
       "      <td>CC-BY-4.0</td>\n",
       "      <td>0</td>\n",
       "      <td>2018-02-28</td>\n",
       "      <td>open</td>\n",
       "      <td>433</td>\n",
       "      <td>250</td>\n",
       "      <td>412</td>\n",
       "      <td>504</td>\n",
       "      <td>0</td>\n",
       "      <td>https://doi.org/10.14278/rodare.2</td>\n",
       "    </tr>\n",
       "  </tbody>\n",
       "</table>\n",
       "<p>272 rows × 11 columns</p>\n",
       "</div>"
      ],
      "text/plain": [
       "        type       license  rel_id    pub_date Access_Right  Downloads  \\\n",
       "0      other     CC-BY-4.0       0  2021-08-16         open          0   \n",
       "1      other     CC-BY-4.0       0  2021-08-16         open          0   \n",
       "2    dataset     CC-BY-4.0       1  2021-08-12         open          0   \n",
       "3    dataset     CC-BY-4.0       1  2021-08-09         open          2   \n",
       "4    dataset     CC-BY-4.0       0  2021-08-09         open          0   \n",
       "..       ...           ...     ...         ...          ...        ...   \n",
       "267  dataset  CC-BY-SA-4.0       0  2018-05-09         open         23   \n",
       "268  dataset     CC-BY-4.0       0  2018-04-25         open         90   \n",
       "269  dataset     CC-BY-4.0       0  2018-04-12         open         23   \n",
       "270  dataset           NaN       0  2018-03-20   restricted          0   \n",
       "271    image     CC-BY-4.0       0  2018-02-28         open        433   \n",
       "\n",
       "     u_downloads  u_views  views  ref_by                                   doi  \n",
       "0              0        0      0       0  https://doi.org/10.14278/rodare.1117  \n",
       "1              0        0      0       0  https://doi.org/10.14278/rodare.1115  \n",
       "2              0        4      4       1  https://doi.org/10.14278/rodare.1111  \n",
       "3              2       18     24       1  https://doi.org/10.14278/rodare.1098  \n",
       "4              0        5      5       0  https://doi.org/10.14278/rodare.1105  \n",
       "..           ...      ...    ...     ...                                   ...  \n",
       "267           22      340    402       0    https://doi.org/10.14278/rodare.24  \n",
       "268           33      351    425       0    https://doi.org/10.14278/rodare.16  \n",
       "269           18      287    344       0     https://doi.org/10.14278/rodare.8  \n",
       "270            0      257    290       0     https://doi.org/10.14278/rodare.4  \n",
       "271          250      412    504       0     https://doi.org/10.14278/rodare.2  \n",
       "\n",
       "[272 rows x 11 columns]"
      ]
     },
     "execution_count": 8,
     "metadata": {},
     "output_type": "execute_result"
    }
   ],
   "source": [
    "# Abbildung des Dataframes\n",
    "df"
   ]
  },
  {
   "cell_type": "code",
   "execution_count": 9,
   "metadata": {},
   "outputs": [
    {
     "data": {
      "text/html": [
       "<div>\n",
       "<style scoped>\n",
       "    .dataframe tbody tr th:only-of-type {\n",
       "        vertical-align: middle;\n",
       "    }\n",
       "\n",
       "    .dataframe tbody tr th {\n",
       "        vertical-align: top;\n",
       "    }\n",
       "\n",
       "    .dataframe thead th {\n",
       "        text-align: right;\n",
       "    }\n",
       "</style>\n",
       "<table border=\"1\" class=\"dataframe\">\n",
       "  <thead>\n",
       "    <tr style=\"text-align: right;\">\n",
       "      <th></th>\n",
       "      <th>type</th>\n",
       "      <th>license</th>\n",
       "      <th>rel_id</th>\n",
       "      <th>pub_date</th>\n",
       "      <th>Access_Right</th>\n",
       "      <th>Downloads</th>\n",
       "      <th>u_downloads</th>\n",
       "      <th>u_views</th>\n",
       "      <th>views</th>\n",
       "      <th>ref_by</th>\n",
       "      <th>doi</th>\n",
       "    </tr>\n",
       "  </thead>\n",
       "  <tbody>\n",
       "    <tr>\n",
       "      <td>count</td>\n",
       "      <td>272</td>\n",
       "      <td>272</td>\n",
       "      <td>272.000000</td>\n",
       "      <td>272</td>\n",
       "      <td>272</td>\n",
       "      <td>272.000000</td>\n",
       "      <td>272.000000</td>\n",
       "      <td>272.000000</td>\n",
       "      <td>272.000000</td>\n",
       "      <td>272.000000</td>\n",
       "      <td>272</td>\n",
       "    </tr>\n",
       "    <tr>\n",
       "      <td>unique</td>\n",
       "      <td>6</td>\n",
       "      <td>10</td>\n",
       "      <td>NaN</td>\n",
       "      <td>178</td>\n",
       "      <td>4</td>\n",
       "      <td>NaN</td>\n",
       "      <td>NaN</td>\n",
       "      <td>NaN</td>\n",
       "      <td>NaN</td>\n",
       "      <td>NaN</td>\n",
       "      <td>272</td>\n",
       "    </tr>\n",
       "    <tr>\n",
       "      <td>top</td>\n",
       "      <td>dataset</td>\n",
       "      <td>CC-BY-4.0</td>\n",
       "      <td>NaN</td>\n",
       "      <td>2021-03-10</td>\n",
       "      <td>open</td>\n",
       "      <td>NaN</td>\n",
       "      <td>NaN</td>\n",
       "      <td>NaN</td>\n",
       "      <td>NaN</td>\n",
       "      <td>NaN</td>\n",
       "      <td>https://doi.org/10.14278/rodare.1102</td>\n",
       "    </tr>\n",
       "    <tr>\n",
       "      <td>freq</td>\n",
       "      <td>207</td>\n",
       "      <td>127</td>\n",
       "      <td>NaN</td>\n",
       "      <td>18</td>\n",
       "      <td>155</td>\n",
       "      <td>NaN</td>\n",
       "      <td>NaN</td>\n",
       "      <td>NaN</td>\n",
       "      <td>NaN</td>\n",
       "      <td>NaN</td>\n",
       "      <td>1</td>\n",
       "    </tr>\n",
       "    <tr>\n",
       "      <td>mean</td>\n",
       "      <td>NaN</td>\n",
       "      <td>NaN</td>\n",
       "      <td>0.610294</td>\n",
       "      <td>NaN</td>\n",
       "      <td>NaN</td>\n",
       "      <td>69.584559</td>\n",
       "      <td>26.397059</td>\n",
       "      <td>96.724265</td>\n",
       "      <td>139.636029</td>\n",
       "      <td>0.617647</td>\n",
       "      <td>NaN</td>\n",
       "    </tr>\n",
       "    <tr>\n",
       "      <td>std</td>\n",
       "      <td>NaN</td>\n",
       "      <td>NaN</td>\n",
       "      <td>0.496078</td>\n",
       "      <td>NaN</td>\n",
       "      <td>NaN</td>\n",
       "      <td>239.561808</td>\n",
       "      <td>73.190524</td>\n",
       "      <td>101.814322</td>\n",
       "      <td>129.176629</td>\n",
       "      <td>0.509088</td>\n",
       "      <td>NaN</td>\n",
       "    </tr>\n",
       "    <tr>\n",
       "      <td>min</td>\n",
       "      <td>NaN</td>\n",
       "      <td>NaN</td>\n",
       "      <td>0.000000</td>\n",
       "      <td>NaN</td>\n",
       "      <td>NaN</td>\n",
       "      <td>0.000000</td>\n",
       "      <td>0.000000</td>\n",
       "      <td>0.000000</td>\n",
       "      <td>0.000000</td>\n",
       "      <td>0.000000</td>\n",
       "      <td>NaN</td>\n",
       "    </tr>\n",
       "    <tr>\n",
       "      <td>25%</td>\n",
       "      <td>NaN</td>\n",
       "      <td>NaN</td>\n",
       "      <td>0.000000</td>\n",
       "      <td>NaN</td>\n",
       "      <td>NaN</td>\n",
       "      <td>0.000000</td>\n",
       "      <td>0.000000</td>\n",
       "      <td>39.750000</td>\n",
       "      <td>62.750000</td>\n",
       "      <td>0.000000</td>\n",
       "      <td>NaN</td>\n",
       "    </tr>\n",
       "    <tr>\n",
       "      <td>50%</td>\n",
       "      <td>NaN</td>\n",
       "      <td>NaN</td>\n",
       "      <td>1.000000</td>\n",
       "      <td>NaN</td>\n",
       "      <td>NaN</td>\n",
       "      <td>5.000000</td>\n",
       "      <td>4.000000</td>\n",
       "      <td>67.500000</td>\n",
       "      <td>106.500000</td>\n",
       "      <td>1.000000</td>\n",
       "      <td>NaN</td>\n",
       "    </tr>\n",
       "    <tr>\n",
       "      <td>75%</td>\n",
       "      <td>NaN</td>\n",
       "      <td>NaN</td>\n",
       "      <td>1.000000</td>\n",
       "      <td>NaN</td>\n",
       "      <td>NaN</td>\n",
       "      <td>37.000000</td>\n",
       "      <td>20.000000</td>\n",
       "      <td>101.750000</td>\n",
       "      <td>160.000000</td>\n",
       "      <td>1.000000</td>\n",
       "      <td>NaN</td>\n",
       "    </tr>\n",
       "    <tr>\n",
       "      <td>max</td>\n",
       "      <td>NaN</td>\n",
       "      <td>NaN</td>\n",
       "      <td>2.000000</td>\n",
       "      <td>NaN</td>\n",
       "      <td>NaN</td>\n",
       "      <td>2218.000000</td>\n",
       "      <td>910.000000</td>\n",
       "      <td>697.000000</td>\n",
       "      <td>848.000000</td>\n",
       "      <td>2.000000</td>\n",
       "      <td>NaN</td>\n",
       "    </tr>\n",
       "  </tbody>\n",
       "</table>\n",
       "</div>"
      ],
      "text/plain": [
       "           type    license      rel_id    pub_date Access_Right    Downloads  \\\n",
       "count       272        272  272.000000         272          272   272.000000   \n",
       "unique        6         10         NaN         178            4          NaN   \n",
       "top     dataset  CC-BY-4.0         NaN  2021-03-10         open          NaN   \n",
       "freq        207        127         NaN          18          155          NaN   \n",
       "mean        NaN        NaN    0.610294         NaN          NaN    69.584559   \n",
       "std         NaN        NaN    0.496078         NaN          NaN   239.561808   \n",
       "min         NaN        NaN    0.000000         NaN          NaN     0.000000   \n",
       "25%         NaN        NaN    0.000000         NaN          NaN     0.000000   \n",
       "50%         NaN        NaN    1.000000         NaN          NaN     5.000000   \n",
       "75%         NaN        NaN    1.000000         NaN          NaN    37.000000   \n",
       "max         NaN        NaN    2.000000         NaN          NaN  2218.000000   \n",
       "\n",
       "        u_downloads     u_views       views      ref_by  \\\n",
       "count    272.000000  272.000000  272.000000  272.000000   \n",
       "unique          NaN         NaN         NaN         NaN   \n",
       "top             NaN         NaN         NaN         NaN   \n",
       "freq            NaN         NaN         NaN         NaN   \n",
       "mean      26.397059   96.724265  139.636029    0.617647   \n",
       "std       73.190524  101.814322  129.176629    0.509088   \n",
       "min        0.000000    0.000000    0.000000    0.000000   \n",
       "25%        0.000000   39.750000   62.750000    0.000000   \n",
       "50%        4.000000   67.500000  106.500000    1.000000   \n",
       "75%       20.000000  101.750000  160.000000    1.000000   \n",
       "max      910.000000  697.000000  848.000000    2.000000   \n",
       "\n",
       "                                         doi  \n",
       "count                                    272  \n",
       "unique                                   272  \n",
       "top     https://doi.org/10.14278/rodare.1102  \n",
       "freq                                       1  \n",
       "mean                                     NaN  \n",
       "std                                      NaN  \n",
       "min                                      NaN  \n",
       "25%                                      NaN  \n",
       "50%                                      NaN  \n",
       "75%                                      NaN  \n",
       "max                                      NaN  "
      ]
     },
     "execution_count": 9,
     "metadata": {},
     "output_type": "execute_result"
    }
   ],
   "source": [
    "# Anzeige der Allgemeinen Eigenschaften der Spalten\n",
    "df.describe(include='all')"
   ]
  },
  {
   "cell_type": "code",
   "execution_count": 10,
   "metadata": {},
   "outputs": [],
   "source": [
    "# Defintion und Berechungen zu Datumsangaben\n",
    "from datetime import date\n",
    "aktuellesDatum = date.today()\n",
    "rodare_pub = date(2018,2,28)\n",
    "zeitraum = aktuellesDatum - rodare_pub\n",
    "zr = zeitraum.days\n",
    "ds = zr/len(df)\n",
    "lpd = df['Downloads'].sum()/zr"
   ]
  },
  {
   "cell_type": "code",
   "execution_count": 11,
   "metadata": {},
   "outputs": [
    {
     "name": "stdout",
     "output_type": "stream",
     "text": [
      "Stand 16.08.2021 \n",
      "Seit der Inbetriebnahme (28.02.2018) von RODARE sind 1265 Tage vergangen.\n",
      "Insgesamt wurden 272 Records veröffentlicht und 18927 mal gedownloaded.\n",
      "Das entspricht: 1 Veröffentlichung alle 4.7 Tage und 15.0 Downloads pro Tag. \n",
      "Der meistgeladene Record https://doi.org/10.14278/rodare.915 wurde 2218 mal gedownloaded. \n",
      "Der neueste Download https://doi.org/10.14278/rodare.1117 wurde am 2021-08-16 veröffentlicht. \n",
      "Der meistangesehene Record https://doi.org/10.14278/rodare.915 wurde 848 mal angesehen. \n",
      "Im Durchschnitt wird 1 Record 139.6 mal angesehen und 69.6 heruntergeladen. \n",
      "Die Standardabweichung für Downloads beträgt 239.6 und die für Views beträgt 129.2 . \n"
     ]
    }
   ],
   "source": [
    "# Ausgabe einige Sonderfälle und statistischer Werte\n",
    "print('Stand',aktuellesDatum.strftime(\"%d.%m.%Y\"),\n",
    "      '\\nSeit der Inbetriebnahme (28.02.2018) von RODARE sind',zeitraum.days,'Tage vergangen.\\nInsgesamt wurden',\n",
    "      str(len(df)),'Records veröffentlicht und',str(df['Downloads'].sum()),\n",
    "      'mal gedownloaded.\\nDas entspricht: 1 Veröffentlichung alle',round(ds,1),\n",
    "      'Tage und' ,round(lpd,1), 'Downloads pro Tag. \\nDer meistgeladene Record',\n",
    "       df.iloc[df.Downloads.idxmax(), 10], 'wurde',df['Downloads'].max(),\n",
    "      'mal gedownloaded. \\nDer neueste Download',df.iloc[0, 10],\n",
    "      'wurde am',df['pub_date'].max(),'veröffentlicht. \\nDer meistangesehene Record',\n",
    "      df.iloc[df.views.idxmax(), 10],'wurde',df['views'].max(),'mal angesehen. \\nIm Durchschnitt wird 1 Record',\n",
    "      round(df['views'].mean(),1),'mal angesehen und',round(df['Downloads'].mean(),1),\n",
    "      'heruntergeladen. \\nDie Standardabweichung für Downloads beträgt',round(df['Downloads'].std(),1)\n",
    "      ,'und die für Views beträgt',round(df['views'].std(),1),'. ')"
   ]
  },
  {
   "cell_type": "code",
   "execution_count": 14,
   "metadata": {},
   "outputs": [
    {
     "data": {
      "text/plain": [
       "type          license     \n",
       "dataset       CC-BY-1.0         4\n",
       "              CC-BY-4.0        88\n",
       "              CC-BY-NC-4.0      8\n",
       "              CC-BY-SA-4.0      3\n",
       "              NaN             104\n",
       "image         CC-BY-1.0         1\n",
       "              CC-BY-4.0         9\n",
       "              NaN               5\n",
       "other         CC-BY-4.0         9\n",
       "              NaN               6\n",
       "presentation  CC-BY-4.0         5\n",
       "software      BSD-3-Clause      1\n",
       "              CC-BY-4.0        10\n",
       "              GPL-3.0           4\n",
       "              GPL-3.0-only      4\n",
       "              LGPL-3.0          3\n",
       "              MIT               1\n",
       "              NaN               1\n",
       "video         CC-BY-4.0         6\n",
       "dtype: int64"
      ]
     },
     "execution_count": 14,
     "metadata": {},
     "output_type": "execute_result"
    }
   ],
   "source": [
    "# Verteilung der Lizenzen pro Datentyp\n",
    "df.groupby(['type','license']).size()"
   ]
  },
  {
   "cell_type": "code",
   "execution_count": 15,
   "metadata": {},
   "outputs": [
    {
     "data": {
      "image/png": "[encoded data removed]",
      "text/plain": [
       "<Figure size 432x288 with 1 Axes>"
      ]
     },
     "metadata": {
      "needs_background": "light"
     },
     "output_type": "display_data"
    }
   ],
   "source": [
    "# graphische Darstellung der Downloadverteilung\n",
    "fig_1 = sns.distplot(df['Downloads'], kde=False)\n",
    "fig_1.figure.savefig(\"./Verteilung_Downloads.png\", dpi=300)"
   ]
  },
  {
   "cell_type": "code",
   "execution_count": 16,
   "metadata": {},
   "outputs": [
    {
     "data": {
      "image/png": "[encoded data removed]",
      "text/plain": [
       "<Figure size 432x288 with 1 Axes>"
      ]
     },
     "metadata": {
      "needs_background": "light"
     },
     "output_type": "display_data"
    }
   ],
   "source": [
    "# graphische Darstellung der Viewverteilung\n",
    "fig_2 = sns.distplot(df['views'], kde=False)\n",
    "fig_2.figure.savefig(\"./Verteilung_Views.png\", dpi=300)"
   ]
  },
  {
   "cell_type": "code",
   "execution_count": 17,
   "metadata": {},
   "outputs": [
    {
     "name": "stdout",
     "output_type": "stream",
     "text": [
      "dataset         207\n",
      "software         24\n",
      "other            15\n",
      "image            15\n",
      "video             6\n",
      "presentation      5\n",
      "Name: type, dtype: int64\n"
     ]
    }
   ],
   "source": [
    "# absolute Aufschlüsselung der Datentypen nach Anzahl\n",
    "dt=df['type'].value_counts()\n",
    "print(dt)"
   ]
  },
  {
   "cell_type": "code",
   "execution_count": 18,
   "metadata": {},
   "outputs": [
    {
     "data": {
      "text/plain": [
       "dataset         0.761029\n",
       "software        0.088235\n",
       "other           0.055147\n",
       "image           0.055147\n",
       "video           0.022059\n",
       "presentation    0.018382\n",
       "Name: type, dtype: float64"
      ]
     },
     "execution_count": 18,
     "metadata": {},
     "output_type": "execute_result"
    }
   ],
   "source": [
    "# relative Aufschlüsselung der Datentypen nach Anzahl\n",
    "df['type'].value_counts(normalize=True)"
   ]
  },
  {
   "cell_type": "code",
   "execution_count": 19,
   "metadata": {},
   "outputs": [
    {
     "data": {
      "text/plain": [
       "type          license     \n",
       "dataset       CC-BY-1.0         4\n",
       "              CC-BY-4.0        88\n",
       "              CC-BY-NC-4.0      8\n",
       "              CC-BY-SA-4.0      3\n",
       "              NaN             104\n",
       "image         CC-BY-1.0         1\n",
       "              CC-BY-4.0         9\n",
       "              NaN               5\n",
       "other         CC-BY-4.0         9\n",
       "              NaN               6\n",
       "presentation  CC-BY-4.0         5\n",
       "software      BSD-3-Clause      1\n",
       "              CC-BY-4.0        10\n",
       "              GPL-3.0           4\n",
       "              GPL-3.0-only      4\n",
       "              LGPL-3.0          3\n",
       "              MIT               1\n",
       "              NaN               1\n",
       "video         CC-BY-4.0         6\n",
       "dtype: int64"
      ]
     },
     "execution_count": 19,
     "metadata": {},
     "output_type": "execute_result"
    }
   ],
   "source": [
    "# absolute Aufschlüsselung der Lizenzen in Abhängigkeit des Datentypen nach Anzahl\n",
    "df.groupby(['type','license']).size()"
   ]
  },
  {
   "cell_type": "code",
   "execution_count": 31,
   "metadata": {},
   "outputs": [
    {
     "data": {
      "image/png": "[encoded data removed]",
      "text/plain": [
       "<Figure size 432x288 with 1 Axes>"
      ]
     },
     "metadata": {
      "needs_background": "light"
     },
     "output_type": "display_data"
    }
   ],
   "source": [
    "# graphische Darstellung der Views je Record in chronologischer Reihenfolge für bestimmten Zeitraum\n",
    "start_date = '2021-01-01'\n",
    "view_rec = plt.plot(df['pub_date'][df['pub_date'] >= start_date], \n",
    "         df['views'][df['pub_date'] >= start_date], \n",
    "         color='#4870a0', \n",
    "         marker='o')\n",
    "plt.savefig(\"./Pictures/Verteilung_Views_2021.png\", dpi=300)"
   ]
  },
  {
   "cell_type": "code",
   "execution_count": 29,
   "metadata": {},
   "outputs": [
    {
     "data": {
      "text/plain": [
       "[<matplotlib.lines.Line2D at 0x140a13f0fc8>]"
      ]
     },
     "execution_count": 29,
     "metadata": {},
     "output_type": "execute_result"
    },
    {
     "data": {
      "image/png": "[encoded data removed]",
      "text/plain": [
       "<Figure size 432x288 with 1 Axes>"
      ]
     },
     "metadata": {
      "needs_background": "light"
     },
     "output_type": "display_data"
    }
   ],
   "source": [
    "# Verteile Record aus 2021 mit Viewzahlen\n",
    "start_date = '2021-01-01'\n",
    "plt.plot(df['pub_date'][df['pub_date'] >= start_date], df['views'][df['pub_date'] >= start_date], color='#4870a0', marker='o')"
   ]
  },
  {
   "cell_type": "code",
   "execution_count": null,
   "metadata": {},
   "outputs": [],
   "source": []
  }
 ],
 "metadata": {
  "kernelspec": {
   "display_name": "Python 3",
   "language": "python",
   "name": "python3"
  },
  "language_info": {
   "codemirror_mode": {
    "name": "ipython",
    "version": 3
   },
   "file_extension": ".py",
   "mimetype": "text/x-python",
   "name": "python",
   "nbconvert_exporter": "python",
   "pygments_lexer": "ipython3",
   "version": "3.7.4"
  }
 },
 "nbformat": 4,
 "nbformat_minor": 2
}
