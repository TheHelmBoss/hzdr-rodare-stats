{
 "cells": [
  {
   "cell_type": "code",
   "execution_count": null,
   "metadata": {},
   "outputs": [],
   "source": [
    "# Bibliotheken abrufen\n",
    "import json\n",
    "import pandas as pd\n",
    "import requests\n",
    "import numpy as np\n",
    "import matplotlib.pyplot as plt\n",
    "import seaborn as sns\n",
    "from datetime import date, datetime, timedelta\n",
    "%matplotlib inline\n",
    "sns.set()"
   ]
  },
  {
   "cell_type": "code",
   "execution_count": null,
   "metadata": {},
   "outputs": [],
   "source": [
    "# URL als Variable definieren\n",
    "url = \"https://rodare.hzdr.de/api/records/?page=1&sort=mostrecent&size=1000\""
   ]
  },
  {
   "cell_type": "code",
   "execution_count": null,
   "metadata": {},
   "outputs": [],
   "source": [
    "# Funktion um Inhalt aus URL in Variable r zu speichern\n",
    "r = requests.get(url)"
   ]
  },
  {
   "cell_type": "code",
   "execution_count": null,
   "metadata": {},
   "outputs": [],
   "source": [
    "# JSON lesen lassen\n",
    "json = r.json()"
   ]
  },
  {
   "cell_type": "code",
   "execution_count": null,
   "metadata": {},
   "outputs": [],
   "source": [
    "# Dictionary anlegen und Keys der gewünschten Werte definieren\n",
    "Meta_dict = {}\n",
    "Meta_dict['type'] = []\n",
    "Meta_dict['license'] = []\n",
    "Meta_dict['rel_id'] = []\n",
    "Meta_dict['pub_date'] = []\n",
    "Meta_dict['access_right'] = []\n",
    "Meta_dict['downloads'] = []\n",
    "Meta_dict['u_downloads'] = []\n",
    "Meta_dict['u_views'] = []\n",
    "Meta_dict['views'] = []\n",
    "Meta_dict['ref_by'] = []\n",
    "Meta_dict['doi'] = []"
   ]
  },
  {
   "cell_type": "code",
   "execution_count": null,
   "metadata": {},
   "outputs": [],
   "source": [
    "# Definition einer Teilliste und for-Schleife, um den type der Records aus allen Einträgen auszulesen und aufzulisten\n",
    "for record in json['hits']['hits']:\n",
    "    Meta_dict['type'].append(record['metadata']['resource_type']['type'])\n",
    "# Definition einer if-else Bedingung für den Abruf der Lizenz (gibt es nicht bei closed Access Veröffentlichungen)    \n",
    "    if 'license' in record['metadata'].keys():\n",
    "        Meta_dict['license'].append(record['metadata']['license']['id'])\n",
    "    else:\n",
    "        Meta_dict['license'].append('NaN')\n",
    "# Iteration in Liste der related identifier anlegen und dort die Bedigungen für das Auslesen definieren\n",
    "    count_1 = 0\n",
    "    count_2 = 0\n",
    "    for identifier in record['metadata']['related_identifiers']:\n",
    "# nur wenn die Relation 'isReferencedBy' mit dem dazugehörigen Inhalt hzdr gefunden wird, wird der count_1 betätigt\n",
    "# Hintergrund: Zählung aus RODARE-Sicht ob Record den Archivierungsworkflow von ROBIS bedient\n",
    "        if identifier['relation'] == 'isReferencedBy' and 'hzdr' in identifier['identifier']:\n",
    "            count_1 = count_1 + 1\n",
    "# nur wenn die Relation 'isReferencedBy' gefunden wird, wird der count_2 betätigt\n",
    "# Hintergrund: Zählung aus RODARE-Sicht ob Record überhaupt ein zugehörige Referenz hat (ROBIS + x)            \n",
    "        if identifier['relation'] == 'isReferencedBy':\n",
    "            count_2 = count_2 + 1\n",
    "    Meta_dict['rel_id'].append(count_1)\n",
    "    Meta_dict['ref_by'].append(count_2)\n",
    "# einfaches Auslesen der Metadaten und Zuordnung in entsprechende Listen/Keys\n",
    "    # Publikationsdatum nach 10 Zeichen abgeschnitten\n",
    "    Meta_dict['pub_date'].append(record['created'][:10])\n",
    "    Meta_dict['access_right'].append(record['metadata']['access_right'])\n",
    "    Meta_dict['downloads'].append(int(record['stats']['downloads']))\n",
    "    Meta_dict['u_downloads'].append(int(record['stats']['unique_downloads']))\n",
    "    Meta_dict['u_views'].append(int(record['stats']['unique_views']))\n",
    "    Meta_dict['views'].append(int(record['stats']['views']))\n",
    "    Meta_dict['doi'].append(record['links']['doi'])"
   ]
  },
  {
   "cell_type": "code",
   "execution_count": null,
   "metadata": {},
   "outputs": [],
   "source": [
    "# Umwandlung des Dictionaries in ein DataFrame mit pd\n",
    "df = pd.DataFrame(Meta_dict)"
   ]
  },
  {
   "cell_type": "code",
   "execution_count": null,
   "metadata": {},
   "outputs": [],
   "source": [
    "# Abbildung des Dataframes\n",
    "df"
   ]
  },
  {
   "cell_type": "code",
   "execution_count": null,
   "metadata": {},
   "outputs": [],
   "source": [
    "# Anzeige der Allgemeinen Eigenschaften der Spalten\n",
    "df.describe(include='all')"
   ]
  },
  {
   "cell_type": "code",
   "execution_count": null,
   "metadata": {},
   "outputs": [],
   "source": [
    "# Defintion und Berechungen zu Datumsangaben\n",
    "aktuellesDatum = date.today()\n",
    "rodare_pub = date(2018,2,28)\n",
    "zeitraum = aktuellesDatum - rodare_pub\n",
    "zr = zeitraum.days\n",
    "ds = zr/len(df)\n",
    "lpd = df['downloads'].sum()/zr"
   ]
  },
  {
   "cell_type": "code",
   "execution_count": null,
   "metadata": {},
   "outputs": [],
   "source": [
    "# Ausgabe einige Sonderfälle und statistischer Werte\n",
    "print('Stand',aktuellesDatum.strftime(\"%d.%m.%Y\"),\n",
    "      '\\nSeit der Inbetriebnahme (28.02.2018) von RODARE sind',zeitraum.days,'Tage vergangen.\\nInsgesamt wurden',\n",
    "      str(len(df)),'Records veröffentlicht und',str(df['downloads'].sum()),\n",
    "      'mal gedownloaded.\\nDas entspricht: 1 Veröffentlichung alle',round(ds,1),\n",
    "      'Tage und' ,round(lpd,1), 'Downloads pro Tag. \\nDer meistgeladene Record',\n",
    "       df.iloc[df.downloads.idxmax(), 10], 'wurde',df['downloads'].max(),\n",
    "      'mal gedownloaded. \\nDer neueste Download',df.iloc[0, 10],\n",
    "      'wurde am',df['pub_date'].max(),'veröffentlicht. \\nDer meistangesehene Record',\n",
    "      df.iloc[df.views.idxmax(), 10],'wurde',df['views'].max(),'mal angesehen. \\nIm Durchschnitt wird 1 Record',\n",
    "      round(df['views'].mean(),1),'mal angesehen und',round(df['downloads'].mean(),1),\n",
    "      'heruntergeladen. \\nDie Standardabweichung für Downloads beträgt',round(df['downloads'].std(),1)\n",
    "      ,'und die für Views beträgt',round(df['views'].std(),1),'. ')\n",
    "# errechnete Korrelation zwische Views und Downloads\n",
    "if df['downloads'].corr(df['views']) >= 0:\n",
    "    print('Da die Korrelation zwischen Views und Downloads mit',round(df['downloads'].corr(df['views']),1),\n",
    "          'größer als 0 ist, herrscht ein positiver Zusammenhang zwischen beiden Werten.')"
   ]
  },
  {
   "cell_type": "code",
   "execution_count": null,
   "metadata": {},
   "outputs": [],
   "source": [
    "# absolute Aufschlüsselung der Datentypen nach Anzahl\n",
    "dt=df['type'].value_counts()\n",
    "print(dt)"
   ]
  },
  {
   "cell_type": "code",
   "execution_count": null,
   "metadata": {},
   "outputs": [],
   "source": [
    "#Reduzierung der Datengrundlage und dort Werte ausgeben\n",
    "df[df['type']=='dataset'].groupby(['license']).size()"
   ]
  },
  {
   "cell_type": "code",
   "execution_count": null,
   "metadata": {},
   "outputs": [],
   "source": [
    "# Anzeige Menge Record-Software mit meisten Downloads\n",
    "df.downloads[df['type']=='software'].max()"
   ]
  },
  {
   "cell_type": "code",
   "execution_count": null,
   "metadata": {},
   "outputs": [],
   "source": [
    "# Anzeige Menge Record-Dataset mit meisten Downloads\n",
    "df.downloads[df['type']=='dataset'].max()"
   ]
  },
  {
   "cell_type": "code",
   "execution_count": null,
   "metadata": {},
   "outputs": [],
   "source": [
    "# relative Aufschlüsselung der Datentypen nach Anzahl\n",
    "df['type'].value_counts(normalize=True)"
   ]
  },
  {
   "cell_type": "code",
   "execution_count": null,
   "metadata": {},
   "outputs": [],
   "source": [
    "# Ausgabe der absoluten Verteilung von Referenzrecords, die in ROBIS publiziert wurden\n",
    "df['rel_id'].value_counts()"
   ]
  },
  {
   "cell_type": "code",
   "execution_count": null,
   "metadata": {},
   "outputs": [],
   "source": [
    "# Ausgabe der absoluten Verteilung von Referenzrecords\n",
    "df['ref_by'].value_counts()"
   ]
  },
  {
   "cell_type": "code",
   "execution_count": null,
   "metadata": {},
   "outputs": [],
   "source": [
    "# Verteilung der Referenzlinks pro Datentyp\n",
    "df.groupby(['type','ref_by']).size()"
   ]
  },
  {
   "cell_type": "code",
   "execution_count": null,
   "metadata": {
    "scrolled": true
   },
   "outputs": [],
   "source": [
    "# absolute Aufschlüsselung der Lizenzen in Abhängigkeit des Datentypen mit Anzahl\n",
    "df.groupby(['type','license']).size()"
   ]
  },
  {
   "cell_type": "code",
   "execution_count": null,
   "metadata": {},
   "outputs": [],
   "source": [
    "# Verteilung Lizenz pro Datentyp mit Downloads\n",
    "sns.set(rc={\"figure.figsize\":(12, 12)})\n",
    "sns.relplot(x='type', y='license', size='downloads', data=df, height=3, aspect=2)\n",
    "plt.savefig(\"./Pictures/01_Verteilung_Lizenz_Datentyp_Downloads.png\", dpi=300)"
   ]
  },
  {
   "cell_type": "code",
   "execution_count": null,
   "metadata": {},
   "outputs": [],
   "source": [
    "# Verteilung Lizenz pro Access-Recht mit Downloads\n",
    "sns.set(rc={\"figure.figsize\":(12, 12)})\n",
    "sns.relplot(x='access_right', y='license', size='downloads', data=df, height=5, aspect=1)\n",
    "plt.savefig(\"./Pictures/02_Verteilung_Lizenz_AR_Downloads.png\", dpi=300)"
   ]
  },
  {
   "cell_type": "code",
   "execution_count": null,
   "metadata": {},
   "outputs": [],
   "source": [
    "# graphische Darstellung der Downloadverteilung\n",
    "sns.set(rc={\"figure.figsize\":(12, 6)})\n",
    "sns.distplot(df['downloads'], bins=20)\n",
    "plt.savefig(\"./Pictures/03_Verteilung_Downloads.png\", dpi=300)"
   ]
  },
  {
   "cell_type": "code",
   "execution_count": null,
   "metadata": {},
   "outputs": [],
   "source": [
    "# graphische Darstellung der Viewverteilung in Relation zur Anzahl der Records\n",
    "sns.set(rc={\"figure.figsize\":(12, 6)})\n",
    "sns.distplot(df['views'],bins=60)\n",
    "plt.savefig(\"./Pictures/04_Verteilung_Views.png\", dpi=300)"
   ]
  },
  {
   "cell_type": "code",
   "execution_count": null,
   "metadata": {
    "scrolled": true
   },
   "outputs": [],
   "source": [
    "# graphische Darstellung der Views je Record in chronologischer Reihenfolge für bestimmten Zeitraum\n",
    "# hier habe ich leider keine andere Auflösung oder Verlängerung der Achse hinbekommen(Xticks)\n",
    "start_date = '2021-01-01'\n",
    "plt.plot(df['pub_date'][df['pub_date'] >= start_date], \n",
    "         df['views'][df['pub_date'] >= start_date],\n",
    "         color='#4870a0',\n",
    "         marker='o')\n",
    "plt.xlabel('Publikationsdatum')\n",
    "plt.ylabel('Views')\n",
    "plt.grid(True)\n",
    "# Dreht Achsenbeschriftung\n",
    "plt.gcf().autofmt_xdate()\n",
    "plt.savefig(\"./Pictures/05_Verteilung_Views_2021.png\", dpi=300)"
   ]
  },
  {
   "cell_type": "code",
   "execution_count": null,
   "metadata": {},
   "outputs": [],
   "source": [
    "#Darstellung der Views und unique Views im Zeitverlauf\n",
    "plt.stackplot(df['pub_date'], \n",
    "              df['u_views'], \n",
    "              df['views'],\n",
    "              alpha=0.75,\n",
    "              baseline='zero',\n",
    "              colors=['#7289da','#f29fa9'],\n",
    "              labels=['u_views', 'views'],\n",
    "              )\n",
    "plt.gcf().autofmt_xdate()\n",
    "plt.savefig(\"./Pictures/06_Verteilung_Views_uniqueViews.png\", dpi=300)"
   ]
  },
  {
   "cell_type": "code",
   "execution_count": null,
   "metadata": {},
   "outputs": [],
   "source": [
    "# Darstellung Views pro Datentyp mit Anzeige der unique Views\n",
    "sns.set(rc={\"figure.figsize\":(12, 12)})\n",
    "sns.relplot(y='type', x='views',size='u_views', data=df)\n",
    "plt.savefig(\"./Pictures/07_Verteilung_Views_uniqueViews_Datentyp.png\", dpi=300)"
   ]
  },
  {
   "cell_type": "code",
   "execution_count": null,
   "metadata": {},
   "outputs": [],
   "source": [
    "# Darstellung Downloads pro Datentyp mit Anzeige der unique Downloads\n",
    "sns.relplot(y='type', x='downloads',size='u_downloads', data=df)\n",
    "plt.savefig(\"./Pictures/08_Verteilung_Downloads_uniqueDownloads_Datentyp.png\", dpi=300)"
   ]
  },
  {
   "cell_type": "code",
   "execution_count": null,
   "metadata": {},
   "outputs": [],
   "source": [
    "# Darstellung Views und Downloads pro Datentyp \n",
    "sns.relplot(x='views', y='type', \n",
    "            size='downloads',\n",
    "            data=df,\n",
    "            height=3, aspect=3)\n",
    "plt.savefig(\"./Pictures/09_Verteilung_Views_Downloads_Datentyp.png\", dpi=300)"
   ]
  },
  {
   "cell_type": "code",
   "execution_count": null,
   "metadata": {},
   "outputs": [],
   "source": []
  },
  {
   "cell_type": "code",
   "execution_count": null,
   "metadata": {},
   "outputs": [],
   "source": []
  }
 ],
 "metadata": {
  "kernelspec": {
   "display_name": "Python 3",
   "language": "python",
   "name": "python3"
  },
  "language_info": {
   "codemirror_mode": {
    "name": "ipython",
    "version": 3
   },
   "file_extension": ".py",
   "mimetype": "text/x-python",
   "name": "python",
   "nbconvert_exporter": "python",
   "pygments_lexer": "ipython3",
   "version": "3.7.4"
  }
 },
 "nbformat": 4,
 "nbformat_minor": 2
}
