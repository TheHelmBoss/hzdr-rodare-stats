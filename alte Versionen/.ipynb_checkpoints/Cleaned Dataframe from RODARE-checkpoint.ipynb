{
 "cells": [
  {
   "cell_type": "code",
   "execution_count": 1,
   "metadata": {},
   "outputs": [],
   "source": [
    "# Bibliotheken abrufen\n",
    "import json\n",
    "import pandas as pd\n",
    "import requests\n",
    "import numpy as np\n",
    "import matplotlib.pyplot as plt\n",
    "import seaborn as sns\n",
    "%matplotlib inline\n",
    "sns.set()"
   ]
  },
  {
   "cell_type": "code",
   "execution_count": 2,
   "metadata": {},
   "outputs": [],
   "source": [
    "# URL als Variable definieren\n",
    "url = \"https://rodare.hzdr.de/api/records/?page=1&sort=mostrecent&size=1000\""
   ]
  },
  {
   "cell_type": "code",
   "execution_count": 3,
   "metadata": {},
   "outputs": [],
   "source": [
    "# Funktion um Inhalt aus URL in r zu speichern\n",
    "r = requests.get(url)"
   ]
  },
  {
   "cell_type": "code",
   "execution_count": 4,
   "metadata": {},
   "outputs": [],
   "source": [
    "# JSON lesen lassen\n",
    "json = r.json()"
   ]
  },
  {
   "cell_type": "code",
   "execution_count": 5,
   "metadata": {},
   "outputs": [],
   "source": [
    "# Dictionary anlegen und Keys der gewünschten Werte definieren\n",
    "Meta_dict = {}\n",
    "Meta_dict['type'] = []\n",
    "Meta_dict['license'] = []\n",
    "Meta_dict['rel_id'] = []\n",
    "Meta_dict['pub_date'] = []\n",
    "Meta_dict['Access_Right'] = []\n",
    "Meta_dict['Downloads'] = []\n",
    "Meta_dict['unique_downloads'] = []\n",
    "Meta_dict['unique_views'] = []\n",
    "Meta_dict['views'] = []\n",
    "Meta_dict['isreferencedby'] = []\n",
    "Meta_dict['doi'] = []"
   ]
  },
  {
   "cell_type": "code",
   "execution_count": 6,
   "metadata": {},
   "outputs": [],
   "source": [
    "# Definition einer Teilliste und for-Schleife, um den type der Records aus allen Einträgen auszulesen und aufzulisten\n",
    "for record in json['hits']['hits']:\n",
    "    Meta_dict['type'].append(record['metadata']['resource_type']['type'])\n",
    "    if 'license' in record['metadata'].keys():\n",
    "        Meta_dict['license'].append(record['metadata']['license']['id'])\n",
    "    else:\n",
    "        Meta_dict['license'].append('NaN')\n",
    "# Neue Iteration in Liste der related identifier anlegen und dort die Bedigungen für das Auslesen definieren\n",
    "    count_id = 0\n",
    "    counter_2 = 0\n",
    "    for identifier in record['metadata']['related_identifiers']:\n",
    "        #print(identifier['relation'])\n",
    "        if identifier['relation'] == 'isReferencedBy' and 'hzdr' in identifier['identifier']:\n",
    "            count_id = count_id + 1\n",
    "        if identifier['relation'] == 'isReferencedBy':\n",
    "            counter_2 = counter_2 + 1\n",
    "        #print(counter_2)\n",
    "    Meta_dict['isreferencedby'].append(counter_2)\n",
    "    Meta_dict['rel_id'].append(count_id)\n",
    "    Meta_dict['pub_date'].append(record['created'][:10])\n",
    "    Meta_dict['Access_Right'].append(record['metadata']['access_right'])\n",
    "    Meta_dict['Downloads'].append(int(record['stats']['downloads']))\n",
    "    Meta_dict['unique_downloads'].append(int(record['stats']['unique_downloads']))\n",
    "    Meta_dict['unique_views'].append(int(record['stats']['unique_views']))\n",
    "    Meta_dict['views'].append(int(record['stats']['views']))\n",
    "    Meta_dict['doi'].append(record['links']['doi'])"
   ]
  },
  {
   "cell_type": "code",
   "execution_count": 7,
   "metadata": {},
   "outputs": [],
   "source": [
    "# https://datatofish.com/select-rows-pandas-dataframe/"
   ]
  },
  {
   "cell_type": "code",
   "execution_count": 8,
   "metadata": {},
   "outputs": [],
   "source": [
    "#for record in json['hits']['hits']:\n",
    "#    counter_2 = 0\n",
    "#    for identifier in record['metadata']['related_identifiers']:\n",
    "#        if identifier['relation'] == 'isReferencedBy':\n",
    "#            counter_2 = counter_2 + 1\n",
    "#    Meta_dict['isreferencedby'].append(counter_2)"
   ]
  },
  {
   "cell_type": "code",
   "execution_count": 9,
   "metadata": {},
   "outputs": [
    {
     "data": {
      "text/plain": [
       "169"
      ]
     },
     "execution_count": 9,
     "metadata": {},
     "output_type": "execute_result"
    }
   ],
   "source": [
    "sum(Meta_dict['isreferencedby'])"
   ]
  },
  {
   "cell_type": "code",
   "execution_count": 10,
   "metadata": {},
   "outputs": [],
   "source": [
    "# Umwandlung des Disctionaries in ein DataFrame \n",
    "df = pd.DataFrame(Meta_dict)"
   ]
  },
  {
   "cell_type": "code",
   "execution_count": 11,
   "metadata": {},
   "outputs": [
    {
     "data": {
      "text/plain": [
       "163"
      ]
     },
     "execution_count": 11,
     "metadata": {},
     "output_type": "execute_result"
    }
   ],
   "source": [
    "sum(df.isreferencedby == 1)"
   ]
  },
  {
   "cell_type": "code",
   "execution_count": 12,
   "metadata": {},
   "outputs": [
    {
     "data": {
      "text/plain": [
       "3"
      ]
     },
     "execution_count": 12,
     "metadata": {},
     "output_type": "execute_result"
    }
   ],
   "source": [
    "sum(df.isreferencedby > 1)"
   ]
  },
  {
   "cell_type": "code",
   "execution_count": 13,
   "metadata": {},
   "outputs": [
    {
     "data": {
      "text/plain": [
       "207"
      ]
     },
     "execution_count": 13,
     "metadata": {},
     "output_type": "execute_result"
    }
   ],
   "source": [
    "sum(df.type == 'dataset')"
   ]
  },
  {
   "cell_type": "code",
   "execution_count": 14,
   "metadata": {},
   "outputs": [
    {
     "data": {
      "text/html": [
       "<div>\n",
       "<style scoped>\n",
       "    .dataframe tbody tr th:only-of-type {\n",
       "        vertical-align: middle;\n",
       "    }\n",
       "\n",
       "    .dataframe tbody tr th {\n",
       "        vertical-align: top;\n",
       "    }\n",
       "\n",
       "    .dataframe thead th {\n",
       "        text-align: right;\n",
       "    }\n",
       "</style>\n",
       "<table border=\"1\" class=\"dataframe\">\n",
       "  <thead>\n",
       "    <tr style=\"text-align: right;\">\n",
       "      <th></th>\n",
       "      <th>type</th>\n",
       "      <th>license</th>\n",
       "      <th>rel_id</th>\n",
       "      <th>pub_date</th>\n",
       "      <th>Access_Right</th>\n",
       "      <th>Downloads</th>\n",
       "      <th>unique_downloads</th>\n",
       "      <th>unique_views</th>\n",
       "      <th>views</th>\n",
       "      <th>isreferencedby</th>\n",
       "      <th>doi</th>\n",
       "    </tr>\n",
       "  </thead>\n",
       "  <tbody>\n",
       "    <tr>\n",
       "      <td>0</td>\n",
       "      <td>software</td>\n",
       "      <td>NaN</td>\n",
       "      <td>1</td>\n",
       "      <td>2021-08-17</td>\n",
       "      <td>restricted</td>\n",
       "      <td>0</td>\n",
       "      <td>0</td>\n",
       "      <td>0</td>\n",
       "      <td>0</td>\n",
       "      <td>1</td>\n",
       "      <td>https://doi.org/10.14278/rodare.1119</td>\n",
       "    </tr>\n",
       "    <tr>\n",
       "      <td>1</td>\n",
       "      <td>other</td>\n",
       "      <td>CC-BY-4.0</td>\n",
       "      <td>0</td>\n",
       "      <td>2021-08-16</td>\n",
       "      <td>open</td>\n",
       "      <td>2</td>\n",
       "      <td>2</td>\n",
       "      <td>3</td>\n",
       "      <td>3</td>\n",
       "      <td>0</td>\n",
       "      <td>https://doi.org/10.14278/rodare.1117</td>\n",
       "    </tr>\n",
       "    <tr>\n",
       "      <td>2</td>\n",
       "      <td>other</td>\n",
       "      <td>CC-BY-4.0</td>\n",
       "      <td>0</td>\n",
       "      <td>2021-08-16</td>\n",
       "      <td>open</td>\n",
       "      <td>1</td>\n",
       "      <td>1</td>\n",
       "      <td>2</td>\n",
       "      <td>2</td>\n",
       "      <td>0</td>\n",
       "      <td>https://doi.org/10.14278/rodare.1115</td>\n",
       "    </tr>\n",
       "    <tr>\n",
       "      <td>3</td>\n",
       "      <td>dataset</td>\n",
       "      <td>CC-BY-4.0</td>\n",
       "      <td>1</td>\n",
       "      <td>2021-08-12</td>\n",
       "      <td>open</td>\n",
       "      <td>0</td>\n",
       "      <td>0</td>\n",
       "      <td>4</td>\n",
       "      <td>4</td>\n",
       "      <td>1</td>\n",
       "      <td>https://doi.org/10.14278/rodare.1111</td>\n",
       "    </tr>\n",
       "    <tr>\n",
       "      <td>4</td>\n",
       "      <td>dataset</td>\n",
       "      <td>CC-BY-4.0</td>\n",
       "      <td>1</td>\n",
       "      <td>2021-08-09</td>\n",
       "      <td>open</td>\n",
       "      <td>2</td>\n",
       "      <td>2</td>\n",
       "      <td>23</td>\n",
       "      <td>30</td>\n",
       "      <td>1</td>\n",
       "      <td>https://doi.org/10.14278/rodare.1098</td>\n",
       "    </tr>\n",
       "    <tr>\n",
       "      <td>...</td>\n",
       "      <td>...</td>\n",
       "      <td>...</td>\n",
       "      <td>...</td>\n",
       "      <td>...</td>\n",
       "      <td>...</td>\n",
       "      <td>...</td>\n",
       "      <td>...</td>\n",
       "      <td>...</td>\n",
       "      <td>...</td>\n",
       "      <td>...</td>\n",
       "      <td>...</td>\n",
       "    </tr>\n",
       "    <tr>\n",
       "      <td>268</td>\n",
       "      <td>dataset</td>\n",
       "      <td>CC-BY-SA-4.0</td>\n",
       "      <td>0</td>\n",
       "      <td>2018-05-09</td>\n",
       "      <td>open</td>\n",
       "      <td>23</td>\n",
       "      <td>22</td>\n",
       "      <td>340</td>\n",
       "      <td>402</td>\n",
       "      <td>0</td>\n",
       "      <td>https://doi.org/10.14278/rodare.24</td>\n",
       "    </tr>\n",
       "    <tr>\n",
       "      <td>269</td>\n",
       "      <td>dataset</td>\n",
       "      <td>CC-BY-4.0</td>\n",
       "      <td>0</td>\n",
       "      <td>2018-04-25</td>\n",
       "      <td>open</td>\n",
       "      <td>90</td>\n",
       "      <td>33</td>\n",
       "      <td>351</td>\n",
       "      <td>425</td>\n",
       "      <td>0</td>\n",
       "      <td>https://doi.org/10.14278/rodare.16</td>\n",
       "    </tr>\n",
       "    <tr>\n",
       "      <td>270</td>\n",
       "      <td>dataset</td>\n",
       "      <td>CC-BY-4.0</td>\n",
       "      <td>0</td>\n",
       "      <td>2018-04-12</td>\n",
       "      <td>open</td>\n",
       "      <td>23</td>\n",
       "      <td>18</td>\n",
       "      <td>287</td>\n",
       "      <td>344</td>\n",
       "      <td>0</td>\n",
       "      <td>https://doi.org/10.14278/rodare.8</td>\n",
       "    </tr>\n",
       "    <tr>\n",
       "      <td>271</td>\n",
       "      <td>dataset</td>\n",
       "      <td>NaN</td>\n",
       "      <td>0</td>\n",
       "      <td>2018-03-20</td>\n",
       "      <td>restricted</td>\n",
       "      <td>0</td>\n",
       "      <td>0</td>\n",
       "      <td>257</td>\n",
       "      <td>290</td>\n",
       "      <td>0</td>\n",
       "      <td>https://doi.org/10.14278/rodare.4</td>\n",
       "    </tr>\n",
       "    <tr>\n",
       "      <td>272</td>\n",
       "      <td>image</td>\n",
       "      <td>CC-BY-4.0</td>\n",
       "      <td>0</td>\n",
       "      <td>2018-02-28</td>\n",
       "      <td>open</td>\n",
       "      <td>433</td>\n",
       "      <td>250</td>\n",
       "      <td>412</td>\n",
       "      <td>504</td>\n",
       "      <td>0</td>\n",
       "      <td>https://doi.org/10.14278/rodare.2</td>\n",
       "    </tr>\n",
       "  </tbody>\n",
       "</table>\n",
       "<p>273 rows × 11 columns</p>\n",
       "</div>"
      ],
      "text/plain": [
       "         type       license  rel_id    pub_date Access_Right  Downloads  \\\n",
       "0    software           NaN       1  2021-08-17   restricted          0   \n",
       "1       other     CC-BY-4.0       0  2021-08-16         open          2   \n",
       "2       other     CC-BY-4.0       0  2021-08-16         open          1   \n",
       "3     dataset     CC-BY-4.0       1  2021-08-12         open          0   \n",
       "4     dataset     CC-BY-4.0       1  2021-08-09         open          2   \n",
       "..        ...           ...     ...         ...          ...        ...   \n",
       "268   dataset  CC-BY-SA-4.0       0  2018-05-09         open         23   \n",
       "269   dataset     CC-BY-4.0       0  2018-04-25         open         90   \n",
       "270   dataset     CC-BY-4.0       0  2018-04-12         open         23   \n",
       "271   dataset           NaN       0  2018-03-20   restricted          0   \n",
       "272     image     CC-BY-4.0       0  2018-02-28         open        433   \n",
       "\n",
       "     unique_downloads  unique_views  views  isreferencedby  \\\n",
       "0                   0             0      0               1   \n",
       "1                   2             3      3               0   \n",
       "2                   1             2      2               0   \n",
       "3                   0             4      4               1   \n",
       "4                   2            23     30               1   \n",
       "..                ...           ...    ...             ...   \n",
       "268                22           340    402               0   \n",
       "269                33           351    425               0   \n",
       "270                18           287    344               0   \n",
       "271                 0           257    290               0   \n",
       "272               250           412    504               0   \n",
       "\n",
       "                                      doi  \n",
       "0    https://doi.org/10.14278/rodare.1119  \n",
       "1    https://doi.org/10.14278/rodare.1117  \n",
       "2    https://doi.org/10.14278/rodare.1115  \n",
       "3    https://doi.org/10.14278/rodare.1111  \n",
       "4    https://doi.org/10.14278/rodare.1098  \n",
       "..                                    ...  \n",
       "268    https://doi.org/10.14278/rodare.24  \n",
       "269    https://doi.org/10.14278/rodare.16  \n",
       "270     https://doi.org/10.14278/rodare.8  \n",
       "271     https://doi.org/10.14278/rodare.4  \n",
       "272     https://doi.org/10.14278/rodare.2  \n",
       "\n",
       "[273 rows x 11 columns]"
      ]
     },
     "execution_count": 14,
     "metadata": {},
     "output_type": "execute_result"
    }
   ],
   "source": [
    "df"
   ]
  },
  {
   "cell_type": "code",
   "execution_count": 15,
   "metadata": {},
   "outputs": [
    {
     "data": {
      "text/plain": [
       "type                                            software\n",
       "license                                              NaN\n",
       "rel_id                                                 1\n",
       "pub_date                                      2021-08-17\n",
       "Access_Right                                  restricted\n",
       "Downloads                                              0\n",
       "unique_downloads                                       0\n",
       "unique_views                                           0\n",
       "views                                                  0\n",
       "isreferencedby                                         1\n",
       "doi                 https://doi.org/10.14278/rodare.1119\n",
       "Name: 0, dtype: object"
      ]
     },
     "execution_count": 15,
     "metadata": {},
     "output_type": "execute_result"
    }
   ],
   "source": [
    "df.iloc[0]"
   ]
  },
  {
   "cell_type": "code",
   "execution_count": 16,
   "metadata": {},
   "outputs": [
    {
     "data": {
      "text/plain": [
       "'https://doi.org/10.14278/rodare.1119'"
      ]
     },
     "execution_count": 16,
     "metadata": {},
     "output_type": "execute_result"
    }
   ],
   "source": [
    "df.iloc[0][10]"
   ]
  },
  {
   "cell_type": "code",
   "execution_count": 17,
   "metadata": {},
   "outputs": [
    {
     "name": "stdout",
     "output_type": "stream",
     "text": [
      "Es sind 1266 Tage seit der Inbetriebnahme von RODARE vergangen\n"
     ]
    }
   ],
   "source": [
    "# https://www.python-lernen.de/python-modul-datetime.htm\n",
    "from datetime import date, datetime, timedelta\n",
    "aktuellesDatum = date.today()\n",
    "rodare_pub = date(2018,2,28)\n",
    "zeitraum = aktuellesDatum - rodare_pub\n",
    "print(\"Es sind\", zeitraum.days, \"Tage seit der Inbetriebnahme von RODARE vergangen\")\n",
    "zr = zeitraum.days\n",
    "ds = zr/len(df)\n",
    "lpd = df['Downloads'].sum()/zr"
   ]
  },
  {
   "cell_type": "code",
   "execution_count": 18,
   "metadata": {},
   "outputs": [
    {
     "name": "stdout",
     "output_type": "stream",
     "text": [
      "Stand (17.08.2021) - Seit Inbetriebnahme von RODARE wurden aus der Gesamtheit von 273 Records 18941 Downloads getätigt.\n"
     ]
    }
   ],
   "source": [
    "print('Stand ('+ aktuellesDatum.strftime(\"%d.%m.%Y\") +\\\n",
    "      ') - Seit Inbetriebnahme von RODARE wurden aus der Gesamtheit von ' + str(len(df)) \\\n",
    "      + ' Records ' + str(df['Downloads'].sum()) + ' Downloads getätigt.')"
   ]
  },
  {
   "cell_type": "code",
   "execution_count": 19,
   "metadata": {},
   "outputs": [
    {
     "name": "stdout",
     "output_type": "stream",
     "text": [
      "17.08.2021\n"
     ]
    }
   ],
   "source": [
    "print(aktuellesDatum.strftime(\"%d.%m.%Y\"))"
   ]
  },
  {
   "cell_type": "code",
   "execution_count": 20,
   "metadata": {},
   "outputs": [
    {
     "name": "stdout",
     "output_type": "stream",
     "text": [
      "Seit der Inbetriebnahme von RODARE sind 1266 Tage vergangen. \n",
      "Das entspricht eine Veröffentlichung alle 4.6 Tage und 15.0 Downloads pro Tag.\n"
     ]
    }
   ],
   "source": [
    "print('Seit der Inbetriebnahme von RODARE sind', zeitraum.days , \n",
    "      'Tage vergangen. \\nDas entspricht eine Veröffentlichung alle', round(ds,1) ,\n",
    "      'Tage und' ,round(lpd,1), 'Downloads pro Tag.')"
   ]
  },
  {
   "cell_type": "code",
   "execution_count": 21,
   "metadata": {
    "scrolled": true
   },
   "outputs": [
    {
     "data": {
      "text/html": [
       "<div>\n",
       "<style scoped>\n",
       "    .dataframe tbody tr th:only-of-type {\n",
       "        vertical-align: middle;\n",
       "    }\n",
       "\n",
       "    .dataframe tbody tr th {\n",
       "        vertical-align: top;\n",
       "    }\n",
       "\n",
       "    .dataframe thead th {\n",
       "        text-align: right;\n",
       "    }\n",
       "</style>\n",
       "<table border=\"1\" class=\"dataframe\">\n",
       "  <thead>\n",
       "    <tr style=\"text-align: right;\">\n",
       "      <th></th>\n",
       "      <th>type</th>\n",
       "      <th>license</th>\n",
       "      <th>rel_id</th>\n",
       "      <th>pub_date</th>\n",
       "      <th>Access_Right</th>\n",
       "      <th>Downloads</th>\n",
       "      <th>unique_downloads</th>\n",
       "      <th>unique_views</th>\n",
       "      <th>views</th>\n",
       "      <th>isreferencedby</th>\n",
       "      <th>doi</th>\n",
       "    </tr>\n",
       "  </thead>\n",
       "  <tbody>\n",
       "    <tr>\n",
       "      <td>count</td>\n",
       "      <td>273</td>\n",
       "      <td>273</td>\n",
       "      <td>273.000000</td>\n",
       "      <td>273</td>\n",
       "      <td>273</td>\n",
       "      <td>273.000000</td>\n",
       "      <td>273.000000</td>\n",
       "      <td>273.000000</td>\n",
       "      <td>273.000000</td>\n",
       "      <td>273.000000</td>\n",
       "      <td>273</td>\n",
       "    </tr>\n",
       "    <tr>\n",
       "      <td>unique</td>\n",
       "      <td>6</td>\n",
       "      <td>10</td>\n",
       "      <td>NaN</td>\n",
       "      <td>179</td>\n",
       "      <td>4</td>\n",
       "      <td>NaN</td>\n",
       "      <td>NaN</td>\n",
       "      <td>NaN</td>\n",
       "      <td>NaN</td>\n",
       "      <td>NaN</td>\n",
       "      <td>273</td>\n",
       "    </tr>\n",
       "    <tr>\n",
       "      <td>top</td>\n",
       "      <td>dataset</td>\n",
       "      <td>CC-BY-4.0</td>\n",
       "      <td>NaN</td>\n",
       "      <td>2021-03-10</td>\n",
       "      <td>open</td>\n",
       "      <td>NaN</td>\n",
       "      <td>NaN</td>\n",
       "      <td>NaN</td>\n",
       "      <td>NaN</td>\n",
       "      <td>NaN</td>\n",
       "      <td>https://doi.org/10.14278/rodare.603</td>\n",
       "    </tr>\n",
       "    <tr>\n",
       "      <td>freq</td>\n",
       "      <td>207</td>\n",
       "      <td>127</td>\n",
       "      <td>NaN</td>\n",
       "      <td>18</td>\n",
       "      <td>155</td>\n",
       "      <td>NaN</td>\n",
       "      <td>NaN</td>\n",
       "      <td>NaN</td>\n",
       "      <td>NaN</td>\n",
       "      <td>NaN</td>\n",
       "      <td>1</td>\n",
       "    </tr>\n",
       "    <tr>\n",
       "      <td>mean</td>\n",
       "      <td>NaN</td>\n",
       "      <td>NaN</td>\n",
       "      <td>0.611722</td>\n",
       "      <td>NaN</td>\n",
       "      <td>NaN</td>\n",
       "      <td>69.380952</td>\n",
       "      <td>26.336996</td>\n",
       "      <td>96.593407</td>\n",
       "      <td>139.384615</td>\n",
       "      <td>0.619048</td>\n",
       "      <td>NaN</td>\n",
       "    </tr>\n",
       "    <tr>\n",
       "      <td>std</td>\n",
       "      <td>NaN</td>\n",
       "      <td>NaN</td>\n",
       "      <td>0.495726</td>\n",
       "      <td>NaN</td>\n",
       "      <td>NaN</td>\n",
       "      <td>239.314972</td>\n",
       "      <td>73.154575</td>\n",
       "      <td>101.908838</td>\n",
       "      <td>129.407397</td>\n",
       "      <td>0.508678</td>\n",
       "      <td>NaN</td>\n",
       "    </tr>\n",
       "    <tr>\n",
       "      <td>min</td>\n",
       "      <td>NaN</td>\n",
       "      <td>NaN</td>\n",
       "      <td>0.000000</td>\n",
       "      <td>NaN</td>\n",
       "      <td>NaN</td>\n",
       "      <td>0.000000</td>\n",
       "      <td>0.000000</td>\n",
       "      <td>0.000000</td>\n",
       "      <td>0.000000</td>\n",
       "      <td>0.000000</td>\n",
       "      <td>NaN</td>\n",
       "    </tr>\n",
       "    <tr>\n",
       "      <td>25%</td>\n",
       "      <td>NaN</td>\n",
       "      <td>NaN</td>\n",
       "      <td>0.000000</td>\n",
       "      <td>NaN</td>\n",
       "      <td>NaN</td>\n",
       "      <td>0.000000</td>\n",
       "      <td>0.000000</td>\n",
       "      <td>39.000000</td>\n",
       "      <td>62.000000</td>\n",
       "      <td>0.000000</td>\n",
       "      <td>NaN</td>\n",
       "    </tr>\n",
       "    <tr>\n",
       "      <td>50%</td>\n",
       "      <td>NaN</td>\n",
       "      <td>NaN</td>\n",
       "      <td>1.000000</td>\n",
       "      <td>NaN</td>\n",
       "      <td>NaN</td>\n",
       "      <td>5.000000</td>\n",
       "      <td>4.000000</td>\n",
       "      <td>67.000000</td>\n",
       "      <td>106.000000</td>\n",
       "      <td>1.000000</td>\n",
       "      <td>NaN</td>\n",
       "    </tr>\n",
       "    <tr>\n",
       "      <td>75%</td>\n",
       "      <td>NaN</td>\n",
       "      <td>NaN</td>\n",
       "      <td>1.000000</td>\n",
       "      <td>NaN</td>\n",
       "      <td>NaN</td>\n",
       "      <td>37.000000</td>\n",
       "      <td>20.000000</td>\n",
       "      <td>101.000000</td>\n",
       "      <td>160.000000</td>\n",
       "      <td>1.000000</td>\n",
       "      <td>NaN</td>\n",
       "    </tr>\n",
       "    <tr>\n",
       "      <td>max</td>\n",
       "      <td>NaN</td>\n",
       "      <td>NaN</td>\n",
       "      <td>2.000000</td>\n",
       "      <td>NaN</td>\n",
       "      <td>NaN</td>\n",
       "      <td>2223.000000</td>\n",
       "      <td>912.000000</td>\n",
       "      <td>699.000000</td>\n",
       "      <td>851.000000</td>\n",
       "      <td>2.000000</td>\n",
       "      <td>NaN</td>\n",
       "    </tr>\n",
       "  </tbody>\n",
       "</table>\n",
       "</div>"
      ],
      "text/plain": [
       "           type    license      rel_id    pub_date Access_Right    Downloads  \\\n",
       "count       273        273  273.000000         273          273   273.000000   \n",
       "unique        6         10         NaN         179            4          NaN   \n",
       "top     dataset  CC-BY-4.0         NaN  2021-03-10         open          NaN   \n",
       "freq        207        127         NaN          18          155          NaN   \n",
       "mean        NaN        NaN    0.611722         NaN          NaN    69.380952   \n",
       "std         NaN        NaN    0.495726         NaN          NaN   239.314972   \n",
       "min         NaN        NaN    0.000000         NaN          NaN     0.000000   \n",
       "25%         NaN        NaN    0.000000         NaN          NaN     0.000000   \n",
       "50%         NaN        NaN    1.000000         NaN          NaN     5.000000   \n",
       "75%         NaN        NaN    1.000000         NaN          NaN    37.000000   \n",
       "max         NaN        NaN    2.000000         NaN          NaN  2223.000000   \n",
       "\n",
       "        unique_downloads  unique_views       views  isreferencedby  \\\n",
       "count         273.000000    273.000000  273.000000      273.000000   \n",
       "unique               NaN           NaN         NaN             NaN   \n",
       "top                  NaN           NaN         NaN             NaN   \n",
       "freq                 NaN           NaN         NaN             NaN   \n",
       "mean           26.336996     96.593407  139.384615        0.619048   \n",
       "std            73.154575    101.908838  129.407397        0.508678   \n",
       "min             0.000000      0.000000    0.000000        0.000000   \n",
       "25%             0.000000     39.000000   62.000000        0.000000   \n",
       "50%             4.000000     67.000000  106.000000        1.000000   \n",
       "75%            20.000000    101.000000  160.000000        1.000000   \n",
       "max           912.000000    699.000000  851.000000        2.000000   \n",
       "\n",
       "                                        doi  \n",
       "count                                   273  \n",
       "unique                                  273  \n",
       "top     https://doi.org/10.14278/rodare.603  \n",
       "freq                                      1  \n",
       "mean                                    NaN  \n",
       "std                                     NaN  \n",
       "min                                     NaN  \n",
       "25%                                     NaN  \n",
       "50%                                     NaN  \n",
       "75%                                     NaN  \n",
       "max                                     NaN  "
      ]
     },
     "execution_count": 21,
     "metadata": {},
     "output_type": "execute_result"
    }
   ],
   "source": [
    "df.describe(include='all')"
   ]
  },
  {
   "cell_type": "code",
   "execution_count": 22,
   "metadata": {},
   "outputs": [],
   "source": [
    "# Berechung aller Downloads für Open Access"
   ]
  },
  {
   "cell_type": "code",
   "execution_count": 98,
   "metadata": {},
   "outputs": [
    {
     "data": {
      "image/png": "[encoded data removed]",
      "text/plain": [
       "<Figure size 432x288 with 1 Axes>"
      ]
     },
     "metadata": {
      "needs_background": "light"
     },
     "output_type": "display_data"
    }
   ],
   "source": [
    "from wordcloud import WordCloud\n",
    "import matplotlib.pyplot as plt\n",
    "\n",
    "text = str(Meta_dict['type'])\n",
    "\n",
    "# Generate a word cloud image\n",
    "wordcloud = WordCloud(background_color=\"white\",width=1920, height=1080).generate(text)\n",
    "plt.axis(\"off\")\n",
    "plt.imshow(wordcloud, interpolation=\"bilinear\")\n",
    "plt.show()"
   ]
  },
  {
   "cell_type": "code",
   "execution_count": 102,
   "metadata": {},
   "outputs": [
    {
     "data": {
      "image/png": "[encoded data removed]",
      "text/plain": [
       "<Figure size 432x288 with 1 Axes>"
      ]
     },
     "metadata": {
      "needs_background": "light"
     },
     "output_type": "display_data"
    }
   ],
   "source": [
    "from wordcloud import WordCloud\n",
    "import matplotlib.pyplot as plt\n",
    "\n",
    "text = str(Meta_dict['Access_Right'])\n",
    "\n",
    "# Generate a word cloud image\n",
    "wordcloud = WordCloud(background_color=\"green\",width=1920, height=1080).generate(text)\n",
    "plt.axis(\"off\")\n",
    "plt.imshow(wordcloud, interpolation=\"bilinear\")\n",
    "plt.show()"
   ]
  },
  {
   "cell_type": "code",
   "execution_count": 93,
   "metadata": {},
   "outputs": [],
   "source": [
    "# Berechnung von Werten nach Bestimmung von Bedingungen"
   ]
  },
  {
   "cell_type": "code",
   "execution_count": 24,
   "metadata": {},
   "outputs": [
    {
     "data": {
      "text/plain": [
       "'https://doi.org/10.14278/rodare.915'"
      ]
     },
     "execution_count": 24,
     "metadata": {},
     "output_type": "execute_result"
    }
   ],
   "source": [
    "df.iloc[df.Downloads.idxmax(), 10]"
   ]
  },
  {
   "cell_type": "code",
   "execution_count": 25,
   "metadata": {},
   "outputs": [
    {
     "data": {
      "text/plain": [
       "(273, 11)"
      ]
     },
     "execution_count": 25,
     "metadata": {},
     "output_type": "execute_result"
    }
   ],
   "source": [
    "df.shape"
   ]
  },
  {
   "cell_type": "code",
   "execution_count": 26,
   "metadata": {},
   "outputs": [],
   "source": [
    "# sorted_df = df.sort_values(by='publication_date', ascending=False)\n",
    "# print(sorted_df)"
   ]
  },
  {
   "cell_type": "code",
   "execution_count": 27,
   "metadata": {},
   "outputs": [],
   "source": [
    "# df['publication_date'] >= '2021-01-01'"
   ]
  },
  {
   "cell_type": "code",
   "execution_count": 28,
   "metadata": {
    "scrolled": true
   },
   "outputs": [
    {
     "data": {
      "text/plain": [
       "array([False, False, False, False, False, False, False, False, False,\n",
       "       False, False, False, False, False, False, False, False, False,\n",
       "       False, False, False, False, False, False, False, False, False,\n",
       "       False, False, False, False, False, False, False, False, False,\n",
       "       False, False, False, False, False, False, False, False, False,\n",
       "       False, False, False, False, False, False, False, False, False,\n",
       "       False, False, False,  True,  True,  True,  True,  True,  True,\n",
       "        True,  True,  True,  True,  True,  True,  True,  True,  True,\n",
       "        True,  True,  True,  True,  True,  True,  True,  True,  True,\n",
       "        True,  True,  True,  True,  True,  True,  True,  True,  True,\n",
       "        True,  True,  True,  True,  True,  True,  True,  True,  True,\n",
       "        True,  True,  True,  True,  True,  True,  True,  True,  True,\n",
       "        True,  True,  True,  True,  True,  True,  True,  True,  True,\n",
       "        True,  True,  True, False, False, False, False, False, False,\n",
       "       False, False, False, False, False, False, False, False, False,\n",
       "       False, False, False, False, False, False, False, False, False,\n",
       "       False, False, False, False, False, False, False, False, False,\n",
       "       False, False, False, False, False, False, False, False, False,\n",
       "       False, False, False, False, False, False, False, False, False,\n",
       "       False, False, False, False, False, False, False, False, False,\n",
       "       False, False, False, False, False, False, False, False, False,\n",
       "       False, False, False, False, False, False, False, False, False,\n",
       "       False, False, False, False, False, False, False, False, False,\n",
       "       False, False, False, False, False, False, False, False, False,\n",
       "       False, False, False, False, False, False, False, False, False,\n",
       "       False, False, False, False, False, False, False, False, False,\n",
       "       False, False, False, False, False, False, False, False, False,\n",
       "       False, False, False, False, False, False, False, False, False,\n",
       "       False, False, False, False, False, False, False, False, False,\n",
       "       False, False, False, False, False, False, False, False, False,\n",
       "       False, False, False])"
      ]
     },
     "execution_count": 28,
     "metadata": {},
     "output_type": "execute_result"
    }
   ],
   "source": [
    "# zurück kommt boolarray\n",
    "start = list(df['pub_date'] >= '2021-01-01')\n",
    "end = list(df['pub_date'] <= '2021-03-31')\n",
    "date_filter = np.all(np.array([start,end]),axis=0)\n",
    "#end\n",
    "date_filter"
   ]
  },
  {
   "cell_type": "code",
   "execution_count": 29,
   "metadata": {},
   "outputs": [],
   "source": [
    "# zurück kommt boolarray\n",
    "#df['pub_date'].all(df['pub_date'] >= '2021-01-01',df['pub_date'] <= '2021-03-31')"
   ]
  },
  {
   "cell_type": "code",
   "execution_count": 30,
   "metadata": {},
   "outputs": [],
   "source": [
    "#sortet_list = list(df['publication_date'][df['publication_date'] >= '2021-01-01'])\n",
    "#sortet_list"
   ]
  },
  {
   "cell_type": "code",
   "execution_count": 31,
   "metadata": {},
   "outputs": [],
   "source": [
    "#sortet_list.sort()\n",
    "#sortet_list"
   ]
  },
  {
   "cell_type": "code",
   "execution_count": 32,
   "metadata": {},
   "outputs": [],
   "source": [
    "#list(df['publication_date'][df['publication_date'] >= '2021-01-01']).sort()"
   ]
  },
  {
   "cell_type": "code",
   "execution_count": 33,
   "metadata": {},
   "outputs": [
    {
     "data": {
      "text/plain": [
       "type                object\n",
       "license             object\n",
       "rel_id               int64\n",
       "pub_date            object\n",
       "Access_Right        object\n",
       "Downloads            int64\n",
       "unique_downloads     int64\n",
       "unique_views         int64\n",
       "views                int64\n",
       "isreferencedby       int64\n",
       "doi                 object\n",
       "dtype: object"
      ]
     },
     "execution_count": 33,
     "metadata": {},
     "output_type": "execute_result"
    }
   ],
   "source": [
    "df.dtypes"
   ]
  },
  {
   "cell_type": "code",
   "execution_count": 34,
   "metadata": {},
   "outputs": [
    {
     "data": {
      "text/plain": [
       "Index(['type', 'license', 'rel_id', 'pub_date', 'Access_Right', 'Downloads',\n",
       "       'unique_downloads', 'unique_views', 'views', 'isreferencedby', 'doi'],\n",
       "      dtype='object')"
      ]
     },
     "execution_count": 34,
     "metadata": {},
     "output_type": "execute_result"
    }
   ],
   "source": [
    "df.columns"
   ]
  },
  {
   "cell_type": "code",
   "execution_count": 35,
   "metadata": {},
   "outputs": [
    {
     "data": {
      "text/plain": [
       "273"
      ]
     },
     "execution_count": 35,
     "metadata": {},
     "output_type": "execute_result"
    }
   ],
   "source": [
    "len(df)"
   ]
  },
  {
   "cell_type": "code",
   "execution_count": 36,
   "metadata": {},
   "outputs": [
    {
     "data": {
      "text/plain": [
       "dataset         207\n",
       "software         25\n",
       "image            15\n",
       "other            15\n",
       "video             6\n",
       "presentation      5\n",
       "Name: type, dtype: int64"
      ]
     },
     "execution_count": 36,
     "metadata": {},
     "output_type": "execute_result"
    }
   ],
   "source": [
    "df['type'].value_counts()"
   ]
  },
  {
   "cell_type": "code",
   "execution_count": 37,
   "metadata": {},
   "outputs": [
    {
     "data": {
      "text/plain": [
       "dataset         0.758242\n",
       "software        0.091575\n",
       "image           0.054945\n",
       "other           0.054945\n",
       "video           0.021978\n",
       "presentation    0.018315\n",
       "Name: type, dtype: float64"
      ]
     },
     "execution_count": 37,
     "metadata": {},
     "output_type": "execute_result"
    }
   ],
   "source": [
    "df['type'].value_counts(normalize=True)"
   ]
  },
  {
   "cell_type": "code",
   "execution_count": 38,
   "metadata": {},
   "outputs": [
    {
     "data": {
      "text/plain": [
       "'dataset'"
      ]
     },
     "execution_count": 38,
     "metadata": {},
     "output_type": "execute_result"
    }
   ],
   "source": [
    "type_mode = df['type'].mode()\n",
    "type_mode[0]"
   ]
  },
  {
   "cell_type": "code",
   "execution_count": 39,
   "metadata": {},
   "outputs": [
    {
     "data": {
      "text/plain": [
       "0"
      ]
     },
     "execution_count": 39,
     "metadata": {},
     "output_type": "execute_result"
    }
   ],
   "source": [
    "df['rel_id'].isna().sum()"
   ]
  },
  {
   "cell_type": "code",
   "execution_count": 40,
   "metadata": {},
   "outputs": [
    {
     "data": {
      "text/plain": [
       "69.38095238095238"
      ]
     },
     "execution_count": 40,
     "metadata": {},
     "output_type": "execute_result"
    }
   ],
   "source": [
    "df['Downloads'].mean()"
   ]
  },
  {
   "cell_type": "code",
   "execution_count": 41,
   "metadata": {},
   "outputs": [
    {
     "data": {
      "text/plain": [
       "5.0"
      ]
     },
     "execution_count": 41,
     "metadata": {},
     "output_type": "execute_result"
    }
   ],
   "source": [
    "df['Downloads'].median()"
   ]
  },
  {
   "cell_type": "code",
   "execution_count": 42,
   "metadata": {},
   "outputs": [
    {
     "data": {
      "text/plain": [
       "106.0"
      ]
     },
     "execution_count": 42,
     "metadata": {},
     "output_type": "execute_result"
    }
   ],
   "source": [
    "df['views'].median()"
   ]
  },
  {
   "cell_type": "code",
   "execution_count": 43,
   "metadata": {},
   "outputs": [
    {
     "data": {
      "text/plain": [
       "57271.65581232486"
      ]
     },
     "execution_count": 43,
     "metadata": {},
     "output_type": "execute_result"
    }
   ],
   "source": [
    "df['Downloads'].var()"
   ]
  },
  {
   "cell_type": "code",
   "execution_count": 44,
   "metadata": {},
   "outputs": [
    {
     "data": {
      "text/plain": [
       "239.31497197694267"
      ]
     },
     "execution_count": 44,
     "metadata": {},
     "output_type": "execute_result"
    }
   ],
   "source": [
    "df['Downloads'].std()"
   ]
  },
  {
   "cell_type": "code",
   "execution_count": 45,
   "metadata": {},
   "outputs": [
    {
     "name": "stdout",
     "output_type": "stream",
     "text": [
      "dataset         207\n",
      "software         25\n",
      "image            15\n",
      "other            15\n",
      "video             6\n",
      "presentation      5\n",
      "Name: type, dtype: int64\n"
     ]
    }
   ],
   "source": [
    "dt = df['type'].value_counts()\n",
    "dt.max()\n",
    "type(dt)\n",
    "print(dt)"
   ]
  },
  {
   "cell_type": "code",
   "execution_count": 77,
   "metadata": {},
   "outputs": [
    {
     "data": {
      "text/plain": [
       "1    165\n",
       "0    107\n",
       "2      1\n",
       "Name: rel_id, dtype: int64"
      ]
     },
     "execution_count": 77,
     "metadata": {},
     "output_type": "execute_result"
    }
   ],
   "source": [
    "df['rel_id'].value_counts()"
   ]
  },
  {
   "cell_type": "code",
   "execution_count": 46,
   "metadata": {},
   "outputs": [
    {
     "data": {
      "text/html": [
       "<div>\n",
       "<style scoped>\n",
       "    .dataframe tbody tr th:only-of-type {\n",
       "        vertical-align: middle;\n",
       "    }\n",
       "\n",
       "    .dataframe tbody tr th {\n",
       "        vertical-align: top;\n",
       "    }\n",
       "\n",
       "    .dataframe thead th {\n",
       "        text-align: right;\n",
       "    }\n",
       "</style>\n",
       "<table border=\"1\" class=\"dataframe\">\n",
       "  <thead>\n",
       "    <tr style=\"text-align: right;\">\n",
       "      <th></th>\n",
       "      <th>license</th>\n",
       "      <th>rel_id</th>\n",
       "      <th>pub_date</th>\n",
       "      <th>Access_Right</th>\n",
       "      <th>Downloads</th>\n",
       "      <th>unique_downloads</th>\n",
       "      <th>unique_views</th>\n",
       "      <th>views</th>\n",
       "      <th>isreferencedby</th>\n",
       "      <th>doi</th>\n",
       "    </tr>\n",
       "    <tr>\n",
       "      <th>type</th>\n",
       "      <th></th>\n",
       "      <th></th>\n",
       "      <th></th>\n",
       "      <th></th>\n",
       "      <th></th>\n",
       "      <th></th>\n",
       "      <th></th>\n",
       "      <th></th>\n",
       "      <th></th>\n",
       "      <th></th>\n",
       "    </tr>\n",
       "  </thead>\n",
       "  <tbody>\n",
       "    <tr>\n",
       "      <td>dataset</td>\n",
       "      <td>NaN</td>\n",
       "      <td>2</td>\n",
       "      <td>2021-08-12</td>\n",
       "      <td>restricted</td>\n",
       "      <td>2223</td>\n",
       "      <td>912</td>\n",
       "      <td>699</td>\n",
       "      <td>851</td>\n",
       "      <td>2</td>\n",
       "      <td>https://doi.org/10.14278/rodare.998</td>\n",
       "    </tr>\n",
       "    <tr>\n",
       "      <td>image</td>\n",
       "      <td>NaN</td>\n",
       "      <td>1</td>\n",
       "      <td>2021-08-05</td>\n",
       "      <td>open</td>\n",
       "      <td>433</td>\n",
       "      <td>250</td>\n",
       "      <td>412</td>\n",
       "      <td>504</td>\n",
       "      <td>1</td>\n",
       "      <td>https://doi.org/10.14278/rodare.966</td>\n",
       "    </tr>\n",
       "    <tr>\n",
       "      <td>other</td>\n",
       "      <td>NaN</td>\n",
       "      <td>1</td>\n",
       "      <td>2021-08-16</td>\n",
       "      <td>restricted</td>\n",
       "      <td>91</td>\n",
       "      <td>51</td>\n",
       "      <td>193</td>\n",
       "      <td>232</td>\n",
       "      <td>1</td>\n",
       "      <td>https://doi.org/10.14278/rodare.920</td>\n",
       "    </tr>\n",
       "    <tr>\n",
       "      <td>presentation</td>\n",
       "      <td>CC-BY-4.0</td>\n",
       "      <td>0</td>\n",
       "      <td>2020-01-14</td>\n",
       "      <td>open</td>\n",
       "      <td>284</td>\n",
       "      <td>231</td>\n",
       "      <td>468</td>\n",
       "      <td>614</td>\n",
       "      <td>0</td>\n",
       "      <td>https://doi.org/10.14278/rodare.71</td>\n",
       "    </tr>\n",
       "    <tr>\n",
       "      <td>software</td>\n",
       "      <td>NaN</td>\n",
       "      <td>1</td>\n",
       "      <td>2021-08-17</td>\n",
       "      <td>restricted</td>\n",
       "      <td>120</td>\n",
       "      <td>59</td>\n",
       "      <td>416</td>\n",
       "      <td>569</td>\n",
       "      <td>1</td>\n",
       "      <td>https://doi.org/10.14278/rodare.992</td>\n",
       "    </tr>\n",
       "    <tr>\n",
       "      <td>video</td>\n",
       "      <td>CC-BY-4.0</td>\n",
       "      <td>1</td>\n",
       "      <td>2021-04-22</td>\n",
       "      <td>open</td>\n",
       "      <td>91</td>\n",
       "      <td>46</td>\n",
       "      <td>107</td>\n",
       "      <td>170</td>\n",
       "      <td>1</td>\n",
       "      <td>https://doi.org/10.14278/rodare.952</td>\n",
       "    </tr>\n",
       "  </tbody>\n",
       "</table>\n",
       "</div>"
      ],
      "text/plain": [
       "                license  rel_id    pub_date Access_Right  Downloads  \\\n",
       "type                                                                  \n",
       "dataset             NaN       2  2021-08-12   restricted       2223   \n",
       "image               NaN       1  2021-08-05         open        433   \n",
       "other               NaN       1  2021-08-16   restricted         91   \n",
       "presentation  CC-BY-4.0       0  2020-01-14         open        284   \n",
       "software            NaN       1  2021-08-17   restricted        120   \n",
       "video         CC-BY-4.0       1  2021-04-22         open         91   \n",
       "\n",
       "              unique_downloads  unique_views  views  isreferencedby  \\\n",
       "type                                                                  \n",
       "dataset                    912           699    851               2   \n",
       "image                      250           412    504               1   \n",
       "other                       51           193    232               1   \n",
       "presentation               231           468    614               0   \n",
       "software                    59           416    569               1   \n",
       "video                       46           107    170               1   \n",
       "\n",
       "                                              doi  \n",
       "type                                               \n",
       "dataset       https://doi.org/10.14278/rodare.998  \n",
       "image         https://doi.org/10.14278/rodare.966  \n",
       "other         https://doi.org/10.14278/rodare.920  \n",
       "presentation   https://doi.org/10.14278/rodare.71  \n",
       "software      https://doi.org/10.14278/rodare.992  \n",
       "video         https://doi.org/10.14278/rodare.952  "
      ]
     },
     "execution_count": 46,
     "metadata": {},
     "output_type": "execute_result"
    }
   ],
   "source": [
    "df.groupby(['type']).max()"
   ]
  },
  {
   "cell_type": "code",
   "execution_count": 47,
   "metadata": {},
   "outputs": [
    {
     "data": {
      "text/plain": [
       "license\n",
       "CC-BY-1.0         4\n",
       "CC-BY-4.0        88\n",
       "CC-BY-NC-4.0      8\n",
       "CC-BY-SA-4.0      3\n",
       "NaN             104\n",
       "dtype: int64"
      ]
     },
     "execution_count": 47,
     "metadata": {},
     "output_type": "execute_result"
    }
   ],
   "source": [
    "#Reduzierung der Datengrundlage und dort Werte ausgeben\n",
    "df[df['type']=='dataset'].groupby(['license']).size()"
   ]
  },
  {
   "cell_type": "code",
   "execution_count": 48,
   "metadata": {},
   "outputs": [
    {
     "data": {
      "text/plain": [
       "type                207\n",
       "license             207\n",
       "rel_id              207\n",
       "pub_date            207\n",
       "Access_Right        207\n",
       "Downloads           207\n",
       "unique_downloads    207\n",
       "unique_views        207\n",
       "views               207\n",
       "isreferencedby      207\n",
       "doi                 207\n",
       "dtype: int64"
      ]
     },
     "execution_count": 48,
     "metadata": {},
     "output_type": "execute_result"
    }
   ],
   "source": [
    "df[df['type']=='dataset'].count()"
   ]
  },
  {
   "cell_type": "code",
   "execution_count": 49,
   "metadata": {},
   "outputs": [
    {
     "data": {
      "text/plain": [
       "129.40739670230204"
      ]
     },
     "execution_count": 49,
     "metadata": {},
     "output_type": "execute_result"
    }
   ],
   "source": [
    "df['views'].std()"
   ]
  },
  {
   "cell_type": "code",
   "execution_count": 50,
   "metadata": {},
   "outputs": [
    {
     "data": {
      "text/plain": [
       "2223"
      ]
     },
     "execution_count": 50,
     "metadata": {},
     "output_type": "execute_result"
    }
   ],
   "source": [
    "df['Downloads'].max()"
   ]
  },
  {
   "cell_type": "code",
   "execution_count": 51,
   "metadata": {},
   "outputs": [
    {
     "data": {
      "text/plain": [
       "type         dataset\n",
       "license    CC-BY-4.0\n",
       "Name: 54, dtype: object"
      ]
     },
     "execution_count": 51,
     "metadata": {},
     "output_type": "execute_result"
    }
   ],
   "source": [
    "df.iloc[df.Downloads.idxmax(), 0:2]"
   ]
  },
  {
   "cell_type": "code",
   "execution_count": 52,
   "metadata": {},
   "outputs": [
    {
     "name": "stdout",
     "output_type": "stream",
     "text": [
      "                                    doi\n",
      "54  https://doi.org/10.14278/rodare.915\n"
     ]
    }
   ],
   "source": [
    "# https://www.it-swarm.com.de/de/python/ermitteln-sie-den-maximalen-wert-einer-spalte-und-geben-sie-die-entsprechenden-zeilenwerte-mit-pandas-zurueck/1072494383/\n",
    "print(df[['doi']][df.Downloads == df.Downloads.max()])"
   ]
  },
  {
   "cell_type": "code",
   "execution_count": 53,
   "metadata": {},
   "outputs": [
    {
     "data": {
      "text/plain": [
       "0"
      ]
     },
     "execution_count": 53,
     "metadata": {},
     "output_type": "execute_result"
    }
   ],
   "source": [
    "df['Downloads'].min()"
   ]
  },
  {
   "cell_type": "code",
   "execution_count": 54,
   "metadata": {},
   "outputs": [
    {
     "data": {
      "text/plain": [
       "'2021-08-17'"
      ]
     },
     "execution_count": 54,
     "metadata": {},
     "output_type": "execute_result"
    }
   ],
   "source": [
    "df['pub_date'].max()"
   ]
  },
  {
   "cell_type": "code",
   "execution_count": 55,
   "metadata": {},
   "outputs": [
    {
     "data": {
      "text/plain": [
       "0.4424857320245839"
      ]
     },
     "execution_count": 55,
     "metadata": {},
     "output_type": "execute_result"
    }
   ],
   "source": [
    "df['Downloads'].corr(df['views'])"
   ]
  },
  {
   "cell_type": "code",
   "execution_count": 56,
   "metadata": {},
   "outputs": [
    {
     "data": {
      "text/plain": [
       "139.3846153846154"
      ]
     },
     "execution_count": 56,
     "metadata": {},
     "output_type": "execute_result"
    }
   ],
   "source": [
    "df['views'].mean()"
   ]
  },
  {
   "cell_type": "code",
   "execution_count": 57,
   "metadata": {},
   "outputs": [
    {
     "data": {
      "text/plain": [
       "106.0"
      ]
     },
     "execution_count": 57,
     "metadata": {},
     "output_type": "execute_result"
    }
   ],
   "source": [
    "df['views'].median()"
   ]
  },
  {
   "cell_type": "code",
   "execution_count": 58,
   "metadata": {},
   "outputs": [],
   "source": [
    "# Nur den Mittelwert etc. eines bestimmten Zetabschnittes errechnen lassen?\n",
    "# Wie eine Printausgabe in eine Datei schreiben lassen bei Ausführung des Programmes?"
   ]
  },
  {
   "cell_type": "code",
   "execution_count": 72,
   "metadata": {},
   "outputs": [
    {
     "data": {
      "image/png": "[encoded data removed]",
      "text/plain": [
       "<Figure size 432x288 with 1 Axes>"
      ]
     },
     "metadata": {},
     "output_type": "display_data"
    }
   ],
   "source": [
    "fig1, ax1 = plt.subplots()\n",
    "ax1.pie(df['rel_id'],\n",
    "        autopct='%1.1f%%',\n",
    "        shadow=True, \n",
    "        startangle=90)\n",
    "ax1.axis('equal')\n",
    "plt.show()"
   ]
  },
  {
   "cell_type": "code",
   "execution_count": 59,
   "metadata": {},
   "outputs": [
    {
     "data": {
      "text/plain": [
       "<seaborn.axisgrid.FacetGrid at 0x21d4a11e1c8>"
      ]
     },
     "execution_count": 59,
     "metadata": {},
     "output_type": "execute_result"
    },
    {
     "data": {
      "image/png": "[encoded data removed]",
      "text/plain": [
       "<Figure size 360x360 with 1 Axes>"
      ]
     },
     "metadata": {
      "needs_background": "light"
     },
     "output_type": "display_data"
    }
   ],
   "source": [
    "sns.relplot(x='type', y='license', data=df)"
   ]
  },
  {
   "cell_type": "code",
   "execution_count": 60,
   "metadata": {},
   "outputs": [],
   "source": [
    "#plt.savefig('../type_license.png', dpi=150)"
   ]
  },
  {
   "cell_type": "code",
   "execution_count": 61,
   "metadata": {},
   "outputs": [
    {
     "data": {
      "text/plain": [
       "<seaborn.axisgrid.FacetGrid at 0x21d4a47afc8>"
      ]
     },
     "execution_count": 61,
     "metadata": {},
     "output_type": "execute_result"
    },
    {
     "data": {
      "image/png": "[encoded data removed]",
      "text/plain": [
       "<Figure size 360x360 with 1 Axes>"
      ]
     },
     "metadata": {
      "needs_background": "light"
     },
     "output_type": "display_data"
    }
   ],
   "source": [
    "sns.relplot(y='type', x='Downloads', data=df)"
   ]
  },
  {
   "cell_type": "code",
   "execution_count": 62,
   "metadata": {},
   "outputs": [
    {
     "data": {
      "text/plain": [
       "<seaborn.axisgrid.FacetGrid at 0x21d4a4efd88>"
      ]
     },
     "execution_count": 62,
     "metadata": {},
     "output_type": "execute_result"
    },
    {
     "data": {
      "image/png": "[encoded data removed]",
      "text/plain": [
       "<Figure size 360x360 with 1 Axes>"
      ]
     },
     "metadata": {
      "needs_background": "light"
     },
     "output_type": "display_data"
    }
   ],
   "source": [
    "sns.relplot(y='type', x='views', data=df)"
   ]
  },
  {
   "cell_type": "code",
   "execution_count": 63,
   "metadata": {},
   "outputs": [
    {
     "data": {
      "text/plain": [
       "<seaborn.axisgrid.FacetGrid at 0x21d4a0c0188>"
      ]
     },
     "execution_count": 63,
     "metadata": {},
     "output_type": "execute_result"
    },
    {
     "data": {
      "image/png": "[encoded data removed]",
      "text/plain": [
       "<Figure size 1174.1x360 with 1 Axes>"
      ]
     },
     "metadata": {
      "needs_background": "light"
     },
     "output_type": "display_data"
    }
   ],
   "source": [
    "#Problem: Wie kann ich hier nur bestimmte Daten zb 2021 in die Darstellung einbringen?\n",
    "sns.relplot(x='pub_date', y='type', \n",
    "            size='Downloads',\n",
    "            #row='license', \n",
    "            #col='license', \n",
    "            data=df,\n",
    "            height=5, aspect=3)"
   ]
  },
  {
   "cell_type": "code",
   "execution_count": 64,
   "metadata": {},
   "outputs": [
    {
     "data": {
      "text/plain": [
       "<seaborn.axisgrid.FacetGrid at 0x21d4ae57508>"
      ]
     },
     "execution_count": 64,
     "metadata": {},
     "output_type": "execute_result"
    },
    {
     "data": {
      "image/png": "[encoded data removed]",
      "text/plain": [
       "<Figure size 1080x360 with 1 Axes>"
      ]
     },
     "metadata": {
      "needs_background": "light"
     },
     "output_type": "display_data"
    }
   ],
   "source": [
    "sns.catplot(x='pub_date',\n",
    "            data=df, kind='count', color=\"steelblue\", height=5, aspect=3)"
   ]
  },
  {
   "cell_type": "code",
   "execution_count": 65,
   "metadata": {},
   "outputs": [
    {
     "data": {
      "text/plain": [
       "[<matplotlib.lines.Line2D at 0x21d4b7a5c48>]"
      ]
     },
     "execution_count": 65,
     "metadata": {},
     "output_type": "execute_result"
    },
    {
     "data": {
      "image/png": "[encoded data removed]",
      "text/plain": [
       "<Figure size 432x288 with 1 Axes>"
      ]
     },
     "metadata": {
      "needs_background": "light"
     },
     "output_type": "display_data"
    }
   ],
   "source": [
    "plt.plot(df['pub_date'][df['pub_date'] >= '2021-06-01'], df['views'][df['pub_date'] >= '2021-06-01'], color='#4870a0', marker='o')"
   ]
  },
  {
   "cell_type": "code",
   "execution_count": 66,
   "metadata": {},
   "outputs": [],
   "source": [
    "#plt.plot(df['pub_date'][date_filter], df['views'][date_filter], color='#4870a0', marker='o')"
   ]
  },
  {
   "cell_type": "code",
   "execution_count": 67,
   "metadata": {},
   "outputs": [
    {
     "data": {
      "text/plain": [
       "[<matplotlib.lines.Line2D at 0x21d4a0cc588>]"
      ]
     },
     "execution_count": 67,
     "metadata": {},
     "output_type": "execute_result"
    },
    {
     "data": {
      "image/png": "[encoded data removed]",
      "text/plain": [
       "<Figure size 432x288 with 1 Axes>"
      ]
     },
     "metadata": {
      "needs_background": "light"
     },
     "output_type": "display_data"
    }
   ],
   "source": [
    "start_date = '2021-01-01'\n",
    "plt.plot(df['pub_date'][df['pub_date'] >= start_date], df['views'][df['pub_date'] >= start_date], color='#4870a0', marker='o')"
   ]
  },
  {
   "cell_type": "code",
   "execution_count": 69,
   "metadata": {},
   "outputs": [
    {
     "data": {
      "text/plain": [
       "[<matplotlib.collections.PolyCollection at 0x21d4ba53f88>,\n",
       " <matplotlib.collections.PolyCollection at 0x21d4ba59d48>]"
      ]
     },
     "execution_count": 69,
     "metadata": {},
     "output_type": "execute_result"
    },
    {
     "data": {
      "image/png": "[encoded data removed]",
      "text/plain": [
       "<Figure size 432x288 with 1 Axes>"
      ]
     },
     "metadata": {
      "needs_background": "light"
     },
     "output_type": "display_data"
    }
   ],
   "source": [
    "plt.stackplot(df['pub_date'], \n",
    "              df['unique_views'], \n",
    "              df['views'],\n",
    "              alpha=0.75,\n",
    "              colors=['#7289da','#f29fa9'],\n",
    "              labels=['unique_views', 'views'])"
   ]
  },
  {
   "cell_type": "code",
   "execution_count": null,
   "metadata": {},
   "outputs": [],
   "source": [
    "# Verteilung der Downloadzahlen pro Access-Recht\n",
    "df.groupby(['Access_Right','Downloads']).sum()"
   ]
  },
  {
   "cell_type": "code",
   "execution_count": null,
   "metadata": {},
   "outputs": [],
   "source": [
    "# graphische Darstellung der Views je Record in chronologischer Reihenfolge für bestimmten Zeitraum\n",
    "start_date = '2021-01-01'\n",
    "view_rec = plt.plot(df['pub_date'][df['pub_date'] >= start_date], \n",
    "         df['views'][df['pub_date'] >= start_date],\n",
    "         color='#4870a0',\n",
    "         marker='o')\n",
    "# Dreht Achsenbeschriftung\n",
    "plt.gcf().autofmt_xdate()\n",
    "plt.xticks(np.arange(start_date, aktuellesDatum, step=1))\n",
    "plt.savefig(\"./Pictures/Verteilung_Views_2021.png\", dpi=300)"
   ]
  },
  {
   "cell_type": "code",
   "execution_count": null,
   "metadata": {},
   "outputs": [],
   "source": [
    "type(np.arange(start_date, aktuellesDatum, timedelta(days=7))[0])"
   ]
  },
  {
   "cell_type": "code",
   "execution_count": null,
   "metadata": {},
   "outputs": [],
   "source": [
    "jetzt = datetime.now()"
   ]
  },
  {
   "cell_type": "code",
   "execution_count": null,
   "metadata": {},
   "outputs": [],
   "source": [
    "print(jetzt.strftime('%Y-%m-%d'))"
   ]
  },
  {
   "cell_type": "code",
   "execution_count": null,
   "metadata": {},
   "outputs": [],
   "source": [
    "type(np.array([[x.strftime('%Y-%m-%d') for x in np.arange(start_date, aktuellesDatum, timedelta(days=7)).astype(datetime)]]))"
   ]
  },
  {
   "cell_type": "code",
   "execution_count": null,
   "metadata": {},
   "outputs": [],
   "source": [
    "type(plt.xticks(np.arange(start_date, aktuellesDatum, timedelta(days=20))))"
   ]
  },
  {
   "cell_type": "code",
   "execution_count": null,
   "metadata": {},
   "outputs": [],
   "source": []
  }
 ],
 "metadata": {
  "kernelspec": {
   "display_name": "Python 3",
   "language": "python",
   "name": "python3"
  },
  "language_info": {
   "codemirror_mode": {
    "name": "ipython",
    "version": 3
   },
   "file_extension": ".py",
   "mimetype": "text/x-python",
   "name": "python",
   "nbconvert_exporter": "python",
   "pygments_lexer": "ipython3",
   "version": "3.7.4"
  }
 },
 "nbformat": 4,
 "nbformat_minor": 2
}
